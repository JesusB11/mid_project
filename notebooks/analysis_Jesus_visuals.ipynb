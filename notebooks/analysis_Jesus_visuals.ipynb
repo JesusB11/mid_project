{
 "cells": [
  {
   "cell_type": "code",
   "execution_count": 1,
   "id": "bf57ad79",
   "metadata": {},
   "outputs": [],
   "source": [
    "import pandas as pd\n",
    "_24=pd.read_csv(r'../data/clean/spotify_European_top50_2024.csv')\n",
    "_21=pd.read_csv(r'../data/clean/spotify_European_top50_2021.csv')"
   ]
  },
  {
   "cell_type": "code",
   "execution_count": 8,
   "id": "65270ac7",
   "metadata": {},
   "outputs": [
    {
     "data": {
      "application/vnd.microsoft.datawrangler.viewer.v0+json": {
       "columns": [
        {
         "name": "index",
         "rawType": "int64",
         "type": "integer"
        },
        {
         "name": "Country",
         "rawType": "object",
         "type": "string"
        },
        {
         "name": "Spotify_id",
         "rawType": "object",
         "type": "string"
        },
        {
         "name": "Song_title",
         "rawType": "object",
         "type": "string"
        },
        {
         "name": "Artist",
         "rawType": "object",
         "type": "string"
        },
        {
         "name": "Date",
         "rawType": "object",
         "type": "string"
        },
        {
         "name": "Daily_rank_2021",
         "rawType": "int64",
         "type": "integer"
        }
       ],
       "ref": "209badfe-5755-4fba-b98b-f1c43de9d1de",
       "rows": [
        [
         "0",
         "Spain",
         "https://open.spotify.com/track/4bF2y8rR7GUjrd5LNEvej3",
         "París",
         "Ingratax",
         "2021-09-10",
         "27"
        ],
        [
         "1",
         "Iceland",
         "https://open.spotify.com/track/5Z9KJZvQzH6PFmb8SNkxuk",
         "INDUSTRY BABY (feat. Jack Harlow)",
         "Lil Nas X",
         "2021-09-18",
         "1"
        ],
        [
         "2",
         "Iceland",
         "https://open.spotify.com/track/5PjdY0CKGZdEuoNab3yDmX",
         "STAY (with Justin Bieber)",
         "The Kid LAROI",
         "2021-09-18",
         "2"
        ],
        [
         "3",
         "Iceland",
         "https://open.spotify.com/track/0RbW8kWozrVSIGb4V13o0o",
         "Hurricane",
         "Kanye West",
         "2021-09-18",
         "3"
        ],
        [
         "4",
         "Iceland",
         "https://open.spotify.com/track/6PQ88X9TkUIAUIZJHW2upE",
         "Bad Habits",
         "Ed Sheeran",
         "2021-09-18",
         "4"
        ]
       ],
       "shape": {
        "columns": 6,
        "rows": 5
       }
      },
      "text/html": [
       "<div>\n",
       "<style scoped>\n",
       "    .dataframe tbody tr th:only-of-type {\n",
       "        vertical-align: middle;\n",
       "    }\n",
       "\n",
       "    .dataframe tbody tr th {\n",
       "        vertical-align: top;\n",
       "    }\n",
       "\n",
       "    .dataframe thead th {\n",
       "        text-align: right;\n",
       "    }\n",
       "</style>\n",
       "<table border=\"1\" class=\"dataframe\">\n",
       "  <thead>\n",
       "    <tr style=\"text-align: right;\">\n",
       "      <th></th>\n",
       "      <th>Country</th>\n",
       "      <th>Spotify_id</th>\n",
       "      <th>Song_title</th>\n",
       "      <th>Artist</th>\n",
       "      <th>Date</th>\n",
       "      <th>Daily_rank_2021</th>\n",
       "    </tr>\n",
       "  </thead>\n",
       "  <tbody>\n",
       "    <tr>\n",
       "      <th>0</th>\n",
       "      <td>Spain</td>\n",
       "      <td>https://open.spotify.com/track/4bF2y8rR7GUjrd5...</td>\n",
       "      <td>París</td>\n",
       "      <td>Ingratax</td>\n",
       "      <td>2021-09-10</td>\n",
       "      <td>27</td>\n",
       "    </tr>\n",
       "    <tr>\n",
       "      <th>1</th>\n",
       "      <td>Iceland</td>\n",
       "      <td>https://open.spotify.com/track/5Z9KJZvQzH6PFmb...</td>\n",
       "      <td>INDUSTRY BABY (feat. Jack Harlow)</td>\n",
       "      <td>Lil Nas X</td>\n",
       "      <td>2021-09-18</td>\n",
       "      <td>1</td>\n",
       "    </tr>\n",
       "    <tr>\n",
       "      <th>2</th>\n",
       "      <td>Iceland</td>\n",
       "      <td>https://open.spotify.com/track/5PjdY0CKGZdEuoN...</td>\n",
       "      <td>STAY (with Justin Bieber)</td>\n",
       "      <td>The Kid LAROI</td>\n",
       "      <td>2021-09-18</td>\n",
       "      <td>2</td>\n",
       "    </tr>\n",
       "    <tr>\n",
       "      <th>3</th>\n",
       "      <td>Iceland</td>\n",
       "      <td>https://open.spotify.com/track/0RbW8kWozrVSIGb...</td>\n",
       "      <td>Hurricane</td>\n",
       "      <td>Kanye West</td>\n",
       "      <td>2021-09-18</td>\n",
       "      <td>3</td>\n",
       "    </tr>\n",
       "    <tr>\n",
       "      <th>4</th>\n",
       "      <td>Iceland</td>\n",
       "      <td>https://open.spotify.com/track/6PQ88X9TkUIAUIZ...</td>\n",
       "      <td>Bad Habits</td>\n",
       "      <td>Ed Sheeran</td>\n",
       "      <td>2021-09-18</td>\n",
       "      <td>4</td>\n",
       "    </tr>\n",
       "  </tbody>\n",
       "</table>\n",
       "</div>"
      ],
      "text/plain": [
       "   Country                                         Spotify_id  \\\n",
       "0    Spain  https://open.spotify.com/track/4bF2y8rR7GUjrd5...   \n",
       "1  Iceland  https://open.spotify.com/track/5Z9KJZvQzH6PFmb...   \n",
       "2  Iceland  https://open.spotify.com/track/5PjdY0CKGZdEuoN...   \n",
       "3  Iceland  https://open.spotify.com/track/0RbW8kWozrVSIGb...   \n",
       "4  Iceland  https://open.spotify.com/track/6PQ88X9TkUIAUIZ...   \n",
       "\n",
       "                          Song_title         Artist        Date  \\\n",
       "0                              París       Ingratax  2021-09-10   \n",
       "1  INDUSTRY BABY (feat. Jack Harlow)      Lil Nas X  2021-09-18   \n",
       "2          STAY (with Justin Bieber)  The Kid LAROI  2021-09-18   \n",
       "3                          Hurricane     Kanye West  2021-09-18   \n",
       "4                         Bad Habits     Ed Sheeran  2021-09-18   \n",
       "\n",
       "   Daily_rank_2021  \n",
       "0               27  \n",
       "1                1  \n",
       "2                2  \n",
       "3                3  \n",
       "4                4  "
      ]
     },
     "execution_count": 8,
     "metadata": {},
     "output_type": "execute_result"
    }
   ],
   "source": [
    "_21.head()"
   ]
  },
  {
   "cell_type": "markdown",
   "id": "12cac95e",
   "metadata": {},
   "source": [
    "Searching for top artist in 2021 and finding Billie Eilish ranking 13#"
   ]
  },
  {
   "cell_type": "code",
   "execution_count": 4,
   "id": "5203058e",
   "metadata": {},
   "outputs": [
    {
     "data": {
      "text/html": [
       "<div>\n",
       "<style scoped>\n",
       "    .dataframe tbody tr th:only-of-type {\n",
       "        vertical-align: middle;\n",
       "    }\n",
       "\n",
       "    .dataframe tbody tr th {\n",
       "        vertical-align: top;\n",
       "    }\n",
       "\n",
       "    .dataframe thead th {\n",
       "        text-align: right;\n",
       "    }\n",
       "</style>\n",
       "<table border=\"1\" class=\"dataframe\">\n",
       "  <thead>\n",
       "    <tr style=\"text-align: right;\">\n",
       "      <th></th>\n",
       "      <th>count</th>\n",
       "    </tr>\n",
       "    <tr>\n",
       "      <th>Artist</th>\n",
       "      <th></th>\n",
       "    </tr>\n",
       "  </thead>\n",
       "  <tbody>\n",
       "    <tr>\n",
       "      <th>Maneskin</th>\n",
       "      <td>27553</td>\n",
       "    </tr>\n",
       "    <tr>\n",
       "      <th>Olivia Rodrigo</th>\n",
       "      <td>15806</td>\n",
       "    </tr>\n",
       "    <tr>\n",
       "      <th>Doja Cat</th>\n",
       "      <td>14873</td>\n",
       "    </tr>\n",
       "    <tr>\n",
       "      <th>The Weeknd</th>\n",
       "      <td>14793</td>\n",
       "    </tr>\n",
       "    <tr>\n",
       "      <th>Lil Nas X</th>\n",
       "      <td>14674</td>\n",
       "    </tr>\n",
       "    <tr>\n",
       "      <th>The Kid LAROI</th>\n",
       "      <td>9897</td>\n",
       "    </tr>\n",
       "    <tr>\n",
       "      <th>Ed Sheeran</th>\n",
       "      <td>9790</td>\n",
       "    </tr>\n",
       "    <tr>\n",
       "      <th>Justin Bieber</th>\n",
       "      <td>8950</td>\n",
       "    </tr>\n",
       "    <tr>\n",
       "      <th>Riton, Nightcrawlers</th>\n",
       "      <td>8505</td>\n",
       "    </tr>\n",
       "    <tr>\n",
       "      <th>Masked Wolf</th>\n",
       "      <td>8088</td>\n",
       "    </tr>\n",
       "    <tr>\n",
       "      <th>Shouse</th>\n",
       "      <td>7869</td>\n",
       "    </tr>\n",
       "    <tr>\n",
       "      <th>Dua Lipa</th>\n",
       "      <td>7134</td>\n",
       "    </tr>\n",
       "    <tr>\n",
       "      <th>Billie Eilish</th>\n",
       "      <td>6384</td>\n",
       "    </tr>\n",
       "    <tr>\n",
       "      <th>Tiesto</th>\n",
       "      <td>6276</td>\n",
       "    </tr>\n",
       "    <tr>\n",
       "      <th>Nathan Evans</th>\n",
       "      <td>5922</td>\n",
       "    </tr>\n",
       "  </tbody>\n",
       "</table>\n",
       "</div>"
      ],
      "text/plain": [
       "                      count\n",
       "Artist                     \n",
       "Maneskin              27553\n",
       "Olivia Rodrigo        15806\n",
       "Doja Cat              14873\n",
       "The Weeknd            14793\n",
       "Lil Nas X             14674\n",
       "The Kid LAROI          9897\n",
       "Ed Sheeran             9790\n",
       "Justin Bieber          8950\n",
       "Riton, Nightcrawlers   8505\n",
       "Masked Wolf            8088\n",
       "Shouse                 7869\n",
       "Dua Lipa               7134\n",
       "Billie Eilish          6384\n",
       "Tiesto                 6276\n",
       "Nathan Evans           5922"
      ]
     },
     "metadata": {},
     "output_type": "display_data"
    }
   ],
   "source": [
    "artist=pd.DataFrame(_21['Artist'].value_counts().head(15))\n",
    "display(artist)"
   ]
  },
  {
   "cell_type": "code",
   "execution_count": 14,
   "id": "f1cce4af-681e-4f8f-9e94-bb99dfb04b5a",
   "metadata": {},
   "outputs": [
    {
     "name": "stderr",
     "output_type": "stream",
     "text": [
      "C:\\Users\\jessi\\AppData\\Local\\Temp\\ipykernel_16348\\3545334296.py:9: FutureWarning: \n",
      "\n",
      "The `ci` parameter is deprecated. Use `errorbar=None` for the same effect.\n",
      "\n",
      "  sns.barplot(x=\"Artist\", y=\"count\", data=artist, ci=None)\n"
     ]
    },
    {
     "data": {
      "image/png": "[encoded data removed]",
      "text/plain": [
       "<Figure size 640x480 with 1 Axes>"
      ]
     },
     "metadata": {},
     "output_type": "display_data"
    }
   ],
   "source": [
    "#import seaborn as sns\n",
    "\n",
    "#sns.countplot(x=\"Artist\", data = artist)\n",
    "\n",
    "import seaborn as sns\n",
    "import matplotlib.pyplot as plt\n",
    "\n",
    "sns.barplot(x=\"Artist\", y=\"count\", data=artist, ci=None)\n",
    "\n",
    "plt.ylim(0, 30000)\n",
    "\n",
    "plt.xticks(rotation=45, ha='right')\n",
    "\n",
    "plt.ylabel(\"Amount of days in Top50\")  # Replace \"New Label\" with your desired label\n",
    "\n",
    "plt.show()"
   ]
  },
  {
   "cell_type": "markdown",
   "id": "b5f24473",
   "metadata": {},
   "source": [
    "Searching for top artist in 2021 and finding Billie Eilish ranking 1#"
   ]
  },
  {
   "cell_type": "code",
   "execution_count": 12,
   "id": "7396f6d4",
   "metadata": {},
   "outputs": [
    {
     "data": {
      "text/html": [
       "<div>\n",
       "<style scoped>\n",
       "    .dataframe tbody tr th:only-of-type {\n",
       "        vertical-align: middle;\n",
       "    }\n",
       "\n",
       "    .dataframe tbody tr th {\n",
       "        vertical-align: top;\n",
       "    }\n",
       "\n",
       "    .dataframe thead th {\n",
       "        text-align: right;\n",
       "    }\n",
       "</style>\n",
       "<table border=\"1\" class=\"dataframe\">\n",
       "  <thead>\n",
       "    <tr style=\"text-align: right;\">\n",
       "      <th></th>\n",
       "      <th>count</th>\n",
       "    </tr>\n",
       "    <tr>\n",
       "      <th>Artist</th>\n",
       "      <th></th>\n",
       "    </tr>\n",
       "  </thead>\n",
       "  <tbody>\n",
       "    <tr>\n",
       "      <th>Billie Eilish</th>\n",
       "      <td>11659</td>\n",
       "    </tr>\n",
       "    <tr>\n",
       "      <th>Sabrina Carpenter</th>\n",
       "      <td>10561</td>\n",
       "    </tr>\n",
       "    <tr>\n",
       "      <th>Benson Boone</th>\n",
       "      <td>8259</td>\n",
       "    </tr>\n",
       "    <tr>\n",
       "      <th>Teddy Swims</th>\n",
       "      <td>7895</td>\n",
       "    </tr>\n",
       "    <tr>\n",
       "      <th>Artemas</th>\n",
       "      <td>6018</td>\n",
       "    </tr>\n",
       "    <tr>\n",
       "      <th>Hozier</th>\n",
       "      <td>4897</td>\n",
       "    </tr>\n",
       "    <tr>\n",
       "      <th>Hafdís Huld</th>\n",
       "      <td>4580</td>\n",
       "    </tr>\n",
       "    <tr>\n",
       "      <th>Linkin Park</th>\n",
       "      <td>3945</td>\n",
       "    </tr>\n",
       "    <tr>\n",
       "      <th>Tate McRae</th>\n",
       "      <td>3679</td>\n",
       "    </tr>\n",
       "    <tr>\n",
       "      <th>Taylor Swift</th>\n",
       "      <td>3662</td>\n",
       "    </tr>\n",
       "    <tr>\n",
       "      <th>Dua Lipa</th>\n",
       "      <td>3557</td>\n",
       "    </tr>\n",
       "    <tr>\n",
       "      <th>cassö, RAYE, D-Block Europe</th>\n",
       "      <td>3459</td>\n",
       "    </tr>\n",
       "    <tr>\n",
       "      <th>Ariana Grande</th>\n",
       "      <td>3430</td>\n",
       "    </tr>\n",
       "    <tr>\n",
       "      <th>Chappell Roan</th>\n",
       "      <td>3369</td>\n",
       "    </tr>\n",
       "    <tr>\n",
       "      <th>Lady Gaga, Bruno Mars</th>\n",
       "      <td>3228</td>\n",
       "    </tr>\n",
       "  </tbody>\n",
       "</table>\n",
       "</div>"
      ],
      "text/plain": [
       "                             count\n",
       "Artist                            \n",
       "Billie Eilish                11659\n",
       "Sabrina Carpenter            10561\n",
       "Benson Boone                  8259\n",
       "Teddy Swims                   7895\n",
       "Artemas                       6018\n",
       "Hozier                        4897\n",
       "Hafdís Huld                   4580\n",
       "Linkin Park                   3945\n",
       "Tate McRae                    3679\n",
       "Taylor Swift                  3662\n",
       "Dua Lipa                      3557\n",
       "cassö, RAYE, D-Block Europe   3459\n",
       "Ariana Grande                 3430\n",
       "Chappell Roan                 3369\n",
       "Lady Gaga, Bruno Mars         3228"
      ]
     },
     "metadata": {},
     "output_type": "display_data"
    }
   ],
   "source": [
    "artist2=pd.DataFrame(_24['Artist'].value_counts().head(15))\n",
    "display(artist2)"
   ]
  },
  {
   "cell_type": "code",
   "execution_count": 15,
   "id": "84e55f3f-8357-4d30-abfe-1ecfc29a80fe",
   "metadata": {},
   "outputs": [
    {
     "name": "stderr",
     "output_type": "stream",
     "text": [
      "C:\\Users\\jessi\\AppData\\Local\\Temp\\ipykernel_16348\\2330040672.py:5: FutureWarning: \n",
      "\n",
      "The `ci` parameter is deprecated. Use `errorbar=None` for the same effect.\n",
      "\n",
      "  sns.barplot(x=\"Artist\", y=\"count\", data=artist2, ci=None)\n"
     ]
    },
    {
     "data": {
      "image/png": "[encoded data removed]",
      "text/plain": [
       "<Figure size 640x480 with 1 Axes>"
      ]
     },
     "metadata": {},
     "output_type": "display_data"
    }
   ],
   "source": [
    "import seaborn as sns\n",
    "import matplotlib.pyplot as plt\n",
    "\n",
    "sns.barplot(x=\"Artist\", y=\"count\", data=artist2, ci=None)\n",
    "\n",
    "plt.ylim(0, 12000)\n",
    "\n",
    "plt.xticks(rotation=45, ha='right')\n",
    "\n",
    "plt.ylabel(\"Amount of days in Top50\")\n",
    "\n",
    "plt.show()"
   ]
  },
  {
   "cell_type": "code",
   "execution_count": 55,
   "id": "064fc74f-7622-4608-a60f-6bd7e45fd505",
   "metadata": {},
   "outputs": [
    {
     "data": {
      "text/html": [
       "<div>\n",
       "<style scoped>\n",
       "    .dataframe tbody tr th:only-of-type {\n",
       "        vertical-align: middle;\n",
       "    }\n",
       "\n",
       "    .dataframe tbody tr th {\n",
       "        vertical-align: top;\n",
       "    }\n",
       "\n",
       "    .dataframe thead th {\n",
       "        text-align: right;\n",
       "    }\n",
       "</style>\n",
       "<table border=\"1\" class=\"dataframe\">\n",
       "  <thead>\n",
       "    <tr style=\"text-align: right;\">\n",
       "      <th></th>\n",
       "      <th>Year</th>\n",
       "      <th>Values</th>\n",
       "    </tr>\n",
       "  </thead>\n",
       "  <tbody>\n",
       "    <tr>\n",
       "      <th>0</th>\n",
       "      <td>2021</td>\n",
       "      <td>6384</td>\n",
       "    </tr>\n",
       "    <tr>\n",
       "      <th>1</th>\n",
       "      <td>2024</td>\n",
       "      <td>11659</td>\n",
       "    </tr>\n",
       "  </tbody>\n",
       "</table>\n",
       "</div>"
      ],
      "text/plain": [
       "   Year  Values\n",
       "0  2021    6384\n",
       "1  2024   11659"
      ]
     },
     "execution_count": 55,
     "metadata": {},
     "output_type": "execute_result"
    }
   ],
   "source": [
    "data = {'2021': [6384], '2024': [11659]}\n",
    "df = pd.DataFrame(data)\n",
    "df = df.T.reset_index()  \n",
    "df.columns = ['Year', 'Values']\n",
    "df"
   ]
  },
  {
   "cell_type": "code",
   "execution_count": 39,
   "id": "384e1249-fad5-4427-9b05-71cfc3f9ab21",
   "metadata": {},
   "outputs": [
    {
     "name": "stderr",
     "output_type": "stream",
     "text": [
      "C:\\Users\\jessi\\AppData\\Local\\Temp\\ipykernel_16348\\3430957288.py:5: FutureWarning: \n",
      "\n",
      "The `ci` parameter is deprecated. Use `errorbar=None` for the same effect.\n",
      "\n",
      "  sns.barplot(x=\"Year\", y=\"Values\", data=df, ci=None)\n"
     ]
    },
    {
     "data": {
      "image/png": "[encoded data removed]",
      "text/plain": [
       "<Figure size 640x480 with 1 Axes>"
      ]
     },
     "metadata": {},
     "output_type": "display_data"
    }
   ],
   "source": [
    "import pandas as pd\n",
    "import seaborn as sns\n",
    "import matplotlib.pyplot as plt\n",
    "\n",
    "sns.barplot(x=\"Year\", y=\"Values\", data=df, ci=None)\n",
    "\n",
    "plt.ylim(0, 12000)\n",
    "plt.xticks(rotation=45, ha='right')\n",
    "plt.ylabel(\"Amount of days in Top50\")\n",
    "\n",
    "plt.show()"
   ]
  },
  {
   "cell_type": "code",
   "execution_count": 46,
   "id": "0a2ec7c1-f991-4f47-b048-b87655c2b0d9",
   "metadata": {},
   "outputs": [
    {
     "data": {
      "text/html": [
       "<div>\n",
       "<style scoped>\n",
       "    .dataframe tbody tr th:only-of-type {\n",
       "        vertical-align: middle;\n",
       "    }\n",
       "\n",
       "    .dataframe tbody tr th {\n",
       "        vertical-align: top;\n",
       "    }\n",
       "\n",
       "    .dataframe thead th {\n",
       "        text-align: right;\n",
       "    }\n",
       "</style>\n",
       "<table border=\"1\" class=\"dataframe\">\n",
       "  <thead>\n",
       "    <tr style=\"text-align: right;\">\n",
       "      <th></th>\n",
       "      <th>2021</th>\n",
       "      <th>2024</th>\n",
       "    </tr>\n",
       "  </thead>\n",
       "  <tbody>\n",
       "    <tr>\n",
       "      <th>0</th>\n",
       "      <td>6384</td>\n",
       "      <td>11659</td>\n",
       "    </tr>\n",
       "  </tbody>\n",
       "</table>\n",
       "</div>"
      ],
      "text/plain": [
       "   2021   2024\n",
       "0  6384  11659"
      ]
     },
     "execution_count": 46,
     "metadata": {},
     "output_type": "execute_result"
    }
   ],
   "source": [
    "data = {'2021': [6384], '2024': [11659]}\n",
    "df2 = pd.DataFrame(data)\n",
    "df2"
   ]
  },
  {
   "cell_type": "code",
   "execution_count": 56,
   "id": "8f2555a7-a5c2-4b33-bbaa-29906827ab88",
   "metadata": {},
   "outputs": [],
   "source": [
    "growth = (((df[\"Values\"][1] - df[\"Values\"][0]) / df[\"Values\"][0]) * 100).round(2)"
   ]
  },
  {
   "cell_type": "code",
   "execution_count": 57,
   "id": "6b487eaa-2ac7-4679-bdf6-a461bf22774c",
   "metadata": {},
   "outputs": [
    {
     "name": "stderr",
     "output_type": "stream",
     "text": [
      "C:\\Users\\jessi\\AppData\\Local\\Temp\\ipykernel_16348\\3579500582.py:1: FutureWarning: \n",
      "\n",
      "The `ci` parameter is deprecated. Use `errorbar=None` for the same effect.\n",
      "\n",
      "  sns.barplot(x=\"Year\", y=\"Values\", data=df, ci=None)\n"
     ]
    },
    {
     "data": {
      "image/png": "[encoded data removed]",
      "text/plain": [
       "<Figure size 640x480 with 1 Axes>"
      ]
     },
     "metadata": {},
     "output_type": "display_data"
    }
   ],
   "source": [
    "\n",
    "sns.barplot(x=\"Year\", y=\"Values\", data=df, ci=None)\n",
    "\n",
    "plt.ylim(0, 12000)\n",
    "plt.xticks(rotation=45, ha='right')\n",
    "plt.ylabel(\"Amount of days in Top50\")\n",
    "\n",
    "plt.text(0.5, 10500, f\"Increase: {growth:.2f}%\", fontsize=12, color='blue', ha='center')\n",
    "\n",
    "plt.show()"
   ]
  },
  {
   "cell_type": "code",
   "execution_count": 69,
   "id": "de609ef6-f9e0-4246-96d1-26682c7bbdb6",
   "metadata": {},
   "outputs": [
    {
     "data": {
      "image/png": "[encoded data removed]",
      "text/plain": [
       "<Figure size 800x600 with 1 Axes>"
      ]
     },
     "metadata": {},
     "output_type": "display_data"
    }
   ],
   "source": [
    "\n",
    "growth_percentage = (((df[\"Values\"][1] - df[\"Values\"][0]) / df[\"Values\"][0]) * 100).round(2)\n",
    "\n",
    "plt.figure(figsize=(8, 6))\n",
    "plt.plot(df['Year'], df['Values'], marker='o', linestyle='-')\n",
    "plt.ylim(0, 14000)  # Set y-axis range if necessary\n",
    "\n",
    "# Annotate the growth percentage on the plot\n",
    "plt.text(0.5, 11000, f\"Growth: {growth_percentage}%\", fontsize=12, color='blue', ha='center')\n",
    "\n",
    "# Rotate x-axis labels if needed and adjust padding\n",
    "plt.xticks(rotation=45, ha='right')\n",
    "plt.tick_params(axis='x', which='major', pad=4)  # Adjust the pad value to control spacing\n",
    "\n",
    "# Set labels\n",
    "plt.xlabel(\"Year\")\n",
    "plt.ylabel(\"Amount of days in Top50\")\n",
    "plt.grid(True)\n",
    "\n",
    "# Display the plot\n",
    "plt.show()"
   ]
  },
  {
   "cell_type": "markdown",
   "id": "cbdd3414",
   "metadata": {},
   "source": [
    "Top 5 Billie Eilish' songs in 2021"
   ]
  },
  {
   "cell_type": "code",
   "execution_count": 82,
   "id": "d04fbcc9",
   "metadata": {},
   "outputs": [
    {
     "data": {
      "application/vnd.microsoft.datawrangler.viewer.v0+json": {
       "columns": [
        {
         "name": "Song_title",
         "rawType": "object",
         "type": "string"
        },
        {
         "name": "count",
         "rawType": "int64",
         "type": "integer"
        }
       ],
       "ref": "95090032-40f9-4346-b904-440a7b2a0e3b",
       "rows": [
        [
         "Happier Than Ever",
         "2671"
        ],
        [
         "Therefore I Am",
         "1307"
        ],
        [
         "Your Power",
         "642"
        ],
        [
         "NDA",
         "519"
        ],
        [
         "Lost Cause",
         "327"
        ]
       ],
       "shape": {
        "columns": 1,
        "rows": 5
       }
      },
      "text/plain": [
       "Song_title\n",
       "Happier Than Ever    2671\n",
       "Therefore I Am       1307\n",
       "Your Power            642\n",
       "NDA                   519\n",
       "Lost Cause            327\n",
       "Name: count, dtype: int64"
      ]
     },
     "execution_count": 82,
     "metadata": {},
     "output_type": "execute_result"
    }
   ],
   "source": [
    "song=_21[_21['Artist']== \"Billie Eilish\"]\n",
    "song['Song_title'].value_counts().head(5)"
   ]
  },
  {
   "cell_type": "code",
   "execution_count": 63,
   "id": "e0ce2b4d",
   "metadata": {},
   "outputs": [
    {
     "data": {
      "application/vnd.microsoft.datawrangler.viewer.v0+json": {
       "columns": [
        {
         "name": "index",
         "rawType": "int64",
         "type": "integer"
        },
        {
         "name": "Country",
         "rawType": "object",
         "type": "string"
        },
        {
         "name": "Spotify_id",
         "rawType": "object",
         "type": "string"
        },
        {
         "name": "Song_title",
         "rawType": "object",
         "type": "string"
        },
        {
         "name": "Artist",
         "rawType": "object",
         "type": "string"
        },
        {
         "name": "Date",
         "rawType": "object",
         "type": "string"
        },
        {
         "name": "Daily_rank_2021",
         "rawType": "int64",
         "type": "integer"
        }
       ],
       "ref": "595adebb-ad61-40eb-aaa4-3c25dc5a7856",
       "rows": [
        [
         "125202",
         "Austria",
         "https://open.spotify.com/track/4RVwu0g32PAqgUiJoXsdF8",
         "Happier Than Ever",
         "Billie Eilish",
         "2021-07-30",
         "14"
        ],
        [
         "125249",
         "Belgium",
         "https://open.spotify.com/track/4RVwu0g32PAqgUiJoXsdF8",
         "Happier Than Ever",
         "Billie Eilish",
         "2021-07-30",
         "11"
        ],
        [
         "125647",
         "Bulgaria",
         "https://open.spotify.com/track/4RVwu0g32PAqgUiJoXsdF8",
         "Happier Than Ever",
         "Billie Eilish",
         "2021-07-30",
         "9"
        ],
        [
         "125962",
         "Czech Republic",
         "https://open.spotify.com/track/4RVwu0g32PAqgUiJoXsdF8",
         "Happier Than Ever",
         "Billie Eilish",
         "2021-07-30",
         "24"
        ],
        [
         "126014",
         "Denmark",
         "https://open.spotify.com/track/4RVwu0g32PAqgUiJoXsdF8",
         "Happier Than Ever",
         "Billie Eilish",
         "2021-07-30",
         "25"
        ],
        [
         "126444",
         "Estonia",
         "https://open.spotify.com/track/4RVwu0g32PAqgUiJoXsdF8",
         "Happier Than Ever",
         "Billie Eilish",
         "2021-07-30",
         "6"
        ],
        [
         "126499",
         "Finland",
         "https://open.spotify.com/track/4RVwu0g32PAqgUiJoXsdF8",
         "Happier Than Ever",
         "Billie Eilish",
         "2021-07-30",
         "11"
        ],
        [
         "127021",
         "Germany",
         "https://open.spotify.com/track/4RVwu0g32PAqgUiJoXsdF8",
         "Happier Than Ever",
         "Billie Eilish",
         "2021-07-30",
         "27"
        ],
        [
         "127202",
         "Greece",
         "https://open.spotify.com/track/4RVwu0g32PAqgUiJoXsdF8",
         "Happier Than Ever",
         "Billie Eilish",
         "2021-07-30",
         "14"
        ],
        [
         "127676",
         "Hungary",
         "https://open.spotify.com/track/4RVwu0g32PAqgUiJoXsdF8",
         "Happier Than Ever",
         "Billie Eilish",
         "2021-07-30",
         "23"
        ],
        [
         "127767",
         "Iceland",
         "https://open.spotify.com/track/4RVwu0g32PAqgUiJoXsdF8",
         "Happier Than Ever",
         "Billie Eilish",
         "2021-07-30",
         "14"
        ],
        [
         "127996",
         "Ireland",
         "https://open.spotify.com/track/4RVwu0g32PAqgUiJoXsdF8",
         "Happier Than Ever",
         "Billie Eilish",
         "2021-07-30",
         "8"
        ],
        [
         "128242",
         "Latvia",
         "https://open.spotify.com/track/4RVwu0g32PAqgUiJoXsdF8",
         "Happier Than Ever",
         "Billie Eilish",
         "2021-07-30",
         "4"
        ],
        [
         "128480",
         "Lithuania",
         "https://open.spotify.com/track/4RVwu0g32PAqgUiJoXsdF8",
         "Happier Than Ever",
         "Billie Eilish",
         "2021-07-30",
         "9"
        ],
        [
         "128910",
         "Netherlands",
         "https://open.spotify.com/track/4RVwu0g32PAqgUiJoXsdF8",
         "Happier Than Ever",
         "Billie Eilish",
         "2021-07-30",
         "22"
        ],
        [
         "129099",
         "Norway",
         "https://open.spotify.com/track/4RVwu0g32PAqgUiJoXsdF8",
         "Happier Than Ever",
         "Billie Eilish",
         "2021-07-30",
         "10"
        ],
        [
         "129365",
         "Poland",
         "https://open.spotify.com/track/4RVwu0g32PAqgUiJoXsdF8",
         "Happier Than Ever",
         "Billie Eilish",
         "2021-07-30",
         "31"
        ],
        [
         "130261",
         "Portugal",
         "https://open.spotify.com/track/4RVwu0g32PAqgUiJoXsdF8",
         "Happier Than Ever",
         "Billie Eilish",
         "2021-07-30",
         "10"
        ],
        [
         "130309",
         "Romania",
         "https://open.spotify.com/track/4RVwu0g32PAqgUiJoXsdF8",
         "Happier Than Ever",
         "Billie Eilish",
         "2021-07-30",
         "8"
        ],
        [
         "130908",
         "Slovakia",
         "https://open.spotify.com/track/4RVwu0g32PAqgUiJoXsdF8",
         "Happier Than Ever",
         "Billie Eilish",
         "2021-07-30",
         "19"
        ],
        [
         "131056",
         "Sweden",
         "https://open.spotify.com/track/4RVwu0g32PAqgUiJoXsdF8",
         "Happier Than Ever",
         "Billie Eilish",
         "2021-07-30",
         "17"
        ],
        [
         "131283",
         "Switzerland",
         "https://open.spotify.com/track/4RVwu0g32PAqgUiJoXsdF8",
         "Happier Than Ever",
         "Billie Eilish",
         "2021-07-30",
         "12"
        ],
        [
         "131444",
         "Ukraine",
         "https://open.spotify.com/track/4RVwu0g32PAqgUiJoXsdF8",
         "Happier Than Ever",
         "Billie Eilish",
         "2021-07-30",
         "23"
        ],
        [
         "131496",
         "United Kingdom",
         "https://open.spotify.com/track/4RVwu0g32PAqgUiJoXsdF8",
         "Happier Than Ever",
         "Billie Eilish",
         "2021-07-30",
         "7"
        ],
        [
         "133502",
         "Austria",
         "https://open.spotify.com/track/4RVwu0g32PAqgUiJoXsdF8",
         "Happier Than Ever",
         "Billie Eilish",
         "2021-07-31",
         "13"
        ],
        [
         "133550",
         "Belgium",
         "https://open.spotify.com/track/4RVwu0g32PAqgUiJoXsdF8",
         "Happier Than Ever",
         "Billie Eilish",
         "2021-07-31",
         "11"
        ],
        [
         "134249",
         "Bulgaria",
         "https://open.spotify.com/track/4RVwu0g32PAqgUiJoXsdF8",
         "Happier Than Ever",
         "Billie Eilish",
         "2021-07-31",
         "10"
        ],
        [
         "134712",
         "Czech Republic",
         "https://open.spotify.com/track/4RVwu0g32PAqgUiJoXsdF8",
         "Happier Than Ever",
         "Billie Eilish",
         "2021-07-31",
         "23"
        ],
        [
         "134957",
         "Denmark",
         "https://open.spotify.com/track/4RVwu0g32PAqgUiJoXsdF8",
         "Happier Than Ever",
         "Billie Eilish",
         "2021-07-31",
         "18"
        ],
        [
         "135448",
         "Estonia",
         "https://open.spotify.com/track/4RVwu0g32PAqgUiJoXsdF8",
         "Happier Than Ever",
         "Billie Eilish",
         "2021-07-31",
         "8"
        ],
        [
         "135501",
         "Finland",
         "https://open.spotify.com/track/4RVwu0g32PAqgUiJoXsdF8",
         "Happier Than Ever",
         "Billie Eilish",
         "2021-07-31",
         "11"
        ],
        [
         "135614",
         "Germany",
         "https://open.spotify.com/track/4RVwu0g32PAqgUiJoXsdF8",
         "Happier Than Ever",
         "Billie Eilish",
         "2021-07-31",
         "24"
        ],
        [
         "135656",
         "Greece",
         "https://open.spotify.com/track/4RVwu0g32PAqgUiJoXsdF8",
         "Happier Than Ever",
         "Billie Eilish",
         "2021-07-31",
         "16"
        ],
        [
         "137059",
         "Hungary",
         "https://open.spotify.com/track/4RVwu0g32PAqgUiJoXsdF8",
         "Happier Than Ever",
         "Billie Eilish",
         "2021-07-31",
         "20"
        ],
        [
         "137148",
         "Iceland",
         "https://open.spotify.com/track/4RVwu0g32PAqgUiJoXsdF8",
         "Happier Than Ever",
         "Billie Eilish",
         "2021-07-31",
         "9"
        ],
        [
         "137747",
         "Ireland",
         "https://open.spotify.com/track/4RVwu0g32PAqgUiJoXsdF8",
         "Happier Than Ever",
         "Billie Eilish",
         "2021-07-31",
         "8"
        ],
        [
         "137844",
         "Latvia",
         "https://open.spotify.com/track/4RVwu0g32PAqgUiJoXsdF8",
         "Happier Than Ever",
         "Billie Eilish",
         "2021-07-31",
         "5"
        ],
        [
         "137898",
         "Lithuania",
         "https://open.spotify.com/track/4RVwu0g32PAqgUiJoXsdF8",
         "Happier Than Ever",
         "Billie Eilish",
         "2021-07-31",
         "9"
        ],
        [
         "138347",
         "Netherlands",
         "https://open.spotify.com/track/4RVwu0g32PAqgUiJoXsdF8",
         "Happier Than Ever",
         "Billie Eilish",
         "2021-07-31",
         "24"
        ],
        [
         "138647",
         "Norway",
         "https://open.spotify.com/track/4RVwu0g32PAqgUiJoXsdF8",
         "Happier Than Ever",
         "Billie Eilish",
         "2021-07-31",
         "8"
        ],
        [
         "139221",
         "Poland",
         "https://open.spotify.com/track/4RVwu0g32PAqgUiJoXsdF8",
         "Happier Than Ever",
         "Billie Eilish",
         "2021-07-31",
         "32"
        ],
        [
         "139251",
         "Portugal",
         "https://open.spotify.com/track/4RVwu0g32PAqgUiJoXsdF8",
         "Happier Than Ever",
         "Billie Eilish",
         "2021-07-31",
         "12"
        ],
        [
         "139556",
         "Romania",
         "https://open.spotify.com/track/4RVwu0g32PAqgUiJoXsdF8",
         "Happier Than Ever",
         "Billie Eilish",
         "2021-07-31",
         "9"
        ],
        [
         "140809",
         "Slovakia",
         "https://open.spotify.com/track/4RVwu0g32PAqgUiJoXsdF8",
         "Happier Than Ever",
         "Billie Eilish",
         "2021-07-31",
         "19"
        ],
        [
         "141407",
         "Sweden",
         "https://open.spotify.com/track/4RVwu0g32PAqgUiJoXsdF8",
         "Happier Than Ever",
         "Billie Eilish",
         "2021-07-31",
         "18"
        ],
        [
         "141451",
         "Switzerland",
         "https://open.spotify.com/track/4RVwu0g32PAqgUiJoXsdF8",
         "Happier Than Ever",
         "Billie Eilish",
         "2021-07-31",
         "12"
        ],
        [
         "141771",
         "Ukraine",
         "https://open.spotify.com/track/4RVwu0g32PAqgUiJoXsdF8",
         "Happier Than Ever",
         "Billie Eilish",
         "2021-07-31",
         "30"
        ],
        [
         "142349",
         "United Kingdom",
         "https://open.spotify.com/track/4RVwu0g32PAqgUiJoXsdF8",
         "Happier Than Ever",
         "Billie Eilish",
         "2021-07-31",
         "8"
        ],
        [
         "287150",
         "Austria",
         "https://open.spotify.com/track/4RVwu0g32PAqgUiJoXsdF8",
         "Happier Than Ever",
         "Billie Eilish",
         "2021-08-01",
         "10"
        ],
        [
         "287200",
         "Belgium",
         "https://open.spotify.com/track/4RVwu0g32PAqgUiJoXsdF8",
         "Happier Than Ever",
         "Billie Eilish",
         "2021-08-01",
         "10"
        ]
       ],
       "shape": {
        "columns": 6,
        "rows": 2882
       }
      },
      "text/html": [
       "<div>\n",
       "<style scoped>\n",
       "    .dataframe tbody tr th:only-of-type {\n",
       "        vertical-align: middle;\n",
       "    }\n",
       "\n",
       "    .dataframe tbody tr th {\n",
       "        vertical-align: top;\n",
       "    }\n",
       "\n",
       "    .dataframe thead th {\n",
       "        text-align: right;\n",
       "    }\n",
       "</style>\n",
       "<table border=\"1\" class=\"dataframe\">\n",
       "  <thead>\n",
       "    <tr style=\"text-align: right;\">\n",
       "      <th></th>\n",
       "      <th>Country</th>\n",
       "      <th>Spotify_id</th>\n",
       "      <th>Song_title</th>\n",
       "      <th>Artist</th>\n",
       "      <th>Date</th>\n",
       "      <th>Daily_rank_2021</th>\n",
       "    </tr>\n",
       "  </thead>\n",
       "  <tbody>\n",
       "    <tr>\n",
       "      <th>125202</th>\n",
       "      <td>Austria</td>\n",
       "      <td>https://open.spotify.com/track/4RVwu0g32PAqgUi...</td>\n",
       "      <td>Happier Than Ever</td>\n",
       "      <td>Billie Eilish</td>\n",
       "      <td>2021-07-30</td>\n",
       "      <td>14</td>\n",
       "    </tr>\n",
       "    <tr>\n",
       "      <th>125249</th>\n",
       "      <td>Belgium</td>\n",
       "      <td>https://open.spotify.com/track/4RVwu0g32PAqgUi...</td>\n",
       "      <td>Happier Than Ever</td>\n",
       "      <td>Billie Eilish</td>\n",
       "      <td>2021-07-30</td>\n",
       "      <td>11</td>\n",
       "    </tr>\n",
       "    <tr>\n",
       "      <th>125647</th>\n",
       "      <td>Bulgaria</td>\n",
       "      <td>https://open.spotify.com/track/4RVwu0g32PAqgUi...</td>\n",
       "      <td>Happier Than Ever</td>\n",
       "      <td>Billie Eilish</td>\n",
       "      <td>2021-07-30</td>\n",
       "      <td>9</td>\n",
       "    </tr>\n",
       "    <tr>\n",
       "      <th>125962</th>\n",
       "      <td>Czech Republic</td>\n",
       "      <td>https://open.spotify.com/track/4RVwu0g32PAqgUi...</td>\n",
       "      <td>Happier Than Ever</td>\n",
       "      <td>Billie Eilish</td>\n",
       "      <td>2021-07-30</td>\n",
       "      <td>24</td>\n",
       "    </tr>\n",
       "    <tr>\n",
       "      <th>126014</th>\n",
       "      <td>Denmark</td>\n",
       "      <td>https://open.spotify.com/track/4RVwu0g32PAqgUi...</td>\n",
       "      <td>Happier Than Ever</td>\n",
       "      <td>Billie Eilish</td>\n",
       "      <td>2021-07-30</td>\n",
       "      <td>25</td>\n",
       "    </tr>\n",
       "    <tr>\n",
       "      <th>...</th>\n",
       "      <td>...</td>\n",
       "      <td>...</td>\n",
       "      <td>...</td>\n",
       "      <td>...</td>\n",
       "      <td>...</td>\n",
       "      <td>...</td>\n",
       "    </tr>\n",
       "    <tr>\n",
       "      <th>843318</th>\n",
       "      <td>Romania</td>\n",
       "      <td>https://open.spotify.com/track/4RVwu0g32PAqgUi...</td>\n",
       "      <td>Happier Than Ever</td>\n",
       "      <td>Billie Eilish</td>\n",
       "      <td>2021-08-31</td>\n",
       "      <td>20</td>\n",
       "    </tr>\n",
       "    <tr>\n",
       "      <th>843364</th>\n",
       "      <td>Slovakia</td>\n",
       "      <td>https://open.spotify.com/track/4RVwu0g32PAqgUi...</td>\n",
       "      <td>Happier Than Ever</td>\n",
       "      <td>Billie Eilish</td>\n",
       "      <td>2021-08-31</td>\n",
       "      <td>16</td>\n",
       "    </tr>\n",
       "    <tr>\n",
       "      <th>843429</th>\n",
       "      <td>Spain</td>\n",
       "      <td>https://open.spotify.com/track/4RVwu0g32PAqgUi...</td>\n",
       "      <td>Happier Than Ever</td>\n",
       "      <td>Billie Eilish</td>\n",
       "      <td>2021-08-31</td>\n",
       "      <td>31</td>\n",
       "    </tr>\n",
       "    <tr>\n",
       "      <th>843502</th>\n",
       "      <td>Sweden</td>\n",
       "      <td>https://open.spotify.com/track/4RVwu0g32PAqgUi...</td>\n",
       "      <td>Happier Than Ever</td>\n",
       "      <td>Billie Eilish</td>\n",
       "      <td>2021-08-31</td>\n",
       "      <td>46</td>\n",
       "    </tr>\n",
       "    <tr>\n",
       "      <th>847852</th>\n",
       "      <td>United Kingdom</td>\n",
       "      <td>https://open.spotify.com/track/4RVwu0g32PAqgUi...</td>\n",
       "      <td>Happier Than Ever</td>\n",
       "      <td>Billie Eilish</td>\n",
       "      <td>2021-08-31</td>\n",
       "      <td>26</td>\n",
       "    </tr>\n",
       "  </tbody>\n",
       "</table>\n",
       "<p>2882 rows × 6 columns</p>\n",
       "</div>"
      ],
      "text/plain": [
       "               Country                                         Spotify_id  \\\n",
       "125202         Austria  https://open.spotify.com/track/4RVwu0g32PAqgUi...   \n",
       "125249         Belgium  https://open.spotify.com/track/4RVwu0g32PAqgUi...   \n",
       "125647        Bulgaria  https://open.spotify.com/track/4RVwu0g32PAqgUi...   \n",
       "125962  Czech Republic  https://open.spotify.com/track/4RVwu0g32PAqgUi...   \n",
       "126014         Denmark  https://open.spotify.com/track/4RVwu0g32PAqgUi...   \n",
       "...                ...                                                ...   \n",
       "843318         Romania  https://open.spotify.com/track/4RVwu0g32PAqgUi...   \n",
       "843364        Slovakia  https://open.spotify.com/track/4RVwu0g32PAqgUi...   \n",
       "843429           Spain  https://open.spotify.com/track/4RVwu0g32PAqgUi...   \n",
       "843502          Sweden  https://open.spotify.com/track/4RVwu0g32PAqgUi...   \n",
       "847852  United Kingdom  https://open.spotify.com/track/4RVwu0g32PAqgUi...   \n",
       "\n",
       "               Song_title         Artist        Date  Daily_rank_2021  \n",
       "125202  Happier Than Ever  Billie Eilish  2021-07-30               14  \n",
       "125249  Happier Than Ever  Billie Eilish  2021-07-30               11  \n",
       "125647  Happier Than Ever  Billie Eilish  2021-07-30                9  \n",
       "125962  Happier Than Ever  Billie Eilish  2021-07-30               24  \n",
       "126014  Happier Than Ever  Billie Eilish  2021-07-30               25  \n",
       "...                   ...            ...         ...              ...  \n",
       "843318  Happier Than Ever  Billie Eilish  2021-08-31               20  \n",
       "843364  Happier Than Ever  Billie Eilish  2021-08-31               16  \n",
       "843429  Happier Than Ever  Billie Eilish  2021-08-31               31  \n",
       "843502  Happier Than Ever  Billie Eilish  2021-08-31               46  \n",
       "847852  Happier Than Ever  Billie Eilish  2021-08-31               26  \n",
       "\n",
       "[2882 rows x 6 columns]"
      ]
     },
     "execution_count": 63,
     "metadata": {},
     "output_type": "execute_result"
    }
   ],
   "source": [
    "_21[_21['Song_title']== 'Happier Than Ever']"
   ]
  },
  {
   "cell_type": "code",
   "execution_count": 83,
   "id": "712ae708",
   "metadata": {},
   "outputs": [
    {
     "data": {
      "application/vnd.microsoft.datawrangler.viewer.v0+json": {
       "columns": [
        {
         "name": "Country",
         "rawType": "object",
         "type": "string"
        },
        {
         "name": "count",
         "rawType": "int64",
         "type": "integer"
        }
       ],
       "ref": "2a84e43e-3a63-4b4b-a513-9a96b2302d5c",
       "rows": [
        [
         "Belgium",
         "46"
        ],
        [
         "Latvia",
         "46"
        ],
        [
         "Ireland",
         "37"
        ],
        [
         "Netherlands",
         "37"
        ],
        [
         "Norway",
         "36"
        ]
       ],
       "shape": {
        "columns": 1,
        "rows": 5
       }
      },
      "text/plain": [
       "Country\n",
       "Belgium        46\n",
       "Latvia         46\n",
       "Ireland        37\n",
       "Netherlands    37\n",
       "Norway         36\n",
       "Name: count, dtype: int64"
      ]
     },
     "execution_count": 83,
     "metadata": {},
     "output_type": "execute_result"
    }
   ],
   "source": [
    "BEsong=_21[_21['Song_title']== 'Your Power']\n",
    "BEsong[\"Country\"].value_counts().head(5)"
   ]
  },
  {
   "cell_type": "code",
   "execution_count": 80,
   "id": "b4104c86",
   "metadata": {},
   "outputs": [
    {
     "data": {
      "application/vnd.microsoft.datawrangler.viewer.v0+json": {
       "columns": [
        {
         "name": "Country",
         "rawType": "object",
         "type": "string"
        },
        {
         "name": "count",
         "rawType": "int64",
         "type": "integer"
        }
       ],
       "ref": "e17f3363-0c4a-4f24-ad0e-cce865a07ca8",
       "rows": [
        [
         "Iceland",
         "177"
        ],
        [
         "Portugal",
         "165"
        ],
        [
         "United Kingdom",
         "155"
        ],
        [
         "Ireland",
         "148"
        ],
        [
         "Belgium",
         "144"
        ]
       ],
       "shape": {
        "columns": 1,
        "rows": 5
       }
      },
      "text/plain": [
       "Country\n",
       "Iceland           177\n",
       "Portugal          165\n",
       "United Kingdom    155\n",
       "Ireland           148\n",
       "Belgium           144\n",
       "Name: count, dtype: int64"
      ]
     },
     "execution_count": 80,
     "metadata": {},
     "output_type": "execute_result"
    }
   ],
   "source": [
    "BEsong=_21[_21['Song_title']== 'Happier Than Ever']\n",
    "BEsong[\"Country\"].value_counts().head(5)"
   ]
  },
  {
   "cell_type": "code",
   "execution_count": null,
   "id": "8a17ef1e",
   "metadata": {},
   "outputs": [
    {
     "data": {
      "application/vnd.microsoft.datawrangler.viewer.v0+json": {
       "columns": [
        {
         "name": "Country",
         "rawType": "object",
         "type": "string"
        },
        {
         "name": "count",
         "rawType": "int64",
         "type": "integer"
        }
       ],
       "ref": "f00c0c5a-0514-4773-916a-b2e61b031688",
       "rows": [
        [
         "Lithuania",
         "49"
        ],
        [
         "Estonia",
         "42"
        ],
        [
         "Latvia",
         "42"
        ],
        [
         "Iceland",
         "40"
        ],
        [
         "Norway",
         "34"
        ]
       ],
       "shape": {
        "columns": 1,
        "rows": 5
       }
      },
      "text/plain": [
       "Country\n",
       "Lithuania    49\n",
       "Estonia      42\n",
       "Latvia       42\n",
       "Iceland      40\n",
       "Norway       34\n",
       "Name: count, dtype: int64"
      ]
     },
     "execution_count": 79,
     "metadata": {},
     "output_type": "execute_result"
    }
   ],
   "source": [
    "BEsong=_21[_21['Song_title']== 'Therefore I Am']\n",
    "BEsong[\"Country\"].value_counts().head(5)"
   ]
  },
  {
   "cell_type": "markdown",
   "id": "cfbf436e",
   "metadata": {},
   "source": [
    "Top 5 Billie Eilish' songs in 2024"
   ]
  },
  {
   "cell_type": "code",
   "execution_count": 78,
   "id": "5bfdba75",
   "metadata": {},
   "outputs": [
    {
     "data": {
      "application/vnd.microsoft.datawrangler.viewer.v0+json": {
       "columns": [
        {
         "name": "Song_title",
         "rawType": "object",
         "type": "string"
        },
        {
         "name": "count",
         "rawType": "int64",
         "type": "integer"
        }
       ],
       "ref": "cabc285e-cfc9-4387-81a5-fa8804c2cea8",
       "rows": [
        [
         "BIRDS OF A FEATHER",
         "5214"
        ],
        [
         "WILDFLOWER",
         "1696"
        ],
        [
         "LUNCH",
         "1684"
        ],
        [
         "CHIHIRO",
         "1325"
        ],
        [
         "What Was I Made For? [From The Motion Picture \"Barbie\"]",
         "455"
        ]
       ],
       "shape": {
        "columns": 1,
        "rows": 5
       }
      },
      "text/plain": [
       "Song_title\n",
       "BIRDS OF A FEATHER                                         5214\n",
       "WILDFLOWER                                                 1696\n",
       "LUNCH                                                      1684\n",
       "CHIHIRO                                                    1325\n",
       "What Was I Made For? [From The Motion Picture \"Barbie\"]     455\n",
       "Name: count, dtype: int64"
      ]
     },
     "execution_count": 78,
     "metadata": {},
     "output_type": "execute_result"
    }
   ],
   "source": [
    "song=_24[_24['Artist']== \"Billie Eilish\"]\n",
    "song['Song_title'].value_counts().head(5)"
   ]
  },
  {
   "cell_type": "code",
   "execution_count": 76,
   "id": "a39fd161",
   "metadata": {},
   "outputs": [
    {
     "data": {
      "application/vnd.microsoft.datawrangler.viewer.v0+json": {
       "columns": [
        {
         "name": "Country",
         "rawType": "object",
         "type": "string"
        },
        {
         "name": "count",
         "rawType": "int64",
         "type": "integer"
        }
       ],
       "ref": "e8fa2304-38fe-42e1-b362-c93f2fe9ea3f",
       "rows": [
        [
         "latvia",
         "115"
        ],
        [
         "ukraine",
         "113"
        ],
        [
         "lithuania",
         "111"
        ],
        [
         "united kingdom",
         "100"
        ],
        [
         "ireland",
         "98"
        ]
       ],
       "shape": {
        "columns": 1,
        "rows": 5
       }
      },
      "text/plain": [
       "Country\n",
       "latvia            115\n",
       "ukraine           113\n",
       "lithuania         111\n",
       "united kingdom    100\n",
       "ireland            98\n",
       "Name: count, dtype: int64"
      ]
     },
     "execution_count": 76,
     "metadata": {},
     "output_type": "execute_result"
    }
   ],
   "source": [
    "BEsong=_24[_24['Song_title']== 'LUNCH']\n",
    "BEsong[\"Country\"].value_counts().head(5)"
   ]
  },
  {
   "cell_type": "code",
   "execution_count": 75,
   "id": "32a17454",
   "metadata": {},
   "outputs": [
    {
     "data": {
      "application/vnd.microsoft.datawrangler.viewer.v0+json": {
       "columns": [
        {
         "name": "Country",
         "rawType": "object",
         "type": "string"
        },
        {
         "name": "count",
         "rawType": "int64",
         "type": "integer"
        }
       ],
       "ref": "60cf55f8-9f15-4556-8c0e-9e8fe7674a81",
       "rows": [
        [
         "belgium",
         "135"
        ],
        [
         "switzerland",
         "134"
        ],
        [
         "united kingdom",
         "132"
        ],
        [
         "norway",
         "132"
        ],
        [
         "lithuania",
         "118"
        ]
       ],
       "shape": {
        "columns": 1,
        "rows": 5
       }
      },
      "text/plain": [
       "Country\n",
       "belgium           135\n",
       "switzerland       134\n",
       "united kingdom    132\n",
       "norway            132\n",
       "lithuania         118\n",
       "Name: count, dtype: int64"
      ]
     },
     "execution_count": 75,
     "metadata": {},
     "output_type": "execute_result"
    }
   ],
   "source": [
    "BEsong=_24[_24['Song_title']== 'WILDFLOWER']\n",
    "BEsong[\"Country\"].value_counts().head(5)"
   ]
  },
  {
   "cell_type": "code",
   "execution_count": 74,
   "id": "96b7247c",
   "metadata": {},
   "outputs": [
    {
     "data": {
      "application/vnd.microsoft.datawrangler.viewer.v0+json": {
       "columns": [
        {
         "name": "Country",
         "rawType": "object",
         "type": "string"
        },
        {
         "name": "count",
         "rawType": "int64",
         "type": "integer"
        }
       ],
       "ref": "6a2ec97e-f496-4f46-8455-e609183b40cf",
       "rows": [
        [
         "portugal",
         "217"
        ],
        [
         "estonia",
         "217"
        ],
        [
         "ireland",
         "216"
        ],
        [
         "lithuania",
         "216"
        ],
        [
         "switzerland",
         "216"
        ]
       ],
       "shape": {
        "columns": 1,
        "rows": 5
       }
      },
      "text/plain": [
       "Country\n",
       "portugal       217\n",
       "estonia        217\n",
       "ireland        216\n",
       "lithuania      216\n",
       "switzerland    216\n",
       "Name: count, dtype: int64"
      ]
     },
     "execution_count": 74,
     "metadata": {},
     "output_type": "execute_result"
    }
   ],
   "source": [
    "BEsong=_24[_24['Song_title']== 'BIRDS OF A FEATHER']\n",
    "BEsong[\"Country\"].value_counts().head(5)"
   ]
  }
 ],
 "metadata": {
  "kernelspec": {
   "display_name": "venv",
   "language": "python",
   "name": "venv"
  },
  "language_info": {
   "codemirror_mode": {
    "name": "ipython",
    "version": 3
   },
   "file_extension": ".py",
   "mimetype": "text/x-python",
   "name": "python",
   "nbconvert_exporter": "python",
   "pygments_lexer": "ipython3",
   "version": "3.12.7"
  }
 },
 "nbformat": 4,
 "nbformat_minor": 5
}
