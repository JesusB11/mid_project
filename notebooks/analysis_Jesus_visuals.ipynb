{
 "cells": [
  {
   "cell_type": "code",
   "execution_count": null,
   "id": "bf57ad79",
   "metadata": {},
   "outputs": [],
   "source": [
    "import pandas as pd\n",
    "_24=pd.read_csv(r'../data/clean/spotify_European_top50_2024.csv')\n",
    "_21=pd.read_csv(r'../data/clean/spotify_European_top50_2021.csv')"
   ]
  },
  {
   "cell_type": "code",
   "execution_count": null,
   "id": "65270ac7",
   "metadata": {},
   "outputs": [],
   "source": [
    "_21.head()"
   ]
  },
  {
   "cell_type": "markdown",
   "id": "12cac95e",
   "metadata": {},
   "source": [
    "Searching for top artist in 2021 and finding Billie Eilish ranking 13#"
   ]
  },
  {
   "cell_type": "code",
   "execution_count": null,
   "id": "5203058e",
   "metadata": {},
   "outputs": [],
   "source": [
    "artist=pd.DataFrame(_21['Artist'].value_counts().head(15))\n",
    "display(artist)"
   ]
  },
  {
   "cell_type": "code",
   "execution_count": null,
   "id": "f1cce4af-681e-4f8f-9e94-bb99dfb04b5a",
   "metadata": {},
   "outputs": [],
   "source": [
    "#import seaborn as sns\n",
    "\n",
    "#sns.countplot(x=\"Artist\", data = artist)\n",
    "\n",
    "import seaborn as sns\n",
    "import matplotlib.pyplot as plt\n",
    "\n",
    "sns.barplot(x=\"Artist\", y=\"count\", data=artist, ci=None)\n",
    "\n",
    "plt.ylim(0, 30000)\n",
    "\n",
    "plt.xticks(rotation=45, ha='right')\n",
    "\n",
    "plt.ylabel(\"Amount of days in Top50\")  # Replace \"New Label\" with your desired label\n",
    "\n",
    "plt.show()"
   ]
  },
  {
   "cell_type": "markdown",
   "id": "b5f24473",
   "metadata": {},
   "source": [
    "Searching for top artist in 2021 and finding Billie Eilish ranking 1#"
   ]
  },
  {
   "cell_type": "code",
   "execution_count": null,
   "id": "7396f6d4",
   "metadata": {},
   "outputs": [],
   "source": [
    "artist2=pd.DataFrame(_24['Artist'].value_counts().head(15))\n",
    "display(artist2)"
   ]
  },
  {
   "cell_type": "code",
   "execution_count": null,
   "id": "84e55f3f-8357-4d30-abfe-1ecfc29a80fe",
   "metadata": {},
   "outputs": [],
   "source": [
    "import seaborn as sns\n",
    "import matplotlib.pyplot as plt\n",
    "\n",
    "sns.barplot(x=\"Artist\", y=\"count\", data=artist2, ci=None)\n",
    "\n",
    "plt.ylim(0, 12000)\n",
    "\n",
    "plt.xticks(rotation=45, ha='right')\n",
    "\n",
    "plt.ylabel(\"Amount of days in Top50\")\n",
    "\n",
    "plt.show()"
   ]
  },
  {
   "cell_type": "code",
   "execution_count": null,
   "id": "064fc74f-7622-4608-a60f-6bd7e45fd505",
   "metadata": {},
   "outputs": [],
   "source": [
    "data = {'2021': [6384], '2024': [11659]}\n",
    "df = pd.DataFrame(data)\n",
    "df = df.T.reset_index()  \n",
    "df.columns = ['Year', 'Values']\n",
    "df"
   ]
  },
  {
   "cell_type": "code",
   "execution_count": null,
   "id": "384e1249-fad5-4427-9b05-71cfc3f9ab21",
   "metadata": {},
   "outputs": [],
   "source": [
    "import pandas as pd\n",
    "import seaborn as sns\n",
    "import matplotlib.pyplot as plt\n",
    "\n",
    "sns.barplot(x=\"Year\", y=\"Values\", data=df, ci=None)\n",
    "\n",
    "plt.ylim(0, 12000)\n",
    "plt.xticks(rotation=45, ha='right')\n",
    "plt.ylabel(\"Amount of days in Top50\")\n",
    "\n",
    "plt.show()"
   ]
  },
  {
   "cell_type": "code",
   "execution_count": null,
   "id": "0a2ec7c1-f991-4f47-b048-b87655c2b0d9",
   "metadata": {},
   "outputs": [],
   "source": [
    "data = {'2021': [6384], '2024': [11659]}\n",
    "df2 = pd.DataFrame(data)\n",
    "df2"
   ]
  },
  {
   "cell_type": "code",
   "execution_count": null,
   "id": "8f2555a7-a5c2-4b33-bbaa-29906827ab88",
   "metadata": {},
   "outputs": [],
   "source": [
    "growth = (((df[\"Values\"][1] - df[\"Values\"][0]) / df[\"Values\"][0]) * 100).round(2)"
   ]
  },
  {
   "cell_type": "code",
   "execution_count": null,
   "id": "6b487eaa-2ac7-4679-bdf6-a461bf22774c",
   "metadata": {},
   "outputs": [],
   "source": [
    "\n",
    "sns.barplot(x=\"Year\", y=\"Values\", data=df, ci=None)\n",
    "\n",
    "plt.ylim(0, 12000)\n",
    "plt.xticks(rotation=45, ha='right')\n",
    "plt.ylabel(\"Amount of days in Top50\")\n",
    "\n",
    "plt.text(0.5, 10500, f\"Increase: {growth:.2f}%\", fontsize=12, color='blue', ha='center')\n",
    "\n",
    "plt.show()"
   ]
  },
  {
   "cell_type": "code",
   "execution_count": null,
   "id": "de609ef6-f9e0-4246-96d1-26682c7bbdb6",
   "metadata": {},
   "outputs": [],
   "source": [
    "\n",
    "growth_percentage = (((df[\"Values\"][1] - df[\"Values\"][0]) / df[\"Values\"][0]) * 100).round(2)\n",
    "\n",
    "plt.figure(figsize=(8, 6))\n",
    "plt.plot(df['Year'], df['Values'], marker='o', linestyle='-')\n",
    "plt.ylim(0, 14000)  # Set y-axis range if necessary\n",
    "\n",
    "# Annotate the growth percentage on the plot\n",
    "plt.text(0.5, 11000, f\"Growth: {growth_percentage}%\", fontsize=12, color='blue', ha='center')\n",
    "\n",
    "# Rotate x-axis labels if needed and adjust padding\n",
    "plt.xticks(rotation=45, ha='right')\n",
    "plt.tick_params(axis='x', which='major', pad=4)  # Adjust the pad value to control spacing\n",
    "\n",
    "# Set labels\n",
    "plt.xlabel(\"Year\")\n",
    "plt.ylabel(\"Amount of days in Top50\")\n",
    "plt.grid(True)\n",
    "\n",
    "# Display the plot\n",
    "plt.show()"
   ]
  },
  {
   "cell_type": "markdown",
   "id": "cbdd3414",
   "metadata": {},
   "source": [
    "Top 5 Billie Eilish' songs in 2021"
   ]
  },
  {
   "cell_type": "code",
   "execution_count": null,
   "id": "d04fbcc9",
   "metadata": {},
   "outputs": [],
   "source": [
    "song=_21[_21['Artist']== \"Billie Eilish\"]\n",
    "song['Song_title'].value_counts().head(5)"
   ]
  },
  {
   "cell_type": "code",
   "execution_count": null,
   "id": "e0ce2b4d",
   "metadata": {},
   "outputs": [],
   "source": [
    "_21[_21['Song_title']== 'Happier Than Ever']"
   ]
  },
  {
   "cell_type": "code",
   "execution_count": null,
   "id": "712ae708",
   "metadata": {},
   "outputs": [],
   "source": [
    "BEsong=_21[_21['Song_title']== 'Your Power']\n",
    "BEsong[\"Country\"].value_counts().head(5)"
   ]
  },
  {
   "cell_type": "code",
   "execution_count": null,
   "id": "b4104c86",
   "metadata": {},
   "outputs": [],
   "source": [
    "BEsong=_21[_21['Song_title']== 'Happier Than Ever']\n",
    "BEsong[\"Country\"].value_counts().head(5)"
   ]
  },
  {
   "cell_type": "code",
   "execution_count": null,
   "id": "8a17ef1e",
   "metadata": {},
   "outputs": [],
   "source": [
    "BEsong=_21[_21['Song_title']== 'Therefore I Am']\n",
    "BEsong[\"Country\"].value_counts().head(5)"
   ]
  },
  {
   "cell_type": "markdown",
   "id": "cfbf436e",
   "metadata": {},
   "source": [
    "Top 5 Billie Eilish' songs in 2024"
   ]
  },
  {
   "cell_type": "code",
   "execution_count": null,
   "id": "5bfdba75",
   "metadata": {},
   "outputs": [],
   "source": [
    "song=_24[_24['Artist']== \"Billie Eilish\"]\n",
    "song['Song_title'].value_counts().head(5)"
   ]
  },
  {
   "cell_type": "code",
   "execution_count": null,
   "id": "a39fd161",
   "metadata": {},
   "outputs": [],
   "source": [
    "BEsong=_24[_24['Song_title']== 'LUNCH']\n",
    "BEsong[\"Country\"].value_counts().head(5)"
   ]
  },
  {
   "cell_type": "code",
   "execution_count": null,
   "id": "32a17454",
   "metadata": {},
   "outputs": [],
   "source": [
    "BEsong=_24[_24['Song_title']== 'WILDFLOWER']\n",
    "BEsong[\"Country\"].value_counts().head(5)"
   ]
  },
  {
   "cell_type": "code",
   "execution_count": null,
   "id": "96b7247c",
   "metadata": {},
   "outputs": [],
   "source": [
    "BEsong=_24[_24['Song_title']== 'BIRDS OF A FEATHER']\n",
    "BEsong[\"Country\"].value_counts().head(5)"
   ]
  }
 ],
 "metadata": {
  "kernelspec": {
   "display_name": "venv",
   "language": "python",
   "name": "venv"
  },
  "language_info": {
   "codemirror_mode": {
    "name": "ipython",
    "version": 3
   },
   "file_extension": ".py",
   "mimetype": "text/x-python",
   "name": "python",
   "nbconvert_exporter": "python",
   "pygments_lexer": "ipython3",
   "version": "3.12.7"
  }
 },
 "nbformat": 4,
 "nbformat_minor": 5
}
