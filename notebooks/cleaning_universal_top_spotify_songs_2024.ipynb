{
 "cells": [
  {
   "cell_type": "code",
   "execution_count": null,
   "id": "e400d723-4676-4945-92b6-ff2a172db622",
   "metadata": {},
   "outputs": [],
   "source": [
    "import pandas as pd\n",
    "\n",
    "df = pd.read_csv(r\"..\\data\\raw\\\\universal_top_spotify_songs.csv\")\n",
    "df"
   ]
  },
  {
   "cell_type": "code",
   "execution_count": null,
   "id": "c4aa1349-5633-43f1-ad3c-f6032051f6c2",
   "metadata": {},
   "outputs": [],
   "source": [
    "df.columns"
   ]
  },
  {
   "cell_type": "code",
   "execution_count": null,
   "id": "a391c055-0853-41c2-aaa7-a63a823d5ba5",
   "metadata": {},
   "outputs": [],
   "source": [
    "columns_to_drop = [\"daily_movement\", \"weekly_movement\", \"popularity\", \"is_explicit\", \"duration_ms\", \"album_name\", \"album_release_date\", \"danceability\", \"energy\", \"key\", \"loudness\", \"mode\", \"speechiness\", \"acousticness\", \"instrumentalness\", \"liveness\", \"valence\", \"tempo\", \"time_signature\"]\n",
    "\n",
    "df = df.drop(columns=columns_to_drop)\n",
    "\n",
    "df.columns"
   ]
  },
  {
   "cell_type": "code",
   "execution_count": null,
   "id": "5c797e01-99d0-4f91-b6e7-2f2ac513fbee",
   "metadata": {},
   "outputs": [],
   "source": [
    "df.columns = [\"Spotify_id\", \"Song_title\", \"Artist\", \"Daily_rank_2024\", \"Country\", \"Date\"]\n",
    "df.columns"
   ]
  },
  {
   "cell_type": "code",
   "execution_count": null,
   "id": "48822f06-0f82-4418-9e59-d43e13cb272b",
   "metadata": {},
   "outputs": [],
   "source": [
    "df.Country.unique()"
   ]
  },
  {
   "cell_type": "code",
   "execution_count": null,
   "id": "19f9ee4e-b715-4f73-bcf8-1f4e9b2a9559",
   "metadata": {},
   "outputs": [],
   "source": [
    "filtered_df = df[(df.Country == \"AT\") | (df.Country == \"BE\") | (df.Country == \"BG\") | (df.Country == \"BY\") | (df.Country == \"CH\") | (df.Country == \"CZ\")| (df.Country == \"DE\") | (df.Country == \"DK\") | (df.Country == \"EE\") | (df.Country == \"ES\") | (df.Country == \"FI\") | (df.Country == \"FR\") | (df.Country == \"GB\") | (df.Country == \"GR\") | (df.Country == \"HU\") | (df.Country == \"IE\") | (df.Country == \"IS\") | (df.Country == \"IT\") | (df.Country == \"LT\") | (df.Country == \"LU\") | (df.Country == \"LV\") | (df.Country == \"NL\") | (df.Country == \"NO\") | (df.Country == \"PL\") | (df.Country == \"PT\") | (df.Country == \"RO\") | (df.Country == \"SE\") | (df.Country == \"SK\") | (df.Country == \"UA\")]\n",
    "filtered_df"
   ]
  },
  {
   "cell_type": "code",
   "execution_count": null,
   "id": "47f650be-d280-46ec-aea2-4c337d629aab",
   "metadata": {},
   "outputs": [],
   "source": [
    "filtered_df.loc[:, 'Country'] = filtered_df['Country'].replace({\"AT\": \"austria\", \"BE\": \"belgium\", \"BG\": \"bulgaria\", \"BY\": \"belarus\", \"CH\": \"switzerland\", \"CZ\": \"czech republic\", \"DE\": \"germany\", \"DK\": \"denmark\", \"EE\": \"estonia\", \"ES\": \"spain\", \"FI\": \"finland\", \"FR\": \"france\", \"GB\": \"united kingdom\", \"GR\": \"greece\", \"HU\": \"hungary\", \"IE\": \"ireland\", \"IS\": \"iceland\", \"IT\": \"italy\", \"LT\": \"lithuania\", \"LU\": \"luxembourg\", \"LV\": \"latvia\", \"NL\": \"netherlands\", \"NO\": \"norway\", \"PL\": \"poland\", \"PT\": \"portugal\", \"RO\": \"romania\", \"SE\": \"sweden\", \"SK\": \"slovakia\", \"UA\": \"ukraine\"})\n",
    "filtered_df.Country.unique()"
   ]
  },
  {
   "cell_type": "code",
   "execution_count": null,
   "id": "9acef1fe-d373-4d11-b9af-2a5aed3f7e22",
   "metadata": {},
   "outputs": [],
   "source": [
    "filtered_df.dtypes"
   ]
  },
  {
   "cell_type": "code",
   "execution_count": null,
   "id": "b6db5c95-997b-46be-b864-e15821128a5b",
   "metadata": {
    "scrolled": true
   },
   "outputs": [],
   "source": [
    "filtered_df['Date'] = pd.to_datetime(filtered_df['Date'])"
   ]
  },
  {
   "cell_type": "code",
   "execution_count": null,
   "id": "7cba33ff-4218-4184-b0a2-8a337b14053c",
   "metadata": {},
   "outputs": [],
   "source": [
    "filtered_df.dtypes"
   ]
  },
  {
   "cell_type": "code",
   "execution_count": null,
   "id": "4f985196-cebf-4548-9509-84c12b035563",
   "metadata": {},
   "outputs": [],
   "source": [
    "filtered_2024_df = filtered_df[filtered_df['Date'].dt.year == 2024]\n",
    "filtered_2024_df"
   ]
  },
  {
   "cell_type": "code",
   "execution_count": null,
   "id": "4d7bc737-0475-4e26-b0cc-b586215ce55a",
   "metadata": {},
   "outputs": [],
   "source": [
    "filtered_2024_df.duplicated().sum()"
   ]
  },
  {
   "cell_type": "code",
   "execution_count": null,
   "id": "f045eb99-7926-4c85-a390-fc0d49247d7d",
   "metadata": {},
   "outputs": [],
   "source": [
    "filtered_2024_df.isna().sum()"
   ]
  },
  {
   "cell_type": "code",
   "execution_count": null,
   "id": "098a4fe4-303e-4677-bc34-2ee25f611f4a",
   "metadata": {},
   "outputs": [],
   "source": [
    "filtered_2024_df[filtered_2024_df.Song_title.isna() == True]"
   ]
  },
  {
   "cell_type": "code",
   "execution_count": null,
   "id": "f7351c11-6a04-424f-9b9c-5615375e35ea",
   "metadata": {},
   "outputs": [],
   "source": [
    "filtered_2024_df.loc[751623, 'Song_title'] = 'null'"
   ]
  },
  {
   "cell_type": "code",
   "execution_count": null,
   "id": "9b02101a-6ccf-4b59-a025-7918d63c79aa",
   "metadata": {},
   "outputs": [],
   "source": [
    "filtered_2024_df = filtered_2024_df.dropna(subset=['Artist'])"
   ]
  },
  {
   "cell_type": "code",
   "execution_count": null,
   "id": "9e5bc13b-8ab9-4e73-81de-0a4907b0fd72",
   "metadata": {},
   "outputs": [],
   "source": [
    "filtered_2024_df.isna().sum()"
   ]
  },
  {
   "cell_type": "code",
   "execution_count": null,
   "id": "d501d894-be3c-4f5b-8d6c-668eaad0d453",
   "metadata": {},
   "outputs": [],
   "source": [
    "def get_spotify_id (Spotify_id):\n",
    "    return \"https://open.spotify.com/track/\" + Spotify_id\n",
    "\n",
    "filtered_2024_df.Spotify_id = filtered_2024_df.Spotify_id.apply(get_spotify_id)\n",
    "filtered_2024_df"
   ]
  },
  {
   "cell_type": "code",
   "execution_count": null,
   "id": "8ed871ac-7f03-440a-b207-940beaac27c2",
   "metadata": {},
   "outputs": [],
   "source": [
    "!pip show unidecode"
   ]
  },
  {
   "cell_type": "code",
   "execution_count": null,
   "id": "28e545f9-06c8-4483-a12a-9b18def353fd",
   "metadata": {},
   "outputs": [],
   "source": [
    "from unidecode import unidecode \n",
    "\n",
    "def unidecode_text(text):\n",
    "    if pd.isna(text): \n",
    "        return text   \n",
    "    return unidecode(str(text))\n",
    "    \n",
    "filtered_2024_df['Song_title'] = filtered_2024_df['Song_title'].apply(unidecode_text)\n",
    "filtered_2024_df"
   ]
  },
  {
   "cell_type": "code",
   "execution_count": null,
   "id": "34b1e476-f47e-44d2-9ea7-ae42ff94f454",
   "metadata": {},
   "outputs": [],
   "source": [
    "df_final = filtered_2024_df.reset_index(drop=True)\n",
    "df_final"
   ]
  },
  {
   "cell_type": "code",
   "execution_count": null,
   "id": "308568cb-1ce0-499a-8ba0-2269d722c994",
   "metadata": {},
   "outputs": [],
   "source": [
    "df_final.isna().sum()"
   ]
  },
  {
   "cell_type": "code",
   "execution_count": null,
   "id": "10dd480b-49e8-4bd8-8e91-42cad07ce599",
   "metadata": {},
   "outputs": [],
   "source": [
    "df_final.to_csv(\"../data/clean/spotify_European_top50_2024.csv\", index=False, encoding='utf-8')"
   ]
  }
 ],
 "metadata": {
  "kernelspec": {
   "display_name": "venv",
   "language": "python",
   "name": "venv"
  },
  "language_info": {
   "codemirror_mode": {
    "name": "ipython",
    "version": 3
   },
   "file_extension": ".py",
   "mimetype": "text/x-python",
   "name": "python",
   "nbconvert_exporter": "python",
   "pygments_lexer": "ipython3",
   "version": "3.12.7"
  }
 },
 "nbformat": 4,
 "nbformat_minor": 5
}
