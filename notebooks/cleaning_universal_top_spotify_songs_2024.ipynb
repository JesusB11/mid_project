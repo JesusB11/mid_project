{
 "cells": [
  {
   "cell_type": "code",
   "execution_count": null,
   "id": "e400d723-4676-4945-92b6-ff2a172db622",
   "metadata": {},
   "outputs": [],
   "source": [
    "import pandas as pd\n",
    "\n",
    "df = pd.read_csv(r\"..\\data\\raw\\\\universal_top_spotify_songs.csv\")\n",
    "df"
   ]
  },
  {
   "cell_type": "code",
   "execution_count": null,
   "id": "c4aa1349-5633-43f1-ad3c-f6032051f6c2",
   "metadata": {},
   "outputs": [],
   "source": [
    "df.columns"
   ]
  },
  {
   "cell_type": "code",
   "execution_count": null,
   "id": "48822f06-0f82-4418-9e59-d43e13cb272b",
   "metadata": {},
   "outputs": [],
   "source": [
    "df.country.unique()"
   ]
  },
  {
   "cell_type": "code",
   "execution_count": null,
   "id": "19f9ee4e-b715-4f73-bcf8-1f4e9b2a9559",
   "metadata": {},
   "outputs": [],
   "source": [
    "filtered_df = df[(df.country == \"AT\") | (df.country == \"BE\") | (df.country == \"BG\") | (df.country == \"BY\") | (df.country == \"CH\") | (df.country == \"CZ\")| (df.country == \"DE\") | (df.country == \"DK\") | (df.country == \"EE\") | (df.country == \"ES\") | (df.country == \"FI\") | (df.country == \"FR\") | (df.country == \"GB\") | (df.country == \"GR\") | (df.country == \"HU\") | (df.country == \"IE\") | (df.country == \"IS\") | (df.country == \"IT\") | (df.country == \"LT\") | (df.country == \"LU\") | (df.country == \"LV\") | (df.country == \"NL\") | (df.country == \"NO\") | (df.country == \"PL\") | (df.country == \"PT\") | (df.country == \"RO\") | (df.country == \"SE\") | (df.country == \"SK\") | (df.country == \"UA\")]\n",
    "filtered_df"
   ]
  },
  {
   "cell_type": "code",
   "execution_count": null,
   "id": "9acef1fe-d373-4d11-b9af-2a5aed3f7e22",
   "metadata": {},
   "outputs": [],
   "source": [
    "filtered_df.dtypes"
   ]
  },
  {
   "cell_type": "code",
   "execution_count": null,
   "id": "b6db5c95-997b-46be-b864-e15821128a5b",
   "metadata": {
    "scrolled": true
   },
   "outputs": [],
   "source": [
    "filtered_df.snapshot_date = pd.to_datetime(filtered_df.snapshot_date)"
   ]
  },
  {
   "cell_type": "code",
   "execution_count": null,
   "id": "4a55ab9e-0e08-4194-ba66-bfd710a3f04c",
   "metadata": {},
   "outputs": [],
   "source": [
    "filtered_df.dtypes"
   ]
  },
  {
   "cell_type": "code",
   "execution_count": null,
   "id": "4f985196-cebf-4548-9509-84c12b035563",
   "metadata": {},
   "outputs": [],
   "source": [
    "filtered_2024_df = filtered_df[filtered_df['snapshot_date'].dt.year == 2024]\n",
    "filtered_2024_df"
   ]
  },
  {
   "cell_type": "code",
   "execution_count": null,
   "id": "60bad2f5-f3a9-44c9-810f-0c1fe9666344",
   "metadata": {},
   "outputs": [],
   "source": [
    "columns_to_drop = [\"spotify_id\", \"daily_movement\", \"weekly_movement\", \"is_explicit\", \"duration_ms\", \"danceability\", \"energy\", \"key\", \"loudness\", \"mode\", \"speechiness\", \"acousticness\", \"instrumentalness\", \"liveness\", \"valence\", \"tempo\", \"time_signature\"]\n",
    "\n",
    "df_final = filtered_2024_df.drop(columns=columns_to_drop)\n",
    "\n",
    "df_final"
   ]
  },
  {
   "cell_type": "code",
   "execution_count": null,
   "id": "34b1e476-f47e-44d2-9ea7-ae42ff94f454",
   "metadata": {},
   "outputs": [],
   "source": [
    "df_final = df_final.reset_index(drop=True)\n",
    "df_final"
   ]
  },
  {
   "cell_type": "code",
   "execution_count": null,
   "id": "3a9fcc6f-1333-4f91-bd34-b4c07219485f",
   "metadata": {},
   "outputs": [],
   "source": [
    "df_final.dtypes"
   ]
  },
  {
   "cell_type": "code",
   "execution_count": null,
   "id": "ece7e30d-16c4-4648-8356-c8baf7fdc156",
   "metadata": {},
   "outputs": [],
   "source": [
    "#import unicodedata\n",
    "#def normalize_to_ascii(text):\n",
    "    #nfkd_form = unicodedata.normalize('NFKD', text)\n",
    "    #return nfkd_form.encode('ascii', 'ignore').decode('utf-8')\n",
    "#spotify_top50['artist_normalize'] = spotify_top50['artist'].apply(normalize_to_ascii)"
   ]
  },
  {
   "cell_type": "code",
   "execution_count": null,
   "id": "10dd480b-49e8-4bd8-8e91-42cad07ce599",
   "metadata": {},
   "outputs": [],
   "source": [
    "filtered_df_col.to_csv('cleaned_file.csv', index=False,encoding = \"utf_8\")"
   ]
  }
 ],
 "metadata": {
  "kernelspec": {
   "display_name": "venv",
   "language": "python",
   "name": "venv"
  },
  "language_info": {
   "codemirror_mode": {
    "name": "ipython",
    "version": 3
   },
   "file_extension": ".py",
   "mimetype": "text/x-python",
   "name": "python",
   "nbconvert_exporter": "python",
   "pygments_lexer": "ipython3",
   "version": "3.12.7"
  }
 },
 "nbformat": 4,
 "nbformat_minor": 5
}
