{
 "cells": [
  {
   "cell_type": "code",
   "execution_count": null,
   "id": "50f885ef-c7d8-47d0-b52f-891e31717085",
   "metadata": {},
   "outputs": [],
   "source": [
    "import pandas as pd\n",
    "df21 = pd.read_csv(r\"..\\data\\clean\\spotify_European_top50_2021.csv\")"
   ]
  },
  {
   "cell_type": "code",
   "execution_count": null,
   "id": "4a47105e-701a-49c5-9dc3-3bfecc1aeb04",
   "metadata": {},
   "outputs": [],
   "source": [
    "df21.columns"
   ]
  },
  {
   "cell_type": "code",
   "execution_count": null,
   "id": "0595d987-e59c-4a22-bdba-21429bf8e927",
   "metadata": {},
   "outputs": [],
   "source": [
    "columns_to_drop = ['Country', 'Spotify_id', 'Song_title', 'Artist']\n",
    "\n",
    "df21 = df21.drop(columns_to_drop, axis = 1)\n",
    "df21"
   ]
  },
  {
   "cell_type": "code",
   "execution_count": null,
   "id": "9495a846-05d5-45e1-a994-0d72eb0b0c7a",
   "metadata": {},
   "outputs": [],
   "source": [
    "df21 = df21.drop_duplicates()"
   ]
  },
  {
   "cell_type": "code",
   "execution_count": null,
   "id": "08a5e0fe-0c82-44e6-8f6d-cb93591f3b91",
   "metadata": {},
   "outputs": [],
   "source": [
    "df21 = df21.reset_index(drop=True)"
   ]
  },
  {
   "cell_type": "code",
   "execution_count": null,
   "id": "f8a28d9b-ac6d-41cd-a03e-fe29004185de",
   "metadata": {},
   "outputs": [],
   "source": [
    "df21"
   ]
  },
  {
   "cell_type": "code",
   "execution_count": null,
   "id": "5b0a690b-e6b6-41d1-bfbb-2d0c516d7327",
   "metadata": {},
   "outputs": [],
   "source": [
    "df21.to_csv(\"../data/clean/Rank_2021.csv\", index=False, encoding='utf-8')"
   ]
  },
  {
   "cell_type": "code",
   "execution_count": null,
   "id": "401671e7-5cce-40a7-9c94-e1552866c696",
   "metadata": {},
   "outputs": [],
   "source": [
    "df21rank = pd.read_csv(r\"..\\data\\clean\\spotify_European_top50_2021.csv\")\n",
    "df21rank.columns"
   ]
  },
  {
   "cell_type": "code",
   "execution_count": null,
   "id": "0f5aca80-3af3-4b0e-8ef8-137c4ad3fe39",
   "metadata": {},
   "outputs": [],
   "source": [
    "columns_to_drop = ['Country', 'Song_title', 'Artist', 'Date', 'Daily_rank_2021']\n",
    "\n",
    "df21rank = df21rank.drop(columns_to_drop, axis = 1)\n",
    "df21rank"
   ]
  },
  {
   "cell_type": "code",
   "execution_count": null,
   "id": "8ac0d16f-c8a5-4063-a46c-6c7f71b7b214",
   "metadata": {},
   "outputs": [],
   "source": [
    "df21rank = df21rank.drop_duplicates()\n",
    "df21rank = df21rank.reset_index(drop=True)\n",
    "df21rank"
   ]
  },
  {
   "cell_type": "code",
   "execution_count": null,
   "id": "25932b56-9e13-4a83-9ca2-0bbae4907e42",
   "metadata": {},
   "outputs": [],
   "source": [
    "df21rank.to_csv(\"../data/clean/Rank_2021_to_song.csv\", index=False, encoding='utf-8')"
   ]
  },
  {
   "cell_type": "code",
   "execution_count": null,
   "id": "afd56229-be50-401f-a2f2-525f6428fbbb",
   "metadata": {},
   "outputs": [],
   "source": []
  }
 ],
 "metadata": {
  "kernelspec": {
   "display_name": "venv",
   "language": "python",
   "name": "venv"
  },
  "language_info": {
   "codemirror_mode": {
    "name": "ipython",
    "version": 3
   },
   "file_extension": ".py",
   "mimetype": "text/x-python",
   "name": "python",
   "nbconvert_exporter": "python",
   "pygments_lexer": "ipython3",
   "version": "3.12.7"
  }
 },
 "nbformat": 4,
 "nbformat_minor": 5
}
