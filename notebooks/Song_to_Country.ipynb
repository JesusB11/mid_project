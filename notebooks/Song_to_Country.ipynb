{
 "cells": [
  {
   "cell_type": "code",
   "execution_count": null,
   "id": "f0a62fec-fcfe-41e1-929f-8d9aa9f82ff8",
   "metadata": {},
   "outputs": [],
   "source": [
    "import pandas as pd\n",
    "\n",
    "df21 = pd.read_csv(r\"..\\data\\clean\\spotify_European_top50_2021.csv\")\n",
    "df24 = pd.read_csv(r\"..\\data\\clean\\spotify_European_top50_2024.csv\")\n",
    "\n",
    "dfsc = pd.concat([df21, df24], axis = 0).reset_index(drop=True)\n",
    "\n",
    "dfsc.columns"
   ]
  },
  {
   "cell_type": "code",
   "execution_count": null,
   "id": "72c3a1d5-068b-42df-8fd3-10006cf0bada",
   "metadata": {},
   "outputs": [],
   "source": [
    "columns_to_drop = ['Song_title', 'Artist', 'Date', 'Daily_rank_2021', 'Daily_rank_2024']\n",
    "\n",
    "dfsc = dfsc.drop(columns_to_drop, axis = 1)\n",
    "dfsc"
   ]
  },
  {
   "cell_type": "code",
   "execution_count": null,
   "id": "7225959f-9f13-4a83-be65-9aa184c2840e",
   "metadata": {},
   "outputs": [],
   "source": [
    "dfsc = dfsc.drop_duplicates()"
   ]
  },
  {
   "cell_type": "code",
   "execution_count": null,
   "id": "9122a144-340b-41f7-a8de-018861204421",
   "metadata": {},
   "outputs": [],
   "source": [
    "dfsc = dfsc.reset_index(drop=True)"
   ]
  },
  {
   "cell_type": "code",
   "execution_count": null,
   "id": "2cc5340b-b3a8-4843-96cc-ccf6ddf5300b",
   "metadata": {},
   "outputs": [],
   "source": [
    "dfsc"
   ]
  },
  {
   "cell_type": "code",
   "execution_count": null,
   "id": "24720b01-d77b-4915-bdf3-ca6e2477127a",
   "metadata": {},
   "outputs": [],
   "source": [
    "dfsc.to_csv(\"../data/clean/Song_to_Country.csv\", index=False, encoding='utf-8')"
   ]
  },
  {
   "cell_type": "code",
   "execution_count": null,
   "id": "5b319cd9-d309-4355-b88a-741b19cd7145",
   "metadata": {},
   "outputs": [],
   "source": [
    "country_id = pd.read_csv(r\"C:\\Users\\jessi\\Downloads\\Country.csv\")\n",
    "country_id"
   ]
  },
  {
   "cell_type": "code",
   "execution_count": null,
   "id": "5309a7bb-595b-4eab-b5bf-6bcd85d549cf",
   "metadata": {},
   "outputs": [],
   "source": [
    "columns_to_drop = ['Spotify_id', 'Date', 'Daily_rank_2021', 'Daily_rank_2024']\n",
    "\n",
    "country_id = country_id.drop(columns_to_drop, axis = 1)\n",
    "\n",
    "country_id"
   ]
  },
  {
   "cell_type": "code",
   "execution_count": null,
   "id": "3d5ab7b1-1e31-4397-84f6-d38d5400d423",
   "metadata": {},
   "outputs": [],
   "source": [
    "country_id = country_id.drop_duplicates()\n",
    "country_id"
   ]
  },
  {
   "cell_type": "code",
   "execution_count": null,
   "id": "4138408d-b48a-4518-81ea-3b69b8d5c3d6",
   "metadata": {},
   "outputs": [],
   "source": [
    "country_id = country_id.reset_index(drop=True)"
   ]
  },
  {
   "cell_type": "code",
   "execution_count": null,
   "id": "a6eaa01b-ada7-47ce-a3c7-7a86bbb622cc",
   "metadata": {},
   "outputs": [],
   "source": [
    "country_id.to_csv(\"../data/clean/Country_ids.csv\", index=False, encoding='utf-8')"
   ]
  },
  {
   "cell_type": "code",
   "execution_count": null,
   "id": "49f73395-5061-495e-9f7c-f6697de6497b",
   "metadata": {},
   "outputs": [],
   "source": []
  }
 ],
 "metadata": {
  "kernelspec": {
   "display_name": "venv",
   "language": "python",
   "name": "venv"
  },
  "language_info": {
   "codemirror_mode": {
    "name": "ipython",
    "version": 3
   },
   "file_extension": ".py",
   "mimetype": "text/x-python",
   "name": "python",
   "nbconvert_exporter": "python",
   "pygments_lexer": "ipython3",
   "version": "3.12.7"
  }
 },
 "nbformat": 4,
 "nbformat_minor": 5
}
