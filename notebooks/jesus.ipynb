{
 "cells": [
  {
   "cell_type": "code",
   "execution_count": 1,
   "id": "8b2efc71",
   "metadata": {},
   "outputs": [
    {
     "data": {
      "application/vnd.microsoft.datawrangler.viewer.v0+json": {
       "columns": [
        {
         "name": "index",
         "rawType": "int64",
         "type": "integer"
        },
        {
         "name": "title",
         "rawType": "object",
         "type": "string"
        },
        {
         "name": "rank",
         "rawType": "int64",
         "type": "integer"
        },
        {
         "name": "date",
         "rawType": "object",
         "type": "string"
        },
        {
         "name": "artist",
         "rawType": "object",
         "type": "string"
        },
        {
         "name": "url",
         "rawType": "object",
         "type": "string"
        },
        {
         "name": "region",
         "rawType": "object",
         "type": "string"
        },
        {
         "name": "chart",
         "rawType": "object",
         "type": "string"
        },
        {
         "name": "trend",
         "rawType": "object",
         "type": "string"
        },
        {
         "name": "streams",
         "rawType": "float64",
         "type": "float"
        }
       ],
       "ref": "2f0c1577-f816-4558-a8b7-4f318ee8e0c4",
       "rows": [
        [
         "0",
         "Chantaje (feat. Maluma)",
         "1",
         "2017-01-01",
         "Shakira",
         "https://open.spotify.com/track/6mICuAdrwEjh6Y6lroV2Kg",
         "Argentina",
         "top200",
         "SAME_POSITION",
         "253019.0"
        ],
        [
         "1",
         "Vente Pa' Ca (feat. Maluma)",
         "2",
         "2017-01-01",
         "Ricky Martin",
         "https://open.spotify.com/track/7DM4BPaS7uofFul3ywMe46",
         "Argentina",
         "top200",
         "MOVE_UP",
         "223988.0"
        ],
        [
         "2",
         "Reggaetón Lento (Bailemos)",
         "3",
         "2017-01-01",
         "CNCO",
         "https://open.spotify.com/track/3AEZUABDXNtecAOSC1qTfo",
         "Argentina",
         "top200",
         "MOVE_DOWN",
         "210943.0"
        ],
        [
         "3",
         "Safari",
         "4",
         "2017-01-01",
         "J Balvin, Pharrell Williams, BIA, Sky",
         "https://open.spotify.com/track/6rQSrBHf7HlZjtcMZ4S4bO",
         "Argentina",
         "top200",
         "SAME_POSITION",
         "173865.0"
        ],
        [
         "4",
         "Shaky Shaky",
         "5",
         "2017-01-01",
         "Daddy Yankee",
         "https://open.spotify.com/track/58IL315gMSTD37DOZPJ2hf",
         "Argentina",
         "top200",
         "MOVE_UP",
         "153956.0"
        ]
       ],
       "shape": {
        "columns": 9,
        "rows": 5
       }
      },
      "text/html": [
       "<div>\n",
       "<style scoped>\n",
       "    .dataframe tbody tr th:only-of-type {\n",
       "        vertical-align: middle;\n",
       "    }\n",
       "\n",
       "    .dataframe tbody tr th {\n",
       "        vertical-align: top;\n",
       "    }\n",
       "\n",
       "    .dataframe thead th {\n",
       "        text-align: right;\n",
       "    }\n",
       "</style>\n",
       "<table border=\"1\" class=\"dataframe\">\n",
       "  <thead>\n",
       "    <tr style=\"text-align: right;\">\n",
       "      <th></th>\n",
       "      <th>title</th>\n",
       "      <th>rank</th>\n",
       "      <th>date</th>\n",
       "      <th>artist</th>\n",
       "      <th>url</th>\n",
       "      <th>region</th>\n",
       "      <th>chart</th>\n",
       "      <th>trend</th>\n",
       "      <th>streams</th>\n",
       "    </tr>\n",
       "  </thead>\n",
       "  <tbody>\n",
       "    <tr>\n",
       "      <th>0</th>\n",
       "      <td>Chantaje (feat. Maluma)</td>\n",
       "      <td>1</td>\n",
       "      <td>2017-01-01</td>\n",
       "      <td>Shakira</td>\n",
       "      <td>https://open.spotify.com/track/6mICuAdrwEjh6Y6...</td>\n",
       "      <td>Argentina</td>\n",
       "      <td>top200</td>\n",
       "      <td>SAME_POSITION</td>\n",
       "      <td>253019.0</td>\n",
       "    </tr>\n",
       "    <tr>\n",
       "      <th>1</th>\n",
       "      <td>Vente Pa' Ca (feat. Maluma)</td>\n",
       "      <td>2</td>\n",
       "      <td>2017-01-01</td>\n",
       "      <td>Ricky Martin</td>\n",
       "      <td>https://open.spotify.com/track/7DM4BPaS7uofFul...</td>\n",
       "      <td>Argentina</td>\n",
       "      <td>top200</td>\n",
       "      <td>MOVE_UP</td>\n",
       "      <td>223988.0</td>\n",
       "    </tr>\n",
       "    <tr>\n",
       "      <th>2</th>\n",
       "      <td>Reggaetón Lento (Bailemos)</td>\n",
       "      <td>3</td>\n",
       "      <td>2017-01-01</td>\n",
       "      <td>CNCO</td>\n",
       "      <td>https://open.spotify.com/track/3AEZUABDXNtecAO...</td>\n",
       "      <td>Argentina</td>\n",
       "      <td>top200</td>\n",
       "      <td>MOVE_DOWN</td>\n",
       "      <td>210943.0</td>\n",
       "    </tr>\n",
       "    <tr>\n",
       "      <th>3</th>\n",
       "      <td>Safari</td>\n",
       "      <td>4</td>\n",
       "      <td>2017-01-01</td>\n",
       "      <td>J Balvin, Pharrell Williams, BIA, Sky</td>\n",
       "      <td>https://open.spotify.com/track/6rQSrBHf7HlZjtc...</td>\n",
       "      <td>Argentina</td>\n",
       "      <td>top200</td>\n",
       "      <td>SAME_POSITION</td>\n",
       "      <td>173865.0</td>\n",
       "    </tr>\n",
       "    <tr>\n",
       "      <th>4</th>\n",
       "      <td>Shaky Shaky</td>\n",
       "      <td>5</td>\n",
       "      <td>2017-01-01</td>\n",
       "      <td>Daddy Yankee</td>\n",
       "      <td>https://open.spotify.com/track/58IL315gMSTD37D...</td>\n",
       "      <td>Argentina</td>\n",
       "      <td>top200</td>\n",
       "      <td>MOVE_UP</td>\n",
       "      <td>153956.0</td>\n",
       "    </tr>\n",
       "  </tbody>\n",
       "</table>\n",
       "</div>"
      ],
      "text/plain": [
       "                         title  rank        date  \\\n",
       "0      Chantaje (feat. Maluma)     1  2017-01-01   \n",
       "1  Vente Pa' Ca (feat. Maluma)     2  2017-01-01   \n",
       "2   Reggaetón Lento (Bailemos)     3  2017-01-01   \n",
       "3                       Safari     4  2017-01-01   \n",
       "4                  Shaky Shaky     5  2017-01-01   \n",
       "\n",
       "                                  artist  \\\n",
       "0                                Shakira   \n",
       "1                           Ricky Martin   \n",
       "2                                   CNCO   \n",
       "3  J Balvin, Pharrell Williams, BIA, Sky   \n",
       "4                           Daddy Yankee   \n",
       "\n",
       "                                                 url     region   chart  \\\n",
       "0  https://open.spotify.com/track/6mICuAdrwEjh6Y6...  Argentina  top200   \n",
       "1  https://open.spotify.com/track/7DM4BPaS7uofFul...  Argentina  top200   \n",
       "2  https://open.spotify.com/track/3AEZUABDXNtecAO...  Argentina  top200   \n",
       "3  https://open.spotify.com/track/6rQSrBHf7HlZjtc...  Argentina  top200   \n",
       "4  https://open.spotify.com/track/58IL315gMSTD37D...  Argentina  top200   \n",
       "\n",
       "           trend   streams  \n",
       "0  SAME_POSITION  253019.0  \n",
       "1        MOVE_UP  223988.0  \n",
       "2      MOVE_DOWN  210943.0  \n",
       "3  SAME_POSITION  173865.0  \n",
       "4        MOVE_UP  153956.0  "
      ]
     },
     "execution_count": 1,
     "metadata": {},
     "output_type": "execute_result"
    }
   ],
   "source": [
    "import pandas as pd\n",
    "\n",
    "spotify= pd.read_csv('C:/Users/jesus/Downloads/archive (1)/charts.csv')\n",
    "\n",
    "spotify.head()"
   ]
  },
  {
   "cell_type": "markdown",
   "id": "ca4391dd",
   "metadata": {},
   "source": [
    "This is filtering just for 2021, only European countries and within the top 50."
   ]
  },
  {
   "cell_type": "code",
   "execution_count": 2,
   "id": "8af1e0e6",
   "metadata": {},
   "outputs": [],
   "source": [
    "spotify['date'] = pd.to_datetime(spotify['date'])\n",
    "spotify_2021 = spotify[spotify['date'].between('2021-01-01', '2021-12-31')]\n",
    "Europe=['Spain', 'Hungary', 'Iceland', 'Belgium', 'Denmark', 'Austria', 'Bulgaria', 'Czech Republic', 'Finland', 'France', 'Estonia', 'Germany', 'Greece', 'Ireland', 'Italy', 'Latvia', 'Lithuania', 'Netherlands', 'Norway', 'Poland', 'Portugal', 'Romania', 'Sweden', 'Slovakia', 'Switzerland', 'Ukraine', 'United Kingdom', 'Luxembourg']\n",
    "spotify_2021_Europe = spotify_2021[spotify_2021['region'].isin(Europe)]\n",
    "spotify_top50 = spotify_2021_Europe[spotify_2021_Europe['rank'] < 51]"
   ]
  },
  {
   "cell_type": "markdown",
   "id": "6e7e0980",
   "metadata": {},
   "source": [
    "This is replacing special characters in the artists"
   ]
  },
  {
   "cell_type": "code",
   "execution_count": 3,
   "id": "35cd8b24",
   "metadata": {},
   "outputs": [
    {
     "name": "stderr",
     "output_type": "stream",
     "text": [
      "C:\\Users\\jesus\\AppData\\Local\\Temp\\ipykernel_7144\\3398250923.py:1: FutureWarning: Series.replace without 'value' and with non-dict-like 'to_replace' is deprecated and will raise in a future version. Explicitly specify the new values instead.\n",
      "  spotify_top50['artist']= spotify_top50['artist'].replace(\"Канги\",\"Kangi\").replace(\"дора\",\"Dora\").replace(\"Ваня Дмитриенко\",\"Vanya Dmitrienko\").replace(\"Scriptonite, Индаблэк, qurt, Rodionis\", \"Scriptonite, Indablack, qurt, Rodionis\").replace(\"T-Fest, дора\",\"T-Fest, Dora\").replace(\"Платина, Дора\",\"Platina, Dora\").replace(\"Skryptonite, Райда\", \"Skryptonite, Rayda\").replace(\"АДЛИН\",\"Adlin\").replace(\"escape, Даня Милохин\",\"escape, Danya Milokhin\").replace(\"Okean Elzy, Один в каное\", \"Okean Elzy, Odyn V Kanoe\").replace(\"Платина, PLOHOYPAREN\", \"Platina, PLOHOYPAREN\").replace(\"Платина, LIL VAN\",\"Platina, LIL VAN\").replace(\"Ильич да Софья\",\"Ilyich da Sophya\").replace(\"вышел покурить\",\"Vyshel pokurit\").replace(\"Даня Милохин, Mumiy Troll\",\"Danya Milokhin, Mumiy Troll\").replace(\"Аркадий Хоралов, Irina Ortman\",\"Arkadiy Khoralov, Irina Ortman\").replace((\"Хабиб\",\"Khabib\")).replace(\"УННВ\",\"UNNV\").replace(\"美波\",\"Minami\").replace(\"ДЕТИ RAVE\",\"DETI RAVE\").replace(\"Gena, Руши\",\"Gena, Rushi Vidinliev\").replace(\"Платина, дора\",\"Platina, Dora\").replace(\"Платина, Кравц\",\"Platina, Kravts\").replace(\"Платина, Мари Краймбрери\",\"Platina, Mari Kraimbrery\").replace(\"Платина, Мот\",\"Platina, Mot\").replace(\"Платина, Мари Краймбрери\",\"Platina, Mari Kraimbrery\").replace(\"Платина, Мот\",\"Platina, Mot\").replace(\"Платина, Мари Краймбрери\",\"Platina, Mari Kraimbrery\").replace(\"Платина, Мот\",\"Platina, Mot\").replace(\"M&A, Бэтси\",\"M&A, Betsy\").replace(\"Твоя молодость\",\"Tvoya molodost\").replace(\"DJ Blyatman, длб\",\"DJ Blyatman, DLB\").replace(\"КАКАЯ РАЗНИЦА\",\"Who cares\").replace(\"КИССКОЛД\",\"Kisscold\").replace(\"конец солнечных дней\",\"konec solnechnyh dney\").replace(\"Макс Пташник\",\"Max Ptashnyk\").replace(\"By Индия\", \"By India\").replace(\"LINA LEE, Ваня Дмитриенко\",\"LINA LEE, Vanya dmitriesnko\").replace(\"Где Фантом?\",\"Gde Fantom?\").replace(\"Аюб Вахарагов\",\"Ayub Vaharagov\").replace(\"Тарас Чубай, Плач Єремії\",\"Taras Chubay, Plach Yeremii\").replace(\"Таралеща\",\"Taraleshta\").replace(\"МЫ\",\"MY\").replace(\"Сарра\",\"Cappa\").replace(\"РУВИ\",\"RUVY\").replace(\"Предтрен\",\"Predtren\").replace(\"Плага, JAMIK\",\"Pluga, JAMIK\").replace(\"Ваня Люленов\",\"Vanya Lyulenov\").replace(\"Пирятин\",\"Piryatin\").replace(\"Дайте танк (!)\",\"Daite tank (!)\").replace(\"Ежемесячные\",\"Ezhemesyachnye\").replace(\"Кишлак\",\"Krishlak\").replace(\"наше последнее лето\",\"nashe poslednee leto\").replace(\"АДЛИН, Килджо\",\"Adlin, kildjo\").replace(\"Повстанська Народна Патріотична Пісня\",\"Povstanska Narodna Patriotichna Pisnya\").replace(\"Курган & Agregat, LATEXFAUNA\",\"Kurgan & Agregat, LATEXFAUNA\").replace(\"Бульбулятор\",\"Bulbylyator\").replace(\"Валентин Дядька, Стереополина\",\"Valentin Dyadka, Stereopolina\").replace(\"ł\",\"l\").replace(\"ð\",\"d\").replace(\"Даниил Степанов\",\"Daniil Stepanov\").replace(\"Три дня дождя\",\"Tri dnya dozhdya\").replace(\"билборды\",\"bilbordy\").replace(\"Βέβηλος\",\"Vevilos\").replace(\"Niman, Truwer, Райда, Scriptonite\",\"Niman, Truwer, Rayda, Scriptonite\").replace(\"Керана и космонавтите\",\"Kerana i kosmonavtite\").replace(\"Дeva\",\"Deva\").replace(\"Зараза\",\"Zaraza\").replace(\"Спектакль Джо\",\"Spektakl Joe\").replace(\"Я.СГОРЕЛ.ДВАЖДЫ, @strochka.mag\",\"Ya.sgorel.dvazdy, @strochka.mag\").replace(\"Palagin, Куок, Индаблэк, GOODY\",\"Palagin, Kyok, Indablack, GOODY\").replace(\"Кондрашов\", \"Kondrashov\").replace(\"Александр Гудков, Cream Soda\",\"Alexander Gudkov, Cream Soda\").replace(\"Просто Вопрос\",\"Prosto Vopros\").replace(\"алёна швец.\",\"alena shvets.\").replace(\"ø\",\"o\").replace(\"Boro Purvi, Мариус Куркински\",\"Boro Purvi, Marius Kurkinski\").replace(\"Лилу45\",\"Lilu45\").replace(\"ЕГОР ШИП\", \"Egor Ship\").replace(\"ФОГЕЛЬ\",\"Fogel\").replace(\"МОТ\",\"MoT\").replace(\"Перемотка\",\"Peremotka\").replace(\"æ\",\"ae\").replace(\"Саша Чемеров, Boombox\",\"Sasha Chemerov, Boombox\").replace(\"Þ\",\"th\").replace(\"NЮ\",\"NIO\").replace(\"œ\",\"oe\").replace(\"Dedublüman, Çağrı Çelik\",\"Dedubluman, Cagri Celik\").replace(\"ギヴン\",\"Given\").replace(\"稲葉曇\",\"Inaba Kumo\").replace(\"Лилу45\",\"Lilu45\").replace(\"Дора\",\"Dora\").replace(\"Rdmk, Лъчо\", \"Rdmk, Lucho\").replace(\"ВесЪ, GUF\",\"Ves, GUF\").replace(\"Луна\",\"Luna\").replace(\"Лъчо\",\"Lucho\").replace(\"Лилу, LOVV66\",\"Leeloo, LOVV66\").replace(\"Scriptonite, Райда\",\"Scriptonite, Rayda\").replace(\"Колос\",\"Kolos\").replace(\"Шайни, 3TERNITY\",\"Shiny, 3TERNITY\").replace(\"Грибы\",\"Griby\").replace(\"Θύτης\",\"Thytis\").replace(\"Xcho, Пабло, ALEMOND\",\"Xcho, Pablo, ALEMOND\").replace(\"ФОГЕЛЬ\",\"Fogel\").replace(\"Sимптом, Andy Panda, TumaniYO\",\"Simptom, Andy Panda, TumaniYO\").replace(\"лиззка\",\"Lizzka\").replace(\"Платина, Мари Краймбрери\",\"Platina, Mari Kraimbrery\").replace(\"Платина, Мот\",\"Platina, Mot\").replace(\"Платина, Мари Краймбрери\",\"Platina, Mari Kraimbrery\").replace(\"Платина, Мот\",\"Platina, Mot\").replace(\"Платина, Мари Краймбрери\",\"Platina, Mari Kraimbrery\").replace(\"Платина, Мот\",\"Platina, Mot\").replace(\"Платина, Мари Краймбрери\",\"Platina, Mari Kraimbrery\").replace(\"Платина, Мот\",\"Platina, Mot\").replace(\"Платина, Мари Краймбрери\",\"Platina, Mari Kraimbrery\").replace(\"Платина, Мот\",\"Platina, Mot\").replace(\"Платина, Мари Краймбрери\",\"Platina, Mari Kraimbrery\").replace(\"Платина, Мот\",\"Platina, Mot\").replace(\"Платина, Мари Краймбрери\",\"Platina, Mari Kraimbrery\").replace(\"Платина, Мот\",\"Platina, Mot\").replace(\"Платина, Мари Краймбрери\",\"Platina, Mari Kraimbrery\").replace(\"Платина, Мот\",\"Platina, Mot\").replace(\"Гербер\",\"Gerber\").replace(\"suramura, Рэйчел\",\"Suramura, Rachel\").replace(\"Платина, Big Baby Tape\",\"Platina, Big Baby Tape\").replace(\"Платина, OG Buda, MAYOT\",\"Platina, OG Buda, MAYOT\").replace(\"Платина\",\"Platina\").replace(\"mazellovvv, маз корж\",\"Mazellovvv, Maz Korzh\").replace(\"SSaSke Нарезки, iiRN, 5opka\",\"SSaSke Narezki, iiRN, 5opka\").replace(\"АСАФАТОV\",\"ASAFATOV\").replace(\"нексюша\",\"Nexyusha\").replace(\"Вектор А, METAN\",\"Vector A, METAN\").replace(\"Кобяков\",\"Kobyakov\").replace(\"БЛЭЙЗЕР\",\"BLAZER\").replace(\"METAN, Вектор А\",\"METAN, Vector A\").replace(\"ЕГОР ШИП\",\"Egor Ship\").replace(\"We, Лэривэйн\",\"We, Lerivain\").replace(\"Абрикоса\",\"Abrikosa\").replace(\"Перемотка\",\"Peremotka\").replace(\"Автоспорт\",\"Avtosport\").replace(\"3TERNITY, хочуспать\",\"3TERNITY, hochuspat\").replace(\"Стекловата, Steklovata\",\"Steklovata, Steklovata\").replace(\"OVERHILL, КРИСПИ, Экси, PUSSYKILLER\",\"OVERHILL, KRISPI, Eksi, PUSSYKILLER\").replace(\"Стекловата\", \"Steklovata\").replace(\"Steklovata, Стекловата\", \"Steklovata, Steklovata\").replace(\"Саша Чемеров, Boombox\", \"Sasha Chemerov, Boombox\").replace(\"просто Лера\", \"prosto Lera\").replace(\"Орест Лютий\",\"Orest Lyutiy\").replace(\"欣然丫, 高亚楠, 风云音社, 虞姬\",\"Xinran Ya, Gao Yanan, Fengyun Yin She, Yu Ji\").replace(\"забей, лерочка\",\"zabei, Lerochka\").replace(\"Миша Кацурин\",\"Misha Katsurin\").replace(\"Група Жигули\",\"Gruppa Zhiguli\").replace(\"Ваня Костова\",\"Vanya Kostova\").replace(\"Спални Места\",\"Spalni Mesta\").replace(\"Настя Гонцул\",\"Nastya Gontsul\").replace(\"Папин Олимпос\",\"Papin Olimpos\").replace(\"Глеб Калюжный\",\"Gleb Kalyuzhnyy\").replace(\"Ваня Великова\",\"Vanya Velikova\").replace(\"Κοινοί Θνητοί\",\"Koinoi Thnitoi\").replace(\"Мертвий півень\",\"Mertviy Piven\").replace(\"Артский, Марик эс\",\"Artskiy, Marik es\").replace(\"Султан Лагучев\",\"Sultan Laguchev\").replace(\"Boro Purvi, Мариус Куркински\",\"Boro Purvi, Marius Kurkinski\").replace(\"ЭЛЕКТРОСЛАБОСТЬ\",\"ELEKTROSLABOST\").replace(\"Альбина Сексова\",\"Albina Seksova\").replace(\"Кирилл Нефтерев\",\"Kirill Neftyev\").replace(\"В'ячеслав Кукоба\",\"V'yacheslav Kukoba\").replace(\"Ваня Костова, Боян Михайлов\",\"Vanya Kostova, Boyan Mihaylov\").replace(\"Баста feat. Алёна Омаргалиева\",\"Basta feat. Alena Omarhalieva\").replace(\"遠野高志, 加島優, 矢口恭介, ジミー, 百合絢斗, 田村唯, 明美圭一, 糸目幸士郎, 鹿谷樹\",\"Tono Takashi, Kashima Yuu, Yaguchi Kyousuke, Jimmy, Yuri Ayato, Tamura Yui, Akemi Keiichi, Itome Koushirou, Shikatani Itsuki\").replace(\"Миша Кацурин\",\"Misha Katsurin\").replace(\"Група Жигули\",\"Gruppa Zhiguli\").replace(\"Ваня Костова\",\"Vanya Kostova\").replace(\"Спални Места\",\"Spalni Mesta\").replace(\"Настя Гонцул\",\"Nastya Gontsul\").replace(\"Папин Олимпос\",\"Papin Olimpos\").replace(\"Глеб Калюжный\",\"Gleb Kalyuzhnyy\").replace(\"Ваня Великова\",\"Vanya Velikova\").replace(\"Κοινοί Θνητοί\",\"Koinoi Thnitoi\").replace(\"Мертвий півень\",\"Mertviy Piven\").replace(\"Артский, Марик эс\",\"Artskiy, Marik es\").replace(\"Султан Лагучев\",\"Sultan Laguchev\").replace(\"Boro Purvi, Мариус Куркински\",\"Boro Purvi, Marius Kurkinski\").replace(\"ЭЛЕКТРОСЛАБОСТЬ\",\"ELEKTROSLABOST\").replace(\"Альбина Сексова\",\"Albina Seksova\").replace(\"Кирилл Нефтерев\",\"Kirill Neftyev\").replace(\"В'ячеслав Кукоба\",\"V'yacheslav Kukoba\").replace(\"Ваня Костова, Боян Михайлов\",\"Vanya Kostova, Boyan Mihaylov\").replace(\"Баста feat. Алёна Омаргалиева\",\"Basta feat. Alena Omarhalieva\").replace(\"遠野高志, 加島優, 矢口恭介, ジミー, 百合絢斗, 田村唯, 明美圭一, 糸目幸士郎, 鹿谷樹\",\"Tono Takashi, Kashima Yuu, Yaguchi Kyousuke, Jimmy, Yuri Ayato, Tamura Yui, Akemi Keiichi, Itome Koushirou, Shikatani Itsuki\").replace(\"æ\",\"ae\").replace(\"ð\",\"d\").replace(\"ł\",\"l\").replace(\"ø\",\"o\").replace(\"Þ\",\"th\").replace(\"Ø\",\"O\").replace(\"э\",\"e\").replace(\"Æ\",\"AE\").replace(\"Daði\", \"Dadi\").replace(\"MØ\", \"MO\").replace(\"Komið Að Því\", \"Komid Ad Thvi\").replace(\"Эйя\", \"Eya\").replace(\"АУФ\", \"AUF\")\n",
      "C:\\Users\\jesus\\AppData\\Local\\Temp\\ipykernel_7144\\3398250923.py:1: SettingWithCopyWarning: \n",
      "A value is trying to be set on a copy of a slice from a DataFrame.\n",
      "Try using .loc[row_indexer,col_indexer] = value instead\n",
      "\n",
      "See the caveats in the documentation: https://pandas.pydata.org/pandas-docs/stable/user_guide/indexing.html#returning-a-view-versus-a-copy\n",
      "  spotify_top50['artist']= spotify_top50['artist'].replace(\"Канги\",\"Kangi\").replace(\"дора\",\"Dora\").replace(\"Ваня Дмитриенко\",\"Vanya Dmitrienko\").replace(\"Scriptonite, Индаблэк, qurt, Rodionis\", \"Scriptonite, Indablack, qurt, Rodionis\").replace(\"T-Fest, дора\",\"T-Fest, Dora\").replace(\"Платина, Дора\",\"Platina, Dora\").replace(\"Skryptonite, Райда\", \"Skryptonite, Rayda\").replace(\"АДЛИН\",\"Adlin\").replace(\"escape, Даня Милохин\",\"escape, Danya Milokhin\").replace(\"Okean Elzy, Один в каное\", \"Okean Elzy, Odyn V Kanoe\").replace(\"Платина, PLOHOYPAREN\", \"Platina, PLOHOYPAREN\").replace(\"Платина, LIL VAN\",\"Platina, LIL VAN\").replace(\"Ильич да Софья\",\"Ilyich da Sophya\").replace(\"вышел покурить\",\"Vyshel pokurit\").replace(\"Даня Милохин, Mumiy Troll\",\"Danya Milokhin, Mumiy Troll\").replace(\"Аркадий Хоралов, Irina Ortman\",\"Arkadiy Khoralov, Irina Ortman\").replace((\"Хабиб\",\"Khabib\")).replace(\"УННВ\",\"UNNV\").replace(\"美波\",\"Minami\").replace(\"ДЕТИ RAVE\",\"DETI RAVE\").replace(\"Gena, Руши\",\"Gena, Rushi Vidinliev\").replace(\"Платина, дора\",\"Platina, Dora\").replace(\"Платина, Кравц\",\"Platina, Kravts\").replace(\"Платина, Мари Краймбрери\",\"Platina, Mari Kraimbrery\").replace(\"Платина, Мот\",\"Platina, Mot\").replace(\"Платина, Мари Краймбрери\",\"Platina, Mari Kraimbrery\").replace(\"Платина, Мот\",\"Platina, Mot\").replace(\"Платина, Мари Краймбрери\",\"Platina, Mari Kraimbrery\").replace(\"Платина, Мот\",\"Platina, Mot\").replace(\"M&A, Бэтси\",\"M&A, Betsy\").replace(\"Твоя молодость\",\"Tvoya molodost\").replace(\"DJ Blyatman, длб\",\"DJ Blyatman, DLB\").replace(\"КАКАЯ РАЗНИЦА\",\"Who cares\").replace(\"КИССКОЛД\",\"Kisscold\").replace(\"конец солнечных дней\",\"konec solnechnyh dney\").replace(\"Макс Пташник\",\"Max Ptashnyk\").replace(\"By Индия\", \"By India\").replace(\"LINA LEE, Ваня Дмитриенко\",\"LINA LEE, Vanya dmitriesnko\").replace(\"Где Фантом?\",\"Gde Fantom?\").replace(\"Аюб Вахарагов\",\"Ayub Vaharagov\").replace(\"Тарас Чубай, Плач Єремії\",\"Taras Chubay, Plach Yeremii\").replace(\"Таралеща\",\"Taraleshta\").replace(\"МЫ\",\"MY\").replace(\"Сарра\",\"Cappa\").replace(\"РУВИ\",\"RUVY\").replace(\"Предтрен\",\"Predtren\").replace(\"Плага, JAMIK\",\"Pluga, JAMIK\").replace(\"Ваня Люленов\",\"Vanya Lyulenov\").replace(\"Пирятин\",\"Piryatin\").replace(\"Дайте танк (!)\",\"Daite tank (!)\").replace(\"Ежемесячные\",\"Ezhemesyachnye\").replace(\"Кишлак\",\"Krishlak\").replace(\"наше последнее лето\",\"nashe poslednee leto\").replace(\"АДЛИН, Килджо\",\"Adlin, kildjo\").replace(\"Повстанська Народна Патріотична Пісня\",\"Povstanska Narodna Patriotichna Pisnya\").replace(\"Курган & Agregat, LATEXFAUNA\",\"Kurgan & Agregat, LATEXFAUNA\").replace(\"Бульбулятор\",\"Bulbylyator\").replace(\"Валентин Дядька, Стереополина\",\"Valentin Dyadka, Stereopolina\").replace(\"ł\",\"l\").replace(\"ð\",\"d\").replace(\"Даниил Степанов\",\"Daniil Stepanov\").replace(\"Три дня дождя\",\"Tri dnya dozhdya\").replace(\"билборды\",\"bilbordy\").replace(\"Βέβηλος\",\"Vevilos\").replace(\"Niman, Truwer, Райда, Scriptonite\",\"Niman, Truwer, Rayda, Scriptonite\").replace(\"Керана и космонавтите\",\"Kerana i kosmonavtite\").replace(\"Дeva\",\"Deva\").replace(\"Зараза\",\"Zaraza\").replace(\"Спектакль Джо\",\"Spektakl Joe\").replace(\"Я.СГОРЕЛ.ДВАЖДЫ, @strochka.mag\",\"Ya.sgorel.dvazdy, @strochka.mag\").replace(\"Palagin, Куок, Индаблэк, GOODY\",\"Palagin, Kyok, Indablack, GOODY\").replace(\"Кондрашов\", \"Kondrashov\").replace(\"Александр Гудков, Cream Soda\",\"Alexander Gudkov, Cream Soda\").replace(\"Просто Вопрос\",\"Prosto Vopros\").replace(\"алёна швец.\",\"alena shvets.\").replace(\"ø\",\"o\").replace(\"Boro Purvi, Мариус Куркински\",\"Boro Purvi, Marius Kurkinski\").replace(\"Лилу45\",\"Lilu45\").replace(\"ЕГОР ШИП\", \"Egor Ship\").replace(\"ФОГЕЛЬ\",\"Fogel\").replace(\"МОТ\",\"MoT\").replace(\"Перемотка\",\"Peremotka\").replace(\"æ\",\"ae\").replace(\"Саша Чемеров, Boombox\",\"Sasha Chemerov, Boombox\").replace(\"Þ\",\"th\").replace(\"NЮ\",\"NIO\").replace(\"œ\",\"oe\").replace(\"Dedublüman, Çağrı Çelik\",\"Dedubluman, Cagri Celik\").replace(\"ギヴン\",\"Given\").replace(\"稲葉曇\",\"Inaba Kumo\").replace(\"Лилу45\",\"Lilu45\").replace(\"Дора\",\"Dora\").replace(\"Rdmk, Лъчо\", \"Rdmk, Lucho\").replace(\"ВесЪ, GUF\",\"Ves, GUF\").replace(\"Луна\",\"Luna\").replace(\"Лъчо\",\"Lucho\").replace(\"Лилу, LOVV66\",\"Leeloo, LOVV66\").replace(\"Scriptonite, Райда\",\"Scriptonite, Rayda\").replace(\"Колос\",\"Kolos\").replace(\"Шайни, 3TERNITY\",\"Shiny, 3TERNITY\").replace(\"Грибы\",\"Griby\").replace(\"Θύτης\",\"Thytis\").replace(\"Xcho, Пабло, ALEMOND\",\"Xcho, Pablo, ALEMOND\").replace(\"ФОГЕЛЬ\",\"Fogel\").replace(\"Sимптом, Andy Panda, TumaniYO\",\"Simptom, Andy Panda, TumaniYO\").replace(\"лиззка\",\"Lizzka\").replace(\"Платина, Мари Краймбрери\",\"Platina, Mari Kraimbrery\").replace(\"Платина, Мот\",\"Platina, Mot\").replace(\"Платина, Мари Краймбрери\",\"Platina, Mari Kraimbrery\").replace(\"Платина, Мот\",\"Platina, Mot\").replace(\"Платина, Мари Краймбрери\",\"Platina, Mari Kraimbrery\").replace(\"Платина, Мот\",\"Platina, Mot\").replace(\"Платина, Мари Краймбрери\",\"Platina, Mari Kraimbrery\").replace(\"Платина, Мот\",\"Platina, Mot\").replace(\"Платина, Мари Краймбрери\",\"Platina, Mari Kraimbrery\").replace(\"Платина, Мот\",\"Platina, Mot\").replace(\"Платина, Мари Краймбрери\",\"Platina, Mari Kraimbrery\").replace(\"Платина, Мот\",\"Platina, Mot\").replace(\"Платина, Мари Краймбрери\",\"Platina, Mari Kraimbrery\").replace(\"Платина, Мот\",\"Platina, Mot\").replace(\"Платина, Мари Краймбрери\",\"Platina, Mari Kraimbrery\").replace(\"Платина, Мот\",\"Platina, Mot\").replace(\"Гербер\",\"Gerber\").replace(\"suramura, Рэйчел\",\"Suramura, Rachel\").replace(\"Платина, Big Baby Tape\",\"Platina, Big Baby Tape\").replace(\"Платина, OG Buda, MAYOT\",\"Platina, OG Buda, MAYOT\").replace(\"Платина\",\"Platina\").replace(\"mazellovvv, маз корж\",\"Mazellovvv, Maz Korzh\").replace(\"SSaSke Нарезки, iiRN, 5opka\",\"SSaSke Narezki, iiRN, 5opka\").replace(\"АСАФАТОV\",\"ASAFATOV\").replace(\"нексюша\",\"Nexyusha\").replace(\"Вектор А, METAN\",\"Vector A, METAN\").replace(\"Кобяков\",\"Kobyakov\").replace(\"БЛЭЙЗЕР\",\"BLAZER\").replace(\"METAN, Вектор А\",\"METAN, Vector A\").replace(\"ЕГОР ШИП\",\"Egor Ship\").replace(\"We, Лэривэйн\",\"We, Lerivain\").replace(\"Абрикоса\",\"Abrikosa\").replace(\"Перемотка\",\"Peremotka\").replace(\"Автоспорт\",\"Avtosport\").replace(\"3TERNITY, хочуспать\",\"3TERNITY, hochuspat\").replace(\"Стекловата, Steklovata\",\"Steklovata, Steklovata\").replace(\"OVERHILL, КРИСПИ, Экси, PUSSYKILLER\",\"OVERHILL, KRISPI, Eksi, PUSSYKILLER\").replace(\"Стекловата\", \"Steklovata\").replace(\"Steklovata, Стекловата\", \"Steklovata, Steklovata\").replace(\"Саша Чемеров, Boombox\", \"Sasha Chemerov, Boombox\").replace(\"просто Лера\", \"prosto Lera\").replace(\"Орест Лютий\",\"Orest Lyutiy\").replace(\"欣然丫, 高亚楠, 风云音社, 虞姬\",\"Xinran Ya, Gao Yanan, Fengyun Yin She, Yu Ji\").replace(\"забей, лерочка\",\"zabei, Lerochka\").replace(\"Миша Кацурин\",\"Misha Katsurin\").replace(\"Група Жигули\",\"Gruppa Zhiguli\").replace(\"Ваня Костова\",\"Vanya Kostova\").replace(\"Спални Места\",\"Spalni Mesta\").replace(\"Настя Гонцул\",\"Nastya Gontsul\").replace(\"Папин Олимпос\",\"Papin Olimpos\").replace(\"Глеб Калюжный\",\"Gleb Kalyuzhnyy\").replace(\"Ваня Великова\",\"Vanya Velikova\").replace(\"Κοινοί Θνητοί\",\"Koinoi Thnitoi\").replace(\"Мертвий півень\",\"Mertviy Piven\").replace(\"Артский, Марик эс\",\"Artskiy, Marik es\").replace(\"Султан Лагучев\",\"Sultan Laguchev\").replace(\"Boro Purvi, Мариус Куркински\",\"Boro Purvi, Marius Kurkinski\").replace(\"ЭЛЕКТРОСЛАБОСТЬ\",\"ELEKTROSLABOST\").replace(\"Альбина Сексова\",\"Albina Seksova\").replace(\"Кирилл Нефтерев\",\"Kirill Neftyev\").replace(\"В'ячеслав Кукоба\",\"V'yacheslav Kukoba\").replace(\"Ваня Костова, Боян Михайлов\",\"Vanya Kostova, Boyan Mihaylov\").replace(\"Баста feat. Алёна Омаргалиева\",\"Basta feat. Alena Omarhalieva\").replace(\"遠野高志, 加島優, 矢口恭介, ジミー, 百合絢斗, 田村唯, 明美圭一, 糸目幸士郎, 鹿谷樹\",\"Tono Takashi, Kashima Yuu, Yaguchi Kyousuke, Jimmy, Yuri Ayato, Tamura Yui, Akemi Keiichi, Itome Koushirou, Shikatani Itsuki\").replace(\"Миша Кацурин\",\"Misha Katsurin\").replace(\"Група Жигули\",\"Gruppa Zhiguli\").replace(\"Ваня Костова\",\"Vanya Kostova\").replace(\"Спални Места\",\"Spalni Mesta\").replace(\"Настя Гонцул\",\"Nastya Gontsul\").replace(\"Папин Олимпос\",\"Papin Olimpos\").replace(\"Глеб Калюжный\",\"Gleb Kalyuzhnyy\").replace(\"Ваня Великова\",\"Vanya Velikova\").replace(\"Κοινοί Θνητοί\",\"Koinoi Thnitoi\").replace(\"Мертвий півень\",\"Mertviy Piven\").replace(\"Артский, Марик эс\",\"Artskiy, Marik es\").replace(\"Султан Лагучев\",\"Sultan Laguchev\").replace(\"Boro Purvi, Мариус Куркински\",\"Boro Purvi, Marius Kurkinski\").replace(\"ЭЛЕКТРОСЛАБОСТЬ\",\"ELEKTROSLABOST\").replace(\"Альбина Сексова\",\"Albina Seksova\").replace(\"Кирилл Нефтерев\",\"Kirill Neftyev\").replace(\"В'ячеслав Кукоба\",\"V'yacheslav Kukoba\").replace(\"Ваня Костова, Боян Михайлов\",\"Vanya Kostova, Boyan Mihaylov\").replace(\"Баста feat. Алёна Омаргалиева\",\"Basta feat. Alena Omarhalieva\").replace(\"遠野高志, 加島優, 矢口恭介, ジミー, 百合絢斗, 田村唯, 明美圭一, 糸目幸士郎, 鹿谷樹\",\"Tono Takashi, Kashima Yuu, Yaguchi Kyousuke, Jimmy, Yuri Ayato, Tamura Yui, Akemi Keiichi, Itome Koushirou, Shikatani Itsuki\").replace(\"æ\",\"ae\").replace(\"ð\",\"d\").replace(\"ł\",\"l\").replace(\"ø\",\"o\").replace(\"Þ\",\"th\").replace(\"Ø\",\"O\").replace(\"э\",\"e\").replace(\"Æ\",\"AE\").replace(\"Daði\", \"Dadi\").replace(\"MØ\", \"MO\").replace(\"Komið Að Því\", \"Komid Ad Thvi\").replace(\"Эйя\", \"Eya\").replace(\"АУФ\", \"AUF\")\n"
     ]
    }
   ],
   "source": [
    "spotify_top50['artist']= spotify_top50['artist'].replace(\"Канги\",\"Kangi\").replace(\"дора\",\"Dora\").replace(\"Ваня Дмитриенко\",\"Vanya Dmitrienko\").replace(\"Scriptonite, Индаблэк, qurt, Rodionis\", \"Scriptonite, Indablack, qurt, Rodionis\").replace(\"T-Fest, дора\",\"T-Fest, Dora\").replace(\"Платина, Дора\",\"Platina, Dora\").replace(\"Skryptonite, Райда\", \"Skryptonite, Rayda\").replace(\"АДЛИН\",\"Adlin\").replace(\"escape, Даня Милохин\",\"escape, Danya Milokhin\").replace(\"Okean Elzy, Один в каное\", \"Okean Elzy, Odyn V Kanoe\").replace(\"Платина, PLOHOYPAREN\", \"Platina, PLOHOYPAREN\").replace(\"Платина, LIL VAN\",\"Platina, LIL VAN\").replace(\"Ильич да Софья\",\"Ilyich da Sophya\").replace(\"вышел покурить\",\"Vyshel pokurit\").replace(\"Даня Милохин, Mumiy Troll\",\"Danya Milokhin, Mumiy Troll\").replace(\"Аркадий Хоралов, Irina Ortman\",\"Arkadiy Khoralov, Irina Ortman\").replace((\"Хабиб\",\"Khabib\")).replace(\"УННВ\",\"UNNV\").replace(\"美波\",\"Minami\").replace(\"ДЕТИ RAVE\",\"DETI RAVE\").replace(\"Gena, Руши\",\"Gena, Rushi Vidinliev\").replace(\"Платина, дора\",\"Platina, Dora\").replace(\"Платина, Кравц\",\"Platina, Kravts\").replace(\"Платина, Мари Краймбрери\",\"Platina, Mari Kraimbrery\").replace(\"Платина, Мот\",\"Platina, Mot\").replace(\"Платина, Мари Краймбрери\",\"Platina, Mari Kraimbrery\").replace(\"Платина, Мот\",\"Platina, Mot\").replace(\"Платина, Мари Краймбрери\",\"Platina, Mari Kraimbrery\").replace(\"Платина, Мот\",\"Platina, Mot\").replace(\"M&A, Бэтси\",\"M&A, Betsy\").replace(\"Твоя молодость\",\"Tvoya molodost\").replace(\"DJ Blyatman, длб\",\"DJ Blyatman, DLB\").replace(\"КАКАЯ РАЗНИЦА\",\"Who cares\").replace(\"КИССКОЛД\",\"Kisscold\").replace(\"конец солнечных дней\",\"konec solnechnyh dney\").replace(\"Макс Пташник\",\"Max Ptashnyk\").replace(\"By Индия\", \"By India\").replace(\"LINA LEE, Ваня Дмитриенко\",\"LINA LEE, Vanya dmitriesnko\").replace(\"Где Фантом?\",\"Gde Fantom?\").replace(\"Аюб Вахарагов\",\"Ayub Vaharagov\").replace(\"Тарас Чубай, Плач Єремії\",\"Taras Chubay, Plach Yeremii\").replace(\"Таралеща\",\"Taraleshta\").replace(\"МЫ\",\"MY\").replace(\"Сарра\",\"Cappa\").replace(\"РУВИ\",\"RUVY\").replace(\"Предтрен\",\"Predtren\").replace(\"Плага, JAMIK\",\"Pluga, JAMIK\").replace(\"Ваня Люленов\",\"Vanya Lyulenov\").replace(\"Пирятин\",\"Piryatin\").replace(\"Дайте танк (!)\",\"Daite tank (!)\").replace(\"Ежемесячные\",\"Ezhemesyachnye\").replace(\"Кишлак\",\"Krishlak\").replace(\"наше последнее лето\",\"nashe poslednee leto\").replace(\"АДЛИН, Килджо\",\"Adlin, kildjo\").replace(\"Повстанська Народна Патріотична Пісня\",\"Povstanska Narodna Patriotichna Pisnya\").replace(\"Курган & Agregat, LATEXFAUNA\",\"Kurgan & Agregat, LATEXFAUNA\").replace(\"Бульбулятор\",\"Bulbylyator\").replace(\"Валентин Дядька, Стереополина\",\"Valentin Dyadka, Stereopolina\").replace(\"ł\",\"l\").replace(\"ð\",\"d\").replace(\"Даниил Степанов\",\"Daniil Stepanov\").replace(\"Три дня дождя\",\"Tri dnya dozhdya\").replace(\"билборды\",\"bilbordy\").replace(\"Βέβηλος\",\"Vevilos\").replace(\"Niman, Truwer, Райда, Scriptonite\",\"Niman, Truwer, Rayda, Scriptonite\").replace(\"Керана и космонавтите\",\"Kerana i kosmonavtite\").replace(\"Дeva\",\"Deva\").replace(\"Зараза\",\"Zaraza\").replace(\"Спектакль Джо\",\"Spektakl Joe\").replace(\"Я.СГОРЕЛ.ДВАЖДЫ, @strochka.mag\",\"Ya.sgorel.dvazdy, @strochka.mag\").replace(\"Palagin, Куок, Индаблэк, GOODY\",\"Palagin, Kyok, Indablack, GOODY\").replace(\"Кондрашов\", \"Kondrashov\").replace(\"Александр Гудков, Cream Soda\",\"Alexander Gudkov, Cream Soda\").replace(\"Просто Вопрос\",\"Prosto Vopros\").replace(\"алёна швец.\",\"alena shvets.\").replace(\"ø\",\"o\").replace(\"Boro Purvi, Мариус Куркински\",\"Boro Purvi, Marius Kurkinski\").replace(\"Лилу45\",\"Lilu45\").replace(\"ЕГОР ШИП\", \"Egor Ship\").replace(\"ФОГЕЛЬ\",\"Fogel\").replace(\"МОТ\",\"MoT\").replace(\"Перемотка\",\"Peremotka\").replace(\"æ\",\"ae\").replace(\"Саша Чемеров, Boombox\",\"Sasha Chemerov, Boombox\").replace(\"Þ\",\"th\").replace(\"NЮ\",\"NIO\").replace(\"œ\",\"oe\").replace(\"Dedublüman, Çağrı Çelik\",\"Dedubluman, Cagri Celik\").replace(\"ギヴン\",\"Given\").replace(\"稲葉曇\",\"Inaba Kumo\").replace(\"Лилу45\",\"Lilu45\").replace(\"Дора\",\"Dora\").replace(\"Rdmk, Лъчо\", \"Rdmk, Lucho\").replace(\"ВесЪ, GUF\",\"Ves, GUF\").replace(\"Луна\",\"Luna\").replace(\"Лъчо\",\"Lucho\").replace(\"Лилу, LOVV66\",\"Leeloo, LOVV66\").replace(\"Scriptonite, Райда\",\"Scriptonite, Rayda\").replace(\"Колос\",\"Kolos\").replace(\"Шайни, 3TERNITY\",\"Shiny, 3TERNITY\").replace(\"Грибы\",\"Griby\").replace(\"Θύτης\",\"Thytis\").replace(\"Xcho, Пабло, ALEMOND\",\"Xcho, Pablo, ALEMOND\").replace(\"ФОГЕЛЬ\",\"Fogel\").replace(\"Sимптом, Andy Panda, TumaniYO\",\"Simptom, Andy Panda, TumaniYO\").replace(\"лиззка\",\"Lizzka\").replace(\"Платина, Мари Краймбрери\",\"Platina, Mari Kraimbrery\").replace(\"Платина, Мот\",\"Platina, Mot\").replace(\"Платина, Мари Краймбрери\",\"Platina, Mari Kraimbrery\").replace(\"Платина, Мот\",\"Platina, Mot\").replace(\"Платина, Мари Краймбрери\",\"Platina, Mari Kraimbrery\").replace(\"Платина, Мот\",\"Platina, Mot\").replace(\"Платина, Мари Краймбрери\",\"Platina, Mari Kraimbrery\").replace(\"Платина, Мот\",\"Platina, Mot\").replace(\"Платина, Мари Краймбрери\",\"Platina, Mari Kraimbrery\").replace(\"Платина, Мот\",\"Platina, Mot\").replace(\"Платина, Мари Краймбрери\",\"Platina, Mari Kraimbrery\").replace(\"Платина, Мот\",\"Platina, Mot\").replace(\"Платина, Мари Краймбрери\",\"Platina, Mari Kraimbrery\").replace(\"Платина, Мот\",\"Platina, Mot\").replace(\"Платина, Мари Краймбрери\",\"Platina, Mari Kraimbrery\").replace(\"Платина, Мот\",\"Platina, Mot\").replace(\"Гербер\",\"Gerber\").replace(\"suramura, Рэйчел\",\"Suramura, Rachel\").replace(\"Платина, Big Baby Tape\",\"Platina, Big Baby Tape\").replace(\"Платина, OG Buda, MAYOT\",\"Platina, OG Buda, MAYOT\").replace(\"Платина\",\"Platina\").replace(\"mazellovvv, маз корж\",\"Mazellovvv, Maz Korzh\").replace(\"SSaSke Нарезки, iiRN, 5opka\",\"SSaSke Narezki, iiRN, 5opka\").replace(\"АСАФАТОV\",\"ASAFATOV\").replace(\"нексюша\",\"Nexyusha\").replace(\"Вектор А, METAN\",\"Vector A, METAN\").replace(\"Кобяков\",\"Kobyakov\").replace(\"БЛЭЙЗЕР\",\"BLAZER\").replace(\"METAN, Вектор А\",\"METAN, Vector A\").replace(\"ЕГОР ШИП\",\"Egor Ship\").replace(\"We, Лэривэйн\",\"We, Lerivain\").replace(\"Абрикоса\",\"Abrikosa\").replace(\"Перемотка\",\"Peremotka\").replace(\"Автоспорт\",\"Avtosport\").replace(\"3TERNITY, хочуспать\",\"3TERNITY, hochuspat\").replace(\"Стекловата, Steklovata\",\"Steklovata, Steklovata\").replace(\"OVERHILL, КРИСПИ, Экси, PUSSYKILLER\",\"OVERHILL, KRISPI, Eksi, PUSSYKILLER\").replace(\"Стекловата\", \"Steklovata\").replace(\"Steklovata, Стекловата\", \"Steklovata, Steklovata\").replace(\"Саша Чемеров, Boombox\", \"Sasha Chemerov, Boombox\").replace(\"просто Лера\", \"prosto Lera\").replace(\"Орест Лютий\",\"Orest Lyutiy\").replace(\"欣然丫, 高亚楠, 风云音社, 虞姬\",\"Xinran Ya, Gao Yanan, Fengyun Yin She, Yu Ji\").replace(\"забей, лерочка\",\"zabei, Lerochka\").replace(\"Миша Кацурин\",\"Misha Katsurin\").replace(\"Група Жигули\",\"Gruppa Zhiguli\").replace(\"Ваня Костова\",\"Vanya Kostova\").replace(\"Спални Места\",\"Spalni Mesta\").replace(\"Настя Гонцул\",\"Nastya Gontsul\").replace(\"Папин Олимпос\",\"Papin Olimpos\").replace(\"Глеб Калюжный\",\"Gleb Kalyuzhnyy\").replace(\"Ваня Великова\",\"Vanya Velikova\").replace(\"Κοινοί Θνητοί\",\"Koinoi Thnitoi\").replace(\"Мертвий півень\",\"Mertviy Piven\").replace(\"Артский, Марик эс\",\"Artskiy, Marik es\").replace(\"Султан Лагучев\",\"Sultan Laguchev\").replace(\"Boro Purvi, Мариус Куркински\",\"Boro Purvi, Marius Kurkinski\").replace(\"ЭЛЕКТРОСЛАБОСТЬ\",\"ELEKTROSLABOST\").replace(\"Альбина Сексова\",\"Albina Seksova\").replace(\"Кирилл Нефтерев\",\"Kirill Neftyev\").replace(\"В'ячеслав Кукоба\",\"V'yacheslav Kukoba\").replace(\"Ваня Костова, Боян Михайлов\",\"Vanya Kostova, Boyan Mihaylov\").replace(\"Баста feat. Алёна Омаргалиева\",\"Basta feat. Alena Omarhalieva\").replace(\"遠野高志, 加島優, 矢口恭介, ジミー, 百合絢斗, 田村唯, 明美圭一, 糸目幸士郎, 鹿谷樹\",\"Tono Takashi, Kashima Yuu, Yaguchi Kyousuke, Jimmy, Yuri Ayato, Tamura Yui, Akemi Keiichi, Itome Koushirou, Shikatani Itsuki\").replace(\"Миша Кацурин\",\"Misha Katsurin\").replace(\"Група Жигули\",\"Gruppa Zhiguli\").replace(\"Ваня Костова\",\"Vanya Kostova\").replace(\"Спални Места\",\"Spalni Mesta\").replace(\"Настя Гонцул\",\"Nastya Gontsul\").replace(\"Папин Олимпос\",\"Papin Olimpos\").replace(\"Глеб Калюжный\",\"Gleb Kalyuzhnyy\").replace(\"Ваня Великова\",\"Vanya Velikova\").replace(\"Κοινοί Θνητοί\",\"Koinoi Thnitoi\").replace(\"Мертвий півень\",\"Mertviy Piven\").replace(\"Артский, Марик эс\",\"Artskiy, Marik es\").replace(\"Султан Лагучев\",\"Sultan Laguchev\").replace(\"Boro Purvi, Мариус Куркински\",\"Boro Purvi, Marius Kurkinski\").replace(\"ЭЛЕКТРОСЛАБОСТЬ\",\"ELEKTROSLABOST\").replace(\"Альбина Сексова\",\"Albina Seksova\").replace(\"Кирилл Нефтерев\",\"Kirill Neftyev\").replace(\"В'ячеслав Кукоба\",\"V'yacheslav Kukoba\").replace(\"Ваня Костова, Боян Михайлов\",\"Vanya Kostova, Boyan Mihaylov\").replace(\"Баста feat. Алёна Омаргалиева\",\"Basta feat. Alena Omarhalieva\").replace(\"遠野高志, 加島優, 矢口恭介, ジミー, 百合絢斗, 田村唯, 明美圭一, 糸目幸士郎, 鹿谷樹\",\"Tono Takashi, Kashima Yuu, Yaguchi Kyousuke, Jimmy, Yuri Ayato, Tamura Yui, Akemi Keiichi, Itome Koushirou, Shikatani Itsuki\").replace(\"æ\",\"ae\").replace(\"ð\",\"d\").replace(\"ł\",\"l\").replace(\"ø\",\"o\").replace(\"Þ\",\"th\").replace(\"Ø\",\"O\").replace(\"э\",\"e\").replace(\"Æ\",\"AE\").replace(\"Daði\", \"Dadi\").replace(\"MØ\", \"MO\").replace(\"Komið Að Því\", \"Komid Ad Thvi\").replace(\"Эйя\", \"Eya\").replace(\"АУФ\", \"AUF\")"
   ]
  },
  {
   "cell_type": "code",
   "execution_count": 4,
   "id": "d8fbd56c",
   "metadata": {},
   "outputs": [
    {
     "name": "stderr",
     "output_type": "stream",
     "text": [
      "C:\\Users\\jesus\\AppData\\Local\\Temp\\ipykernel_7144\\3188458998.py:7: SettingWithCopyWarning: \n",
      "A value is trying to be set on a copy of a slice from a DataFrame.\n",
      "Try using .loc[row_indexer,col_indexer] = value instead\n",
      "\n",
      "See the caveats in the documentation: https://pandas.pydata.org/pandas-docs/stable/user_guide/indexing.html#returning-a-view-versus-a-copy\n",
      "  spotify_top50['artist_normalize'] = spotify_top50['artist'].apply(normalize_to_ascii)\n"
     ]
    }
   ],
   "source": [
    "import unicodedata\n",
    "\n",
    "def normalize_to_ascii(text):\n",
    "    nfkd_form = unicodedata.normalize('NFKD', text)\n",
    "    return nfkd_form.encode('ascii', 'ignore').decode('utf-8')\n",
    "\n",
    "spotify_top50['artist_normalize'] = spotify_top50['artist'].apply(normalize_to_ascii)"
   ]
  },
  {
   "cell_type": "markdown",
   "id": "568d80ac",
   "metadata": {},
   "source": [
    "Cleaning now the song titles"
   ]
  },
  {
   "cell_type": "code",
   "execution_count": 5,
   "id": "95b14891",
   "metadata": {},
   "outputs": [
    {
     "name": "stderr",
     "output_type": "stream",
     "text": [
      "C:\\Users\\jesus\\AppData\\Local\\Temp\\ipykernel_7144\\808808517.py:9: SettingWithCopyWarning: \n",
      "A value is trying to be set on a copy of a slice from a DataFrame.\n",
      "Try using .loc[row_indexer,col_indexer] = value instead\n",
      "\n",
      "See the caveats in the documentation: https://pandas.pydata.org/pandas-docs/stable/user_guide/indexing.html#returning-a-view-versus-a-copy\n",
      "  spotify_top50['title2'] = spotify_top50['title'].apply(unidecode_text)\n"
     ]
    }
   ],
   "source": [
    "from unidecode import unidecode\n",
    "import pandas as pd\n",
    "\n",
    "def unidecode_text(text):\n",
    "    if pd.isna(text): \n",
    "        return text   \n",
    "    return unidecode(str(text))\n",
    "\n",
    "spotify_top50['title2'] = spotify_top50['title'].apply(unidecode_text)"
   ]
  },
  {
   "cell_type": "code",
   "execution_count": 6,
   "id": "2e3da184",
   "metadata": {},
   "outputs": [
    {
     "name": "stderr",
     "output_type": "stream",
     "text": [
      "C:\\Users\\jesus\\AppData\\Local\\Temp\\ipykernel_7144\\31059354.py:1: FutureWarning: Series.replace without 'value' and with non-dict-like 'to_replace' is deprecated and will raise in a future version. Explicitly specify the new values instead.\n",
      "  spotify_top50['title2']= spotify_top50['title'].replace(\"æ\",\"ae\").replace(\"ð\",\"d\").replace(\"ł\",\"l\").replace(\"ø\",\"o\").replace(\"Þ\",\"th\").replace(\"Ø\",\"O\").replace(\"э\",\"e\").replace(\"Æ\",\"AE\").replace(\"\").replace(\"Эйя\", \"Eya\").replace(\"АУФ\", \"AUF\").replace(\"Зорi\",\"Zori\").replace(\"СОК\",\"COK\").replace(\"Эми\",\"Emi\").replace(\"ДНК\", \"DNK\").replace(\"CO$¥MON€¥\", \"Cosymoney\").replace(\"Зуб\", \"Zub\").replace(\"том\",\"Tom\").replace(\"НМЗ\",\"NMZ\").replace(\"Шум\", \"Shum\").replace(\"Лёд\",\"Ice\").replace(\"Мох\",\"Mox\").replace(\"Хъс\",\"Hus\").replace(\"紅蓮華\",\"Gurenge\").replace(\"Þjóðhátíðarlag\",\"Thjodhatidarlag\").replace(\"И я\",\"I ya\").replace(\"Сон\",\"Coh\").replace(\"Рана\",\"Rana\").replace(\"HVAÐ MEÐ ÞAÐ\",\"Hvad Med Thad\").replace(\"зима\",\"zima\").replace(\"ДУЛО\",\"Dulo\").replace(\"ночь\",\"noch\").replace(\"Гуси\",\"Gusi\")\n",
      "C:\\Users\\jesus\\AppData\\Local\\Temp\\ipykernel_7144\\31059354.py:1: SettingWithCopyWarning: \n",
      "A value is trying to be set on a copy of a slice from a DataFrame.\n",
      "Try using .loc[row_indexer,col_indexer] = value instead\n",
      "\n",
      "See the caveats in the documentation: https://pandas.pydata.org/pandas-docs/stable/user_guide/indexing.html#returning-a-view-versus-a-copy\n",
      "  spotify_top50['title2']= spotify_top50['title'].replace(\"æ\",\"ae\").replace(\"ð\",\"d\").replace(\"ł\",\"l\").replace(\"ø\",\"o\").replace(\"Þ\",\"th\").replace(\"Ø\",\"O\").replace(\"э\",\"e\").replace(\"Æ\",\"AE\").replace(\"\").replace(\"Эйя\", \"Eya\").replace(\"АУФ\", \"AUF\").replace(\"Зорi\",\"Zori\").replace(\"СОК\",\"COK\").replace(\"Эми\",\"Emi\").replace(\"ДНК\", \"DNK\").replace(\"CO$¥MON€¥\", \"Cosymoney\").replace(\"Зуб\", \"Zub\").replace(\"том\",\"Tom\").replace(\"НМЗ\",\"NMZ\").replace(\"Шум\", \"Shum\").replace(\"Лёд\",\"Ice\").replace(\"Мох\",\"Mox\").replace(\"Хъс\",\"Hus\").replace(\"紅蓮華\",\"Gurenge\").replace(\"Þjóðhátíðarlag\",\"Thjodhatidarlag\").replace(\"И я\",\"I ya\").replace(\"Сон\",\"Coh\").replace(\"Рана\",\"Rana\").replace(\"HVAÐ MEÐ ÞAÐ\",\"Hvad Med Thad\").replace(\"зима\",\"zima\").replace(\"ДУЛО\",\"Dulo\").replace(\"ночь\",\"noch\").replace(\"Гуси\",\"Gusi\")\n"
     ]
    }
   ],
   "source": [
    "spotify_top50['title2']= spotify_top50['title'].replace(\"æ\",\"ae\").replace(\"ð\",\"d\").replace(\"ł\",\"l\").replace(\"ø\",\"o\").replace(\"Þ\",\"th\").replace(\"Ø\",\"O\").replace(\"э\",\"e\").replace(\"Æ\",\"AE\").replace(\"\").replace(\"Эйя\", \"Eya\").replace(\"АУФ\", \"AUF\").replace(\"Зорi\",\"Zori\").replace(\"СОК\",\"COK\").replace(\"Эми\",\"Emi\").replace(\"ДНК\", \"DNK\").replace(\"CO$¥MON€¥\", \"Cosymoney\").replace(\"Зуб\", \"Zub\").replace(\"том\",\"Tom\").replace(\"НМЗ\",\"NMZ\").replace(\"Шум\", \"Shum\").replace(\"Лёд\",\"Ice\").replace(\"Мох\",\"Mox\").replace(\"Хъс\",\"Hus\").replace(\"紅蓮華\",\"Gurenge\").replace(\"Þjóðhátíðarlag\",\"Thjodhatidarlag\").replace(\"И я\",\"I ya\").replace(\"Сон\",\"Coh\").replace(\"Рана\",\"Rana\").replace(\"HVAÐ MEÐ ÞAÐ\",\"Hvad Med Thad\").replace(\"зима\",\"zima\").replace(\"ДУЛО\",\"Dulo\").replace(\"ночь\",\"noch\").replace(\"Гуси\",\"Gusi\")\n",
    "\n",
    "\n"
   ]
  },
  {
   "cell_type": "code",
   "execution_count": 9,
   "id": "efc3665e",
   "metadata": {},
   "outputs": [
    {
     "data": {
      "text/plain": [
       "Index(['title', 'rank', 'date', 'artist', 'url', 'region', 'chart', 'trend',\n",
       "       'streams', 'artist_normalize', 'title2'],\n",
       "      dtype='object')"
      ]
     },
     "execution_count": 9,
     "metadata": {},
     "output_type": "execute_result"
    }
   ],
   "source": [
    "spotify_top50.columns"
   ]
  },
  {
   "cell_type": "code",
   "execution_count": 11,
   "id": "e1c94519",
   "metadata": {},
   "outputs": [
    {
     "data": {
      "text/plain": [
       "Index(['Country', 'Spotify_id', 'Song_title', 'Artist', 'Date',\n",
       "       'Daily_rank_2021'],\n",
       "      dtype='object')"
      ]
     },
     "execution_count": 11,
     "metadata": {},
     "output_type": "execute_result"
    }
   ],
   "source": [
    "Spotify_final2= spotify_top50[['region', 'url', 'title2', 'artist_normalize', 'date', 'rank' ]]\n",
    "Spotify_final= Spotify_final2.rename(columns={'region':'Country', 'url':'Spotify_id', 'title2': 'Song_title', 'artist_normalize':'Artist', 'date': 'Date', 'rank':'Daily_rank_2021'})\n",
    "Spotify_final.columns\n",
    "Spotify_final.columns"
   ]
  },
  {
   "cell_type": "code",
   "execution_count": 12,
   "id": "be385876",
   "metadata": {},
   "outputs": [],
   "source": [
    "Spotify_final.to_csv(\"../data/clean/spotify_European_top50_2021.csv\", index=False, encoding='utf-8')"
   ]
  },
  {
   "cell_type": "code",
   "execution_count": 13,
   "id": "645deb9a",
   "metadata": {},
   "outputs": [],
   "source": [
    "spotify_Jesus= pd.read_csv('../data/clean/spotify_European_top50_2021.csv')\n",
    "spotify_Jessica= pd.read_csv('C:/Users/jesus/Downloads/spotify_European_top50_2024.csv')"
   ]
  },
  {
   "cell_type": "code",
   "execution_count": 16,
   "id": "87f72812",
   "metadata": {},
   "outputs": [
    {
     "data": {
      "text/plain": [
       "np.int64(965512)"
      ]
     },
     "execution_count": 16,
     "metadata": {},
     "output_type": "execute_result"
    }
   ],
   "source": [
    "spotify_Jesus['Artist'].count()"
   ]
  },
  {
   "cell_type": "code",
   "execution_count": null,
   "id": "a0f46341",
   "metadata": {},
   "outputs": [],
   "source": [
    "Full_data=pd.concat([spotify_Jesus, spotify_Jessica], axis=0).reset_index(drop=True)\n",
    "Full_data['Artist_new2'] = Full_data['Artist'].apply(unidecode_text)\n",
    "Artists= Full_data[['Artist']].drop_duplicates()\n",
    "\n",
    "\n"
   ]
  },
  {
   "cell_type": "code",
   "execution_count": 38,
   "id": "13135fc6",
   "metadata": {},
   "outputs": [],
   "source": [
    "Artists.to_csv(\"../data/clean/Artists.csv\", index=False, encoding='utf-8')"
   ]
  },
  {
   "cell_type": "code",
   "execution_count": 34,
   "id": "2fc59b9a",
   "metadata": {},
   "outputs": [
    {
     "data": {
      "text/plain": [
       "Index(['Country', 'Spotify_id', 'Song_title', 'Artist', 'Date',\n",
       "       'Daily_rank_2021', 'Daily_rank_2024'],\n",
       "      dtype='object')"
      ]
     },
     "execution_count": 34,
     "metadata": {},
     "output_type": "execute_result"
    }
   ],
   "source": [
    "Full_data.columns"
   ]
  },
  {
   "cell_type": "code",
   "execution_count": 40,
   "id": "22cb2dfb",
   "metadata": {},
   "outputs": [],
   "source": [
    "Song=Full_data[['Song_title', 'Spotify_id','Artist_new2']].drop_duplicates()\n",
    "Song.to_csv(\"../data/clean/Song.csv\", index=False, encoding='utf-8')"
   ]
  },
  {
   "cell_type": "code",
   "execution_count": 41,
   "id": "1839af6c",
   "metadata": {},
   "outputs": [],
   "source": [
    "Country=Full_data[['Spotify_id', 'Country', 'Date', 'Daily_rank_2021','Daily_rank_2024']]\n",
    "Country.to_csv(\"../data/clean/Country.csv\", index=False, encoding='utf-8')"
   ]
  }
 ],
 "metadata": {
  "kernelspec": {
   "display_name": "Python 3",
   "language": "python",
   "name": "python3"
  },
  "language_info": {
   "codemirror_mode": {
    "name": "ipython",
    "version": 3
   },
   "file_extension": ".py",
   "mimetype": "text/x-python",
   "name": "python",
   "nbconvert_exporter": "python",
   "pygments_lexer": "ipython3",
   "version": "3.13.3"
  }
 },
 "nbformat": 4,
 "nbformat_minor": 5
}
