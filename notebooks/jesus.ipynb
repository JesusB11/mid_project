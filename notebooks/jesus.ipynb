{
 "cells": [
  {
   "cell_type": "code",
   "execution_count": 2,
   "id": "8b2efc71",
   "metadata": {},
   "outputs": [
    {
     "data": {
      "application/vnd.microsoft.datawrangler.viewer.v0+json": {
       "columns": [
        {
         "name": "index",
         "rawType": "int64",
         "type": "integer"
        },
        {
         "name": "title",
         "rawType": "object",
         "type": "string"
        },
        {
         "name": "rank",
         "rawType": "int64",
         "type": "integer"
        },
        {
         "name": "date",
         "rawType": "object",
         "type": "string"
        },
        {
         "name": "artist",
         "rawType": "object",
         "type": "string"
        },
        {
         "name": "url",
         "rawType": "object",
         "type": "string"
        },
        {
         "name": "region",
         "rawType": "object",
         "type": "string"
        },
        {
         "name": "chart",
         "rawType": "object",
         "type": "string"
        },
        {
         "name": "trend",
         "rawType": "object",
         "type": "string"
        },
        {
         "name": "streams",
         "rawType": "float64",
         "type": "float"
        }
       ],
       "ref": "9a105a6f-ec9e-44db-bae9-6308d10ef881",
       "rows": [
        [
         "0",
         "Chantaje (feat. Maluma)",
         "1",
         "2017-01-01",
         "Shakira",
         "https://open.spotify.com/track/6mICuAdrwEjh6Y6lroV2Kg",
         "Argentina",
         "top200",
         "SAME_POSITION",
         "253019.0"
        ],
        [
         "1",
         "Vente Pa' Ca (feat. Maluma)",
         "2",
         "2017-01-01",
         "Ricky Martin",
         "https://open.spotify.com/track/7DM4BPaS7uofFul3ywMe46",
         "Argentina",
         "top200",
         "MOVE_UP",
         "223988.0"
        ],
        [
         "2",
         "Reggaetón Lento (Bailemos)",
         "3",
         "2017-01-01",
         "CNCO",
         "https://open.spotify.com/track/3AEZUABDXNtecAOSC1qTfo",
         "Argentina",
         "top200",
         "MOVE_DOWN",
         "210943.0"
        ],
        [
         "3",
         "Safari",
         "4",
         "2017-01-01",
         "J Balvin, Pharrell Williams, BIA, Sky",
         "https://open.spotify.com/track/6rQSrBHf7HlZjtcMZ4S4bO",
         "Argentina",
         "top200",
         "SAME_POSITION",
         "173865.0"
        ],
        [
         "4",
         "Shaky Shaky",
         "5",
         "2017-01-01",
         "Daddy Yankee",
         "https://open.spotify.com/track/58IL315gMSTD37DOZPJ2hf",
         "Argentina",
         "top200",
         "MOVE_UP",
         "153956.0"
        ]
       ],
       "shape": {
        "columns": 9,
        "rows": 5
       }
      },
      "text/html": [
       "<div>\n",
       "<style scoped>\n",
       "    .dataframe tbody tr th:only-of-type {\n",
       "        vertical-align: middle;\n",
       "    }\n",
       "\n",
       "    .dataframe tbody tr th {\n",
       "        vertical-align: top;\n",
       "    }\n",
       "\n",
       "    .dataframe thead th {\n",
       "        text-align: right;\n",
       "    }\n",
       "</style>\n",
       "<table border=\"1\" class=\"dataframe\">\n",
       "  <thead>\n",
       "    <tr style=\"text-align: right;\">\n",
       "      <th></th>\n",
       "      <th>title</th>\n",
       "      <th>rank</th>\n",
       "      <th>date</th>\n",
       "      <th>artist</th>\n",
       "      <th>url</th>\n",
       "      <th>region</th>\n",
       "      <th>chart</th>\n",
       "      <th>trend</th>\n",
       "      <th>streams</th>\n",
       "    </tr>\n",
       "  </thead>\n",
       "  <tbody>\n",
       "    <tr>\n",
       "      <th>0</th>\n",
       "      <td>Chantaje (feat. Maluma)</td>\n",
       "      <td>1</td>\n",
       "      <td>2017-01-01</td>\n",
       "      <td>Shakira</td>\n",
       "      <td>https://open.spotify.com/track/6mICuAdrwEjh6Y6...</td>\n",
       "      <td>Argentina</td>\n",
       "      <td>top200</td>\n",
       "      <td>SAME_POSITION</td>\n",
       "      <td>253019.0</td>\n",
       "    </tr>\n",
       "    <tr>\n",
       "      <th>1</th>\n",
       "      <td>Vente Pa' Ca (feat. Maluma)</td>\n",
       "      <td>2</td>\n",
       "      <td>2017-01-01</td>\n",
       "      <td>Ricky Martin</td>\n",
       "      <td>https://open.spotify.com/track/7DM4BPaS7uofFul...</td>\n",
       "      <td>Argentina</td>\n",
       "      <td>top200</td>\n",
       "      <td>MOVE_UP</td>\n",
       "      <td>223988.0</td>\n",
       "    </tr>\n",
       "    <tr>\n",
       "      <th>2</th>\n",
       "      <td>Reggaetón Lento (Bailemos)</td>\n",
       "      <td>3</td>\n",
       "      <td>2017-01-01</td>\n",
       "      <td>CNCO</td>\n",
       "      <td>https://open.spotify.com/track/3AEZUABDXNtecAO...</td>\n",
       "      <td>Argentina</td>\n",
       "      <td>top200</td>\n",
       "      <td>MOVE_DOWN</td>\n",
       "      <td>210943.0</td>\n",
       "    </tr>\n",
       "    <tr>\n",
       "      <th>3</th>\n",
       "      <td>Safari</td>\n",
       "      <td>4</td>\n",
       "      <td>2017-01-01</td>\n",
       "      <td>J Balvin, Pharrell Williams, BIA, Sky</td>\n",
       "      <td>https://open.spotify.com/track/6rQSrBHf7HlZjtc...</td>\n",
       "      <td>Argentina</td>\n",
       "      <td>top200</td>\n",
       "      <td>SAME_POSITION</td>\n",
       "      <td>173865.0</td>\n",
       "    </tr>\n",
       "    <tr>\n",
       "      <th>4</th>\n",
       "      <td>Shaky Shaky</td>\n",
       "      <td>5</td>\n",
       "      <td>2017-01-01</td>\n",
       "      <td>Daddy Yankee</td>\n",
       "      <td>https://open.spotify.com/track/58IL315gMSTD37D...</td>\n",
       "      <td>Argentina</td>\n",
       "      <td>top200</td>\n",
       "      <td>MOVE_UP</td>\n",
       "      <td>153956.0</td>\n",
       "    </tr>\n",
       "  </tbody>\n",
       "</table>\n",
       "</div>"
      ],
      "text/plain": [
       "                         title  rank        date  \\\n",
       "0      Chantaje (feat. Maluma)     1  2017-01-01   \n",
       "1  Vente Pa' Ca (feat. Maluma)     2  2017-01-01   \n",
       "2   Reggaetón Lento (Bailemos)     3  2017-01-01   \n",
       "3                       Safari     4  2017-01-01   \n",
       "4                  Shaky Shaky     5  2017-01-01   \n",
       "\n",
       "                                  artist  \\\n",
       "0                                Shakira   \n",
       "1                           Ricky Martin   \n",
       "2                                   CNCO   \n",
       "3  J Balvin, Pharrell Williams, BIA, Sky   \n",
       "4                           Daddy Yankee   \n",
       "\n",
       "                                                 url     region   chart  \\\n",
       "0  https://open.spotify.com/track/6mICuAdrwEjh6Y6...  Argentina  top200   \n",
       "1  https://open.spotify.com/track/7DM4BPaS7uofFul...  Argentina  top200   \n",
       "2  https://open.spotify.com/track/3AEZUABDXNtecAO...  Argentina  top200   \n",
       "3  https://open.spotify.com/track/6rQSrBHf7HlZjtc...  Argentina  top200   \n",
       "4  https://open.spotify.com/track/58IL315gMSTD37D...  Argentina  top200   \n",
       "\n",
       "           trend   streams  \n",
       "0  SAME_POSITION  253019.0  \n",
       "1        MOVE_UP  223988.0  \n",
       "2      MOVE_DOWN  210943.0  \n",
       "3  SAME_POSITION  173865.0  \n",
       "4        MOVE_UP  153956.0  "
      ]
     },
     "execution_count": 2,
     "metadata": {},
     "output_type": "execute_result"
    }
   ],
   "source": [
    "import pandas as pd\n",
    "\n",
    "spotify= pd.read_csv('C:/Users/jesus/Downloads/archive (1)/charts.csv')\n",
    "\n",
    "spotify.head()"
   ]
  },
  {
   "cell_type": "markdown",
   "id": "ca4391dd",
   "metadata": {},
   "source": [
    "This is filtering just for 2021, only European countries and within the top 50."
   ]
  },
  {
   "cell_type": "code",
   "execution_count": 3,
   "id": "8af1e0e6",
   "metadata": {},
   "outputs": [],
   "source": [
    "spotify['date'] = pd.to_datetime(spotify['date'])\n",
    "spotify_2021 = spotify[spotify['date'].between('2021-01-01', '2021-12-31')]\n",
    "Europe=['Spain', 'Hungary', 'Iceland', 'Belgium', 'Denmark', 'Austria', 'Bulgaria', 'Czech Republic', 'Finland', 'France', 'Estonia', 'Germany', 'Greece', 'Ireland', 'Italy', 'Latvia', 'Lithuania', 'Netherlands', 'Norway', 'Poland', 'Portugal', 'Romania', 'Sweden', 'Slovakia', 'Switzerland', 'Ukraine', 'United Kingdom', 'Luxembourg']\n",
    "spotify_2021_Europe = spotify_2021[spotify_2021['region'].isin(Europe)]\n",
    "spotify_top50 = spotify_2021_Europe[spotify_2021_Europe['rank'] < 51]"
   ]
  },
  {
   "cell_type": "markdown",
   "id": "6e7e0980",
   "metadata": {},
   "source": [
    "This is replacing special characters in the artists"
   ]
  },
  {
   "cell_type": "code",
   "execution_count": 4,
   "id": "35cd8b24",
   "metadata": {},
   "outputs": [
    {
     "name": "stderr",
     "output_type": "stream",
     "text": [
      "C:\\Users\\jesus\\AppData\\Local\\Temp\\ipykernel_15432\\3398250923.py:1: FutureWarning: Series.replace without 'value' and with non-dict-like 'to_replace' is deprecated and will raise in a future version. Explicitly specify the new values instead.\n",
      "  spotify_top50['artist']= spotify_top50['artist'].replace(\"Канги\",\"Kangi\").replace(\"дора\",\"Dora\").replace(\"Ваня Дмитриенко\",\"Vanya Dmitrienko\").replace(\"Scriptonite, Индаблэк, qurt, Rodionis\", \"Scriptonite, Indablack, qurt, Rodionis\").replace(\"T-Fest, дора\",\"T-Fest, Dora\").replace(\"Платина, Дора\",\"Platina, Dora\").replace(\"Skryptonite, Райда\", \"Skryptonite, Rayda\").replace(\"АДЛИН\",\"Adlin\").replace(\"escape, Даня Милохин\",\"escape, Danya Milokhin\").replace(\"Okean Elzy, Один в каное\", \"Okean Elzy, Odyn V Kanoe\").replace(\"Платина, PLOHOYPAREN\", \"Platina, PLOHOYPAREN\").replace(\"Платина, LIL VAN\",\"Platina, LIL VAN\").replace(\"Ильич да Софья\",\"Ilyich da Sophya\").replace(\"вышел покурить\",\"Vyshel pokurit\").replace(\"Даня Милохин, Mumiy Troll\",\"Danya Milokhin, Mumiy Troll\").replace(\"Аркадий Хоралов, Irina Ortman\",\"Arkadiy Khoralov, Irina Ortman\").replace((\"Хабиб\",\"Khabib\")).replace(\"УННВ\",\"UNNV\").replace(\"美波\",\"Minami\").replace(\"ДЕТИ RAVE\",\"DETI RAVE\").replace(\"Gena, Руши\",\"Gena, Rushi Vidinliev\").replace(\"Платина, дора\",\"Platina, Dora\").replace(\"Платина, Кравц\",\"Platina, Kravts\").replace(\"Платина, Мари Краймбрери\",\"Platina, Mari Kraimbrery\").replace(\"Платина, Мот\",\"Platina, Mot\").replace(\"Платина, Мари Краймбрери\",\"Platina, Mari Kraimbrery\").replace(\"Платина, Мот\",\"Platina, Mot\").replace(\"Платина, Мари Краймбрери\",\"Platina, Mari Kraimbrery\").replace(\"Платина, Мот\",\"Platina, Mot\").replace(\"M&A, Бэтси\",\"M&A, Betsy\").replace(\"Твоя молодость\",\"Tvoya molodost\").replace(\"DJ Blyatman, длб\",\"DJ Blyatman, DLB\").replace(\"КАКАЯ РАЗНИЦА\",\"Who cares\").replace(\"КИССКОЛД\",\"Kisscold\").replace(\"конец солнечных дней\",\"konec solnechnyh dney\").replace(\"Макс Пташник\",\"Max Ptashnyk\").replace(\"By Индия\", \"By India\").replace(\"LINA LEE, Ваня Дмитриенко\",\"LINA LEE, Vanya dmitriesnko\").replace(\"Где Фантом?\",\"Gde Fantom?\").replace(\"Аюб Вахарагов\",\"Ayub Vaharagov\").replace(\"Тарас Чубай, Плач Єремії\",\"Taras Chubay, Plach Yeremii\").replace(\"Таралеща\",\"Taraleshta\").replace(\"МЫ\",\"MY\").replace(\"Сарра\",\"Cappa\").replace(\"РУВИ\",\"RUVY\").replace(\"Предтрен\",\"Predtren\").replace(\"Плага, JAMIK\",\"Pluga, JAMIK\").replace(\"Ваня Люленов\",\"Vanya Lyulenov\").replace(\"Пирятин\",\"Piryatin\").replace(\"Дайте танк (!)\",\"Daite tank (!)\").replace(\"Ежемесячные\",\"Ezhemesyachnye\").replace(\"Кишлак\",\"Krishlak\").replace(\"наше последнее лето\",\"nashe poslednee leto\").replace(\"АДЛИН, Килджо\",\"Adlin, kildjo\").replace(\"Повстанська Народна Патріотична Пісня\",\"Povstanska Narodna Patriotichna Pisnya\").replace(\"Курган & Agregat, LATEXFAUNA\",\"Kurgan & Agregat, LATEXFAUNA\").replace(\"Бульбулятор\",\"Bulbylyator\").replace(\"Валентин Дядька, Стереополина\",\"Valentin Dyadka, Stereopolina\").replace(\"ł\",\"l\").replace(\"ð\",\"d\").replace(\"Даниил Степанов\",\"Daniil Stepanov\").replace(\"Три дня дождя\",\"Tri dnya dozhdya\").replace(\"билборды\",\"bilbordy\").replace(\"Βέβηλος\",\"Vevilos\").replace(\"Niman, Truwer, Райда, Scriptonite\",\"Niman, Truwer, Rayda, Scriptonite\").replace(\"Керана и космонавтите\",\"Kerana i kosmonavtite\").replace(\"Дeva\",\"Deva\").replace(\"Зараза\",\"Zaraza\").replace(\"Спектакль Джо\",\"Spektakl Joe\").replace(\"Я.СГОРЕЛ.ДВАЖДЫ, @strochka.mag\",\"Ya.sgorel.dvazdy, @strochka.mag\").replace(\"Palagin, Куок, Индаблэк, GOODY\",\"Palagin, Kyok, Indablack, GOODY\").replace(\"Кондрашов\", \"Kondrashov\").replace(\"Александр Гудков, Cream Soda\",\"Alexander Gudkov, Cream Soda\").replace(\"Просто Вопрос\",\"Prosto Vopros\").replace(\"алёна швец.\",\"alena shvets.\").replace(\"ø\",\"o\").replace(\"Boro Purvi, Мариус Куркински\",\"Boro Purvi, Marius Kurkinski\").replace(\"Лилу45\",\"Lilu45\").replace(\"ЕГОР ШИП\", \"Egor Ship\").replace(\"ФОГЕЛЬ\",\"Fogel\").replace(\"МОТ\",\"MoT\").replace(\"Перемотка\",\"Peremotka\").replace(\"æ\",\"ae\").replace(\"Саша Чемеров, Boombox\",\"Sasha Chemerov, Boombox\").replace(\"Þ\",\"th\").replace(\"NЮ\",\"NIO\").replace(\"œ\",\"oe\").replace(\"Dedublüman, Çağrı Çelik\",\"Dedubluman, Cagri Celik\").replace(\"ギヴン\",\"Given\").replace(\"稲葉曇\",\"Inaba Kumo\").replace(\"Лилу45\",\"Lilu45\").replace(\"Дора\",\"Dora\").replace(\"Rdmk, Лъчо\", \"Rdmk, Lucho\").replace(\"ВесЪ, GUF\",\"Ves, GUF\").replace(\"Луна\",\"Luna\").replace(\"Лъчо\",\"Lucho\").replace(\"Лилу, LOVV66\",\"Leeloo, LOVV66\").replace(\"Scriptonite, Райда\",\"Scriptonite, Rayda\").replace(\"Колос\",\"Kolos\").replace(\"Шайни, 3TERNITY\",\"Shiny, 3TERNITY\").replace(\"Грибы\",\"Griby\").replace(\"Θύτης\",\"Thytis\").replace(\"Xcho, Пабло, ALEMOND\",\"Xcho, Pablo, ALEMOND\").replace(\"ФОГЕЛЬ\",\"Fogel\").replace(\"Sимптом, Andy Panda, TumaniYO\",\"Simptom, Andy Panda, TumaniYO\").replace(\"лиззка\",\"Lizzka\").replace(\"Платина, Мари Краймбрери\",\"Platina, Mari Kraimbrery\").replace(\"Платина, Мот\",\"Platina, Mot\").replace(\"Платина, Мари Краймбрери\",\"Platina, Mari Kraimbrery\").replace(\"Платина, Мот\",\"Platina, Mot\").replace(\"Платина, Мари Краймбрери\",\"Platina, Mari Kraimbrery\").replace(\"Платина, Мот\",\"Platina, Mot\").replace(\"Платина, Мари Краймбрери\",\"Platina, Mari Kraimbrery\").replace(\"Платина, Мот\",\"Platina, Mot\").replace(\"Платина, Мари Краймбрери\",\"Platina, Mari Kraimbrery\").replace(\"Платина, Мот\",\"Platina, Mot\").replace(\"Платина, Мари Краймбрери\",\"Platina, Mari Kraimbrery\").replace(\"Платина, Мот\",\"Platina, Mot\").replace(\"Платина, Мари Краймбрери\",\"Platina, Mari Kraimbrery\").replace(\"Платина, Мот\",\"Platina, Mot\").replace(\"Платина, Мари Краймбрери\",\"Platina, Mari Kraimbrery\").replace(\"Платина, Мот\",\"Platina, Mot\").replace(\"Гербер\",\"Gerber\").replace(\"suramura, Рэйчел\",\"Suramura, Rachel\").replace(\"Платина, Big Baby Tape\",\"Platina, Big Baby Tape\").replace(\"Платина, OG Buda, MAYOT\",\"Platina, OG Buda, MAYOT\").replace(\"Платина\",\"Platina\").replace(\"mazellovvv, маз корж\",\"Mazellovvv, Maz Korzh\").replace(\"SSaSke Нарезки, iiRN, 5opka\",\"SSaSke Narezki, iiRN, 5opka\").replace(\"АСАФАТОV\",\"ASAFATOV\").replace(\"нексюша\",\"Nexyusha\").replace(\"Вектор А, METAN\",\"Vector A, METAN\").replace(\"Кобяков\",\"Kobyakov\").replace(\"БЛЭЙЗЕР\",\"BLAZER\").replace(\"METAN, Вектор А\",\"METAN, Vector A\").replace(\"ЕГОР ШИП\",\"Egor Ship\").replace(\"We, Лэривэйн\",\"We, Lerivain\").replace(\"Абрикоса\",\"Abrikosa\").replace(\"Перемотка\",\"Peremotka\").replace(\"Автоспорт\",\"Avtosport\").replace(\"3TERNITY, хочуспать\",\"3TERNITY, hochuspat\").replace(\"Стекловата, Steklovata\",\"Steklovata, Steklovata\").replace(\"OVERHILL, КРИСПИ, Экси, PUSSYKILLER\",\"OVERHILL, KRISPI, Eksi, PUSSYKILLER\").replace(\"Стекловата\", \"Steklovata\").replace(\"Steklovata, Стекловата\", \"Steklovata, Steklovata\").replace(\"Саша Чемеров, Boombox\", \"Sasha Chemerov, Boombox\").replace(\"просто Лера\", \"prosto Lera\").replace(\"Орест Лютий\",\"Orest Lyutiy\").replace(\"欣然丫, 高亚楠, 风云音社, 虞姬\",\"Xinran Ya, Gao Yanan, Fengyun Yin She, Yu Ji\").replace(\"забей, лерочка\",\"zabei, Lerochka\").replace(\"Миша Кацурин\",\"Misha Katsurin\").replace(\"Група Жигули\",\"Gruppa Zhiguli\").replace(\"Ваня Костова\",\"Vanya Kostova\").replace(\"Спални Места\",\"Spalni Mesta\").replace(\"Настя Гонцул\",\"Nastya Gontsul\").replace(\"Папин Олимпос\",\"Papin Olimpos\").replace(\"Глеб Калюжный\",\"Gleb Kalyuzhnyy\").replace(\"Ваня Великова\",\"Vanya Velikova\").replace(\"Κοινοί Θνητοί\",\"Koinoi Thnitoi\").replace(\"Мертвий півень\",\"Mertviy Piven\").replace(\"Артский, Марик эс\",\"Artskiy, Marik es\").replace(\"Султан Лагучев\",\"Sultan Laguchev\").replace(\"Boro Purvi, Мариус Куркински\",\"Boro Purvi, Marius Kurkinski\").replace(\"ЭЛЕКТРОСЛАБОСТЬ\",\"ELEKTROSLABOST\").replace(\"Альбина Сексова\",\"Albina Seksova\").replace(\"Кирилл Нефтерев\",\"Kirill Neftyev\").replace(\"В'ячеслав Кукоба\",\"V'yacheslav Kukoba\").replace(\"Ваня Костова, Боян Михайлов\",\"Vanya Kostova, Boyan Mihaylov\").replace(\"Баста feat. Алёна Омаргалиева\",\"Basta feat. Alena Omarhalieva\").replace(\"遠野高志, 加島優, 矢口恭介, ジミー, 百合絢斗, 田村唯, 明美圭一, 糸目幸士郎, 鹿谷樹\",\"Tono Takashi, Kashima Yuu, Yaguchi Kyousuke, Jimmy, Yuri Ayato, Tamura Yui, Akemi Keiichi, Itome Koushirou, Shikatani Itsuki\").replace(\"Миша Кацурин\",\"Misha Katsurin\").replace(\"Група Жигули\",\"Gruppa Zhiguli\").replace(\"Ваня Костова\",\"Vanya Kostova\").replace(\"Спални Места\",\"Spalni Mesta\").replace(\"Настя Гонцул\",\"Nastya Gontsul\").replace(\"Папин Олимпос\",\"Papin Olimpos\").replace(\"Глеб Калюжный\",\"Gleb Kalyuzhnyy\").replace(\"Ваня Великова\",\"Vanya Velikova\").replace(\"Κοινοί Θνητοί\",\"Koinoi Thnitoi\").replace(\"Мертвий півень\",\"Mertviy Piven\").replace(\"Артский, Марик эс\",\"Artskiy, Marik es\").replace(\"Султан Лагучев\",\"Sultan Laguchev\").replace(\"Boro Purvi, Мариус Куркински\",\"Boro Purvi, Marius Kurkinski\").replace(\"ЭЛЕКТРОСЛАБОСТЬ\",\"ELEKTROSLABOST\").replace(\"Альбина Сексова\",\"Albina Seksova\").replace(\"Кирилл Нефтерев\",\"Kirill Neftyev\").replace(\"В'ячеслав Кукоба\",\"V'yacheslav Kukoba\").replace(\"Ваня Костова, Боян Михайлов\",\"Vanya Kostova, Boyan Mihaylov\").replace(\"Баста feat. Алёна Омаргалиева\",\"Basta feat. Alena Omarhalieva\").replace(\"遠野高志, 加島優, 矢口恭介, ジミー, 百合絢斗, 田村唯, 明美圭一, 糸目幸士郎, 鹿谷樹\",\"Tono Takashi, Kashima Yuu, Yaguchi Kyousuke, Jimmy, Yuri Ayato, Tamura Yui, Akemi Keiichi, Itome Koushirou, Shikatani Itsuki\").replace(\"æ\",\"ae\").replace(\"ð\",\"d\").replace(\"ł\",\"l\").replace(\"ø\",\"o\").replace(\"Þ\",\"th\").replace(\"Ø\",\"O\").replace(\"э\",\"e\").replace(\"Æ\",\"AE\").replace(\"Daði\", \"Dadi\").replace(\"MØ\", \"MO\").replace(\"Komið Að Því\", \"Komid Ad Thvi\").replace(\"Эйя\", \"Eya\").replace(\"АУФ\", \"AUF\")\n",
      "C:\\Users\\jesus\\AppData\\Local\\Temp\\ipykernel_15432\\3398250923.py:1: SettingWithCopyWarning: \n",
      "A value is trying to be set on a copy of a slice from a DataFrame.\n",
      "Try using .loc[row_indexer,col_indexer] = value instead\n",
      "\n",
      "See the caveats in the documentation: https://pandas.pydata.org/pandas-docs/stable/user_guide/indexing.html#returning-a-view-versus-a-copy\n",
      "  spotify_top50['artist']= spotify_top50['artist'].replace(\"Канги\",\"Kangi\").replace(\"дора\",\"Dora\").replace(\"Ваня Дмитриенко\",\"Vanya Dmitrienko\").replace(\"Scriptonite, Индаблэк, qurt, Rodionis\", \"Scriptonite, Indablack, qurt, Rodionis\").replace(\"T-Fest, дора\",\"T-Fest, Dora\").replace(\"Платина, Дора\",\"Platina, Dora\").replace(\"Skryptonite, Райда\", \"Skryptonite, Rayda\").replace(\"АДЛИН\",\"Adlin\").replace(\"escape, Даня Милохин\",\"escape, Danya Milokhin\").replace(\"Okean Elzy, Один в каное\", \"Okean Elzy, Odyn V Kanoe\").replace(\"Платина, PLOHOYPAREN\", \"Platina, PLOHOYPAREN\").replace(\"Платина, LIL VAN\",\"Platina, LIL VAN\").replace(\"Ильич да Софья\",\"Ilyich da Sophya\").replace(\"вышел покурить\",\"Vyshel pokurit\").replace(\"Даня Милохин, Mumiy Troll\",\"Danya Milokhin, Mumiy Troll\").replace(\"Аркадий Хоралов, Irina Ortman\",\"Arkadiy Khoralov, Irina Ortman\").replace((\"Хабиб\",\"Khabib\")).replace(\"УННВ\",\"UNNV\").replace(\"美波\",\"Minami\").replace(\"ДЕТИ RAVE\",\"DETI RAVE\").replace(\"Gena, Руши\",\"Gena, Rushi Vidinliev\").replace(\"Платина, дора\",\"Platina, Dora\").replace(\"Платина, Кравц\",\"Platina, Kravts\").replace(\"Платина, Мари Краймбрери\",\"Platina, Mari Kraimbrery\").replace(\"Платина, Мот\",\"Platina, Mot\").replace(\"Платина, Мари Краймбрери\",\"Platina, Mari Kraimbrery\").replace(\"Платина, Мот\",\"Platina, Mot\").replace(\"Платина, Мари Краймбрери\",\"Platina, Mari Kraimbrery\").replace(\"Платина, Мот\",\"Platina, Mot\").replace(\"M&A, Бэтси\",\"M&A, Betsy\").replace(\"Твоя молодость\",\"Tvoya molodost\").replace(\"DJ Blyatman, длб\",\"DJ Blyatman, DLB\").replace(\"КАКАЯ РАЗНИЦА\",\"Who cares\").replace(\"КИССКОЛД\",\"Kisscold\").replace(\"конец солнечных дней\",\"konec solnechnyh dney\").replace(\"Макс Пташник\",\"Max Ptashnyk\").replace(\"By Индия\", \"By India\").replace(\"LINA LEE, Ваня Дмитриенко\",\"LINA LEE, Vanya dmitriesnko\").replace(\"Где Фантом?\",\"Gde Fantom?\").replace(\"Аюб Вахарагов\",\"Ayub Vaharagov\").replace(\"Тарас Чубай, Плач Єремії\",\"Taras Chubay, Plach Yeremii\").replace(\"Таралеща\",\"Taraleshta\").replace(\"МЫ\",\"MY\").replace(\"Сарра\",\"Cappa\").replace(\"РУВИ\",\"RUVY\").replace(\"Предтрен\",\"Predtren\").replace(\"Плага, JAMIK\",\"Pluga, JAMIK\").replace(\"Ваня Люленов\",\"Vanya Lyulenov\").replace(\"Пирятин\",\"Piryatin\").replace(\"Дайте танк (!)\",\"Daite tank (!)\").replace(\"Ежемесячные\",\"Ezhemesyachnye\").replace(\"Кишлак\",\"Krishlak\").replace(\"наше последнее лето\",\"nashe poslednee leto\").replace(\"АДЛИН, Килджо\",\"Adlin, kildjo\").replace(\"Повстанська Народна Патріотична Пісня\",\"Povstanska Narodna Patriotichna Pisnya\").replace(\"Курган & Agregat, LATEXFAUNA\",\"Kurgan & Agregat, LATEXFAUNA\").replace(\"Бульбулятор\",\"Bulbylyator\").replace(\"Валентин Дядька, Стереополина\",\"Valentin Dyadka, Stereopolina\").replace(\"ł\",\"l\").replace(\"ð\",\"d\").replace(\"Даниил Степанов\",\"Daniil Stepanov\").replace(\"Три дня дождя\",\"Tri dnya dozhdya\").replace(\"билборды\",\"bilbordy\").replace(\"Βέβηλος\",\"Vevilos\").replace(\"Niman, Truwer, Райда, Scriptonite\",\"Niman, Truwer, Rayda, Scriptonite\").replace(\"Керана и космонавтите\",\"Kerana i kosmonavtite\").replace(\"Дeva\",\"Deva\").replace(\"Зараза\",\"Zaraza\").replace(\"Спектакль Джо\",\"Spektakl Joe\").replace(\"Я.СГОРЕЛ.ДВАЖДЫ, @strochka.mag\",\"Ya.sgorel.dvazdy, @strochka.mag\").replace(\"Palagin, Куок, Индаблэк, GOODY\",\"Palagin, Kyok, Indablack, GOODY\").replace(\"Кондрашов\", \"Kondrashov\").replace(\"Александр Гудков, Cream Soda\",\"Alexander Gudkov, Cream Soda\").replace(\"Просто Вопрос\",\"Prosto Vopros\").replace(\"алёна швец.\",\"alena shvets.\").replace(\"ø\",\"o\").replace(\"Boro Purvi, Мариус Куркински\",\"Boro Purvi, Marius Kurkinski\").replace(\"Лилу45\",\"Lilu45\").replace(\"ЕГОР ШИП\", \"Egor Ship\").replace(\"ФОГЕЛЬ\",\"Fogel\").replace(\"МОТ\",\"MoT\").replace(\"Перемотка\",\"Peremotka\").replace(\"æ\",\"ae\").replace(\"Саша Чемеров, Boombox\",\"Sasha Chemerov, Boombox\").replace(\"Þ\",\"th\").replace(\"NЮ\",\"NIO\").replace(\"œ\",\"oe\").replace(\"Dedublüman, Çağrı Çelik\",\"Dedubluman, Cagri Celik\").replace(\"ギヴン\",\"Given\").replace(\"稲葉曇\",\"Inaba Kumo\").replace(\"Лилу45\",\"Lilu45\").replace(\"Дора\",\"Dora\").replace(\"Rdmk, Лъчо\", \"Rdmk, Lucho\").replace(\"ВесЪ, GUF\",\"Ves, GUF\").replace(\"Луна\",\"Luna\").replace(\"Лъчо\",\"Lucho\").replace(\"Лилу, LOVV66\",\"Leeloo, LOVV66\").replace(\"Scriptonite, Райда\",\"Scriptonite, Rayda\").replace(\"Колос\",\"Kolos\").replace(\"Шайни, 3TERNITY\",\"Shiny, 3TERNITY\").replace(\"Грибы\",\"Griby\").replace(\"Θύτης\",\"Thytis\").replace(\"Xcho, Пабло, ALEMOND\",\"Xcho, Pablo, ALEMOND\").replace(\"ФОГЕЛЬ\",\"Fogel\").replace(\"Sимптом, Andy Panda, TumaniYO\",\"Simptom, Andy Panda, TumaniYO\").replace(\"лиззка\",\"Lizzka\").replace(\"Платина, Мари Краймбрери\",\"Platina, Mari Kraimbrery\").replace(\"Платина, Мот\",\"Platina, Mot\").replace(\"Платина, Мари Краймбрери\",\"Platina, Mari Kraimbrery\").replace(\"Платина, Мот\",\"Platina, Mot\").replace(\"Платина, Мари Краймбрери\",\"Platina, Mari Kraimbrery\").replace(\"Платина, Мот\",\"Platina, Mot\").replace(\"Платина, Мари Краймбрери\",\"Platina, Mari Kraimbrery\").replace(\"Платина, Мот\",\"Platina, Mot\").replace(\"Платина, Мари Краймбрери\",\"Platina, Mari Kraimbrery\").replace(\"Платина, Мот\",\"Platina, Mot\").replace(\"Платина, Мари Краймбрери\",\"Platina, Mari Kraimbrery\").replace(\"Платина, Мот\",\"Platina, Mot\").replace(\"Платина, Мари Краймбрери\",\"Platina, Mari Kraimbrery\").replace(\"Платина, Мот\",\"Platina, Mot\").replace(\"Платина, Мари Краймбрери\",\"Platina, Mari Kraimbrery\").replace(\"Платина, Мот\",\"Platina, Mot\").replace(\"Гербер\",\"Gerber\").replace(\"suramura, Рэйчел\",\"Suramura, Rachel\").replace(\"Платина, Big Baby Tape\",\"Platina, Big Baby Tape\").replace(\"Платина, OG Buda, MAYOT\",\"Platina, OG Buda, MAYOT\").replace(\"Платина\",\"Platina\").replace(\"mazellovvv, маз корж\",\"Mazellovvv, Maz Korzh\").replace(\"SSaSke Нарезки, iiRN, 5opka\",\"SSaSke Narezki, iiRN, 5opka\").replace(\"АСАФАТОV\",\"ASAFATOV\").replace(\"нексюша\",\"Nexyusha\").replace(\"Вектор А, METAN\",\"Vector A, METAN\").replace(\"Кобяков\",\"Kobyakov\").replace(\"БЛЭЙЗЕР\",\"BLAZER\").replace(\"METAN, Вектор А\",\"METAN, Vector A\").replace(\"ЕГОР ШИП\",\"Egor Ship\").replace(\"We, Лэривэйн\",\"We, Lerivain\").replace(\"Абрикоса\",\"Abrikosa\").replace(\"Перемотка\",\"Peremotka\").replace(\"Автоспорт\",\"Avtosport\").replace(\"3TERNITY, хочуспать\",\"3TERNITY, hochuspat\").replace(\"Стекловата, Steklovata\",\"Steklovata, Steklovata\").replace(\"OVERHILL, КРИСПИ, Экси, PUSSYKILLER\",\"OVERHILL, KRISPI, Eksi, PUSSYKILLER\").replace(\"Стекловата\", \"Steklovata\").replace(\"Steklovata, Стекловата\", \"Steklovata, Steklovata\").replace(\"Саша Чемеров, Boombox\", \"Sasha Chemerov, Boombox\").replace(\"просто Лера\", \"prosto Lera\").replace(\"Орест Лютий\",\"Orest Lyutiy\").replace(\"欣然丫, 高亚楠, 风云音社, 虞姬\",\"Xinran Ya, Gao Yanan, Fengyun Yin She, Yu Ji\").replace(\"забей, лерочка\",\"zabei, Lerochka\").replace(\"Миша Кацурин\",\"Misha Katsurin\").replace(\"Група Жигули\",\"Gruppa Zhiguli\").replace(\"Ваня Костова\",\"Vanya Kostova\").replace(\"Спални Места\",\"Spalni Mesta\").replace(\"Настя Гонцул\",\"Nastya Gontsul\").replace(\"Папин Олимпос\",\"Papin Olimpos\").replace(\"Глеб Калюжный\",\"Gleb Kalyuzhnyy\").replace(\"Ваня Великова\",\"Vanya Velikova\").replace(\"Κοινοί Θνητοί\",\"Koinoi Thnitoi\").replace(\"Мертвий півень\",\"Mertviy Piven\").replace(\"Артский, Марик эс\",\"Artskiy, Marik es\").replace(\"Султан Лагучев\",\"Sultan Laguchev\").replace(\"Boro Purvi, Мариус Куркински\",\"Boro Purvi, Marius Kurkinski\").replace(\"ЭЛЕКТРОСЛАБОСТЬ\",\"ELEKTROSLABOST\").replace(\"Альбина Сексова\",\"Albina Seksova\").replace(\"Кирилл Нефтерев\",\"Kirill Neftyev\").replace(\"В'ячеслав Кукоба\",\"V'yacheslav Kukoba\").replace(\"Ваня Костова, Боян Михайлов\",\"Vanya Kostova, Boyan Mihaylov\").replace(\"Баста feat. Алёна Омаргалиева\",\"Basta feat. Alena Omarhalieva\").replace(\"遠野高志, 加島優, 矢口恭介, ジミー, 百合絢斗, 田村唯, 明美圭一, 糸目幸士郎, 鹿谷樹\",\"Tono Takashi, Kashima Yuu, Yaguchi Kyousuke, Jimmy, Yuri Ayato, Tamura Yui, Akemi Keiichi, Itome Koushirou, Shikatani Itsuki\").replace(\"Миша Кацурин\",\"Misha Katsurin\").replace(\"Група Жигули\",\"Gruppa Zhiguli\").replace(\"Ваня Костова\",\"Vanya Kostova\").replace(\"Спални Места\",\"Spalni Mesta\").replace(\"Настя Гонцул\",\"Nastya Gontsul\").replace(\"Папин Олимпос\",\"Papin Olimpos\").replace(\"Глеб Калюжный\",\"Gleb Kalyuzhnyy\").replace(\"Ваня Великова\",\"Vanya Velikova\").replace(\"Κοινοί Θνητοί\",\"Koinoi Thnitoi\").replace(\"Мертвий півень\",\"Mertviy Piven\").replace(\"Артский, Марик эс\",\"Artskiy, Marik es\").replace(\"Султан Лагучев\",\"Sultan Laguchev\").replace(\"Boro Purvi, Мариус Куркински\",\"Boro Purvi, Marius Kurkinski\").replace(\"ЭЛЕКТРОСЛАБОСТЬ\",\"ELEKTROSLABOST\").replace(\"Альбина Сексова\",\"Albina Seksova\").replace(\"Кирилл Нефтерев\",\"Kirill Neftyev\").replace(\"В'ячеслав Кукоба\",\"V'yacheslav Kukoba\").replace(\"Ваня Костова, Боян Михайлов\",\"Vanya Kostova, Boyan Mihaylov\").replace(\"Баста feat. Алёна Омаргалиева\",\"Basta feat. Alena Omarhalieva\").replace(\"遠野高志, 加島優, 矢口恭介, ジミー, 百合絢斗, 田村唯, 明美圭一, 糸目幸士郎, 鹿谷樹\",\"Tono Takashi, Kashima Yuu, Yaguchi Kyousuke, Jimmy, Yuri Ayato, Tamura Yui, Akemi Keiichi, Itome Koushirou, Shikatani Itsuki\").replace(\"æ\",\"ae\").replace(\"ð\",\"d\").replace(\"ł\",\"l\").replace(\"ø\",\"o\").replace(\"Þ\",\"th\").replace(\"Ø\",\"O\").replace(\"э\",\"e\").replace(\"Æ\",\"AE\").replace(\"Daði\", \"Dadi\").replace(\"MØ\", \"MO\").replace(\"Komið Að Því\", \"Komid Ad Thvi\").replace(\"Эйя\", \"Eya\").replace(\"АУФ\", \"AUF\")\n"
     ]
    }
   ],
   "source": [
    "spotify_top50['artist']= spotify_top50['artist'].replace(\"Канги\",\"Kangi\").replace(\"дора\",\"Dora\").replace(\"Ваня Дмитриенко\",\"Vanya Dmitrienko\").replace(\"Scriptonite, Индаблэк, qurt, Rodionis\", \"Scriptonite, Indablack, qurt, Rodionis\").replace(\"T-Fest, дора\",\"T-Fest, Dora\").replace(\"Платина, Дора\",\"Platina, Dora\").replace(\"Skryptonite, Райда\", \"Skryptonite, Rayda\").replace(\"АДЛИН\",\"Adlin\").replace(\"escape, Даня Милохин\",\"escape, Danya Milokhin\").replace(\"Okean Elzy, Один в каное\", \"Okean Elzy, Odyn V Kanoe\").replace(\"Платина, PLOHOYPAREN\", \"Platina, PLOHOYPAREN\").replace(\"Платина, LIL VAN\",\"Platina, LIL VAN\").replace(\"Ильич да Софья\",\"Ilyich da Sophya\").replace(\"вышел покурить\",\"Vyshel pokurit\").replace(\"Даня Милохин, Mumiy Troll\",\"Danya Milokhin, Mumiy Troll\").replace(\"Аркадий Хоралов, Irina Ortman\",\"Arkadiy Khoralov, Irina Ortman\").replace((\"Хабиб\",\"Khabib\")).replace(\"УННВ\",\"UNNV\").replace(\"美波\",\"Minami\").replace(\"ДЕТИ RAVE\",\"DETI RAVE\").replace(\"Gena, Руши\",\"Gena, Rushi Vidinliev\").replace(\"Платина, дора\",\"Platina, Dora\").replace(\"Платина, Кравц\",\"Platina, Kravts\").replace(\"Платина, Мари Краймбрери\",\"Platina, Mari Kraimbrery\").replace(\"Платина, Мот\",\"Platina, Mot\").replace(\"Платина, Мари Краймбрери\",\"Platina, Mari Kraimbrery\").replace(\"Платина, Мот\",\"Platina, Mot\").replace(\"Платина, Мари Краймбрери\",\"Platina, Mari Kraimbrery\").replace(\"Платина, Мот\",\"Platina, Mot\").replace(\"M&A, Бэтси\",\"M&A, Betsy\").replace(\"Твоя молодость\",\"Tvoya molodost\").replace(\"DJ Blyatman, длб\",\"DJ Blyatman, DLB\").replace(\"КАКАЯ РАЗНИЦА\",\"Who cares\").replace(\"КИССКОЛД\",\"Kisscold\").replace(\"конец солнечных дней\",\"konec solnechnyh dney\").replace(\"Макс Пташник\",\"Max Ptashnyk\").replace(\"By Индия\", \"By India\").replace(\"LINA LEE, Ваня Дмитриенко\",\"LINA LEE, Vanya dmitriesnko\").replace(\"Где Фантом?\",\"Gde Fantom?\").replace(\"Аюб Вахарагов\",\"Ayub Vaharagov\").replace(\"Тарас Чубай, Плач Єремії\",\"Taras Chubay, Plach Yeremii\").replace(\"Таралеща\",\"Taraleshta\").replace(\"МЫ\",\"MY\").replace(\"Сарра\",\"Cappa\").replace(\"РУВИ\",\"RUVY\").replace(\"Предтрен\",\"Predtren\").replace(\"Плага, JAMIK\",\"Pluga, JAMIK\").replace(\"Ваня Люленов\",\"Vanya Lyulenov\").replace(\"Пирятин\",\"Piryatin\").replace(\"Дайте танк (!)\",\"Daite tank (!)\").replace(\"Ежемесячные\",\"Ezhemesyachnye\").replace(\"Кишлак\",\"Krishlak\").replace(\"наше последнее лето\",\"nashe poslednee leto\").replace(\"АДЛИН, Килджо\",\"Adlin, kildjo\").replace(\"Повстанська Народна Патріотична Пісня\",\"Povstanska Narodna Patriotichna Pisnya\").replace(\"Курган & Agregat, LATEXFAUNA\",\"Kurgan & Agregat, LATEXFAUNA\").replace(\"Бульбулятор\",\"Bulbylyator\").replace(\"Валентин Дядька, Стереополина\",\"Valentin Dyadka, Stereopolina\").replace(\"ł\",\"l\").replace(\"ð\",\"d\").replace(\"Даниил Степанов\",\"Daniil Stepanov\").replace(\"Три дня дождя\",\"Tri dnya dozhdya\").replace(\"билборды\",\"bilbordy\").replace(\"Βέβηλος\",\"Vevilos\").replace(\"Niman, Truwer, Райда, Scriptonite\",\"Niman, Truwer, Rayda, Scriptonite\").replace(\"Керана и космонавтите\",\"Kerana i kosmonavtite\").replace(\"Дeva\",\"Deva\").replace(\"Зараза\",\"Zaraza\").replace(\"Спектакль Джо\",\"Spektakl Joe\").replace(\"Я.СГОРЕЛ.ДВАЖДЫ, @strochka.mag\",\"Ya.sgorel.dvazdy, @strochka.mag\").replace(\"Palagin, Куок, Индаблэк, GOODY\",\"Palagin, Kyok, Indablack, GOODY\").replace(\"Кондрашов\", \"Kondrashov\").replace(\"Александр Гудков, Cream Soda\",\"Alexander Gudkov, Cream Soda\").replace(\"Просто Вопрос\",\"Prosto Vopros\").replace(\"алёна швец.\",\"alena shvets.\").replace(\"ø\",\"o\").replace(\"Boro Purvi, Мариус Куркински\",\"Boro Purvi, Marius Kurkinski\").replace(\"Лилу45\",\"Lilu45\").replace(\"ЕГОР ШИП\", \"Egor Ship\").replace(\"ФОГЕЛЬ\",\"Fogel\").replace(\"МОТ\",\"MoT\").replace(\"Перемотка\",\"Peremotka\").replace(\"æ\",\"ae\").replace(\"Саша Чемеров, Boombox\",\"Sasha Chemerov, Boombox\").replace(\"Þ\",\"th\").replace(\"NЮ\",\"NIO\").replace(\"œ\",\"oe\").replace(\"Dedublüman, Çağrı Çelik\",\"Dedubluman, Cagri Celik\").replace(\"ギヴン\",\"Given\").replace(\"稲葉曇\",\"Inaba Kumo\").replace(\"Лилу45\",\"Lilu45\").replace(\"Дора\",\"Dora\").replace(\"Rdmk, Лъчо\", \"Rdmk, Lucho\").replace(\"ВесЪ, GUF\",\"Ves, GUF\").replace(\"Луна\",\"Luna\").replace(\"Лъчо\",\"Lucho\").replace(\"Лилу, LOVV66\",\"Leeloo, LOVV66\").replace(\"Scriptonite, Райда\",\"Scriptonite, Rayda\").replace(\"Колос\",\"Kolos\").replace(\"Шайни, 3TERNITY\",\"Shiny, 3TERNITY\").replace(\"Грибы\",\"Griby\").replace(\"Θύτης\",\"Thytis\").replace(\"Xcho, Пабло, ALEMOND\",\"Xcho, Pablo, ALEMOND\").replace(\"ФОГЕЛЬ\",\"Fogel\").replace(\"Sимптом, Andy Panda, TumaniYO\",\"Simptom, Andy Panda, TumaniYO\").replace(\"лиззка\",\"Lizzka\").replace(\"Платина, Мари Краймбрери\",\"Platina, Mari Kraimbrery\").replace(\"Платина, Мот\",\"Platina, Mot\").replace(\"Платина, Мари Краймбрери\",\"Platina, Mari Kraimbrery\").replace(\"Платина, Мот\",\"Platina, Mot\").replace(\"Платина, Мари Краймбрери\",\"Platina, Mari Kraimbrery\").replace(\"Платина, Мот\",\"Platina, Mot\").replace(\"Платина, Мари Краймбрери\",\"Platina, Mari Kraimbrery\").replace(\"Платина, Мот\",\"Platina, Mot\").replace(\"Платина, Мари Краймбрери\",\"Platina, Mari Kraimbrery\").replace(\"Платина, Мот\",\"Platina, Mot\").replace(\"Платина, Мари Краймбрери\",\"Platina, Mari Kraimbrery\").replace(\"Платина, Мот\",\"Platina, Mot\").replace(\"Платина, Мари Краймбрери\",\"Platina, Mari Kraimbrery\").replace(\"Платина, Мот\",\"Platina, Mot\").replace(\"Платина, Мари Краймбрери\",\"Platina, Mari Kraimbrery\").replace(\"Платина, Мот\",\"Platina, Mot\").replace(\"Гербер\",\"Gerber\").replace(\"suramura, Рэйчел\",\"Suramura, Rachel\").replace(\"Платина, Big Baby Tape\",\"Platina, Big Baby Tape\").replace(\"Платина, OG Buda, MAYOT\",\"Platina, OG Buda, MAYOT\").replace(\"Платина\",\"Platina\").replace(\"mazellovvv, маз корж\",\"Mazellovvv, Maz Korzh\").replace(\"SSaSke Нарезки, iiRN, 5opka\",\"SSaSke Narezki, iiRN, 5opka\").replace(\"АСАФАТОV\",\"ASAFATOV\").replace(\"нексюша\",\"Nexyusha\").replace(\"Вектор А, METAN\",\"Vector A, METAN\").replace(\"Кобяков\",\"Kobyakov\").replace(\"БЛЭЙЗЕР\",\"BLAZER\").replace(\"METAN, Вектор А\",\"METAN, Vector A\").replace(\"ЕГОР ШИП\",\"Egor Ship\").replace(\"We, Лэривэйн\",\"We, Lerivain\").replace(\"Абрикоса\",\"Abrikosa\").replace(\"Перемотка\",\"Peremotka\").replace(\"Автоспорт\",\"Avtosport\").replace(\"3TERNITY, хочуспать\",\"3TERNITY, hochuspat\").replace(\"Стекловата, Steklovata\",\"Steklovata, Steklovata\").replace(\"OVERHILL, КРИСПИ, Экси, PUSSYKILLER\",\"OVERHILL, KRISPI, Eksi, PUSSYKILLER\").replace(\"Стекловата\", \"Steklovata\").replace(\"Steklovata, Стекловата\", \"Steklovata, Steklovata\").replace(\"Саша Чемеров, Boombox\", \"Sasha Chemerov, Boombox\").replace(\"просто Лера\", \"prosto Lera\").replace(\"Орест Лютий\",\"Orest Lyutiy\").replace(\"欣然丫, 高亚楠, 风云音社, 虞姬\",\"Xinran Ya, Gao Yanan, Fengyun Yin She, Yu Ji\").replace(\"забей, лерочка\",\"zabei, Lerochka\").replace(\"Миша Кацурин\",\"Misha Katsurin\").replace(\"Група Жигули\",\"Gruppa Zhiguli\").replace(\"Ваня Костова\",\"Vanya Kostova\").replace(\"Спални Места\",\"Spalni Mesta\").replace(\"Настя Гонцул\",\"Nastya Gontsul\").replace(\"Папин Олимпос\",\"Papin Olimpos\").replace(\"Глеб Калюжный\",\"Gleb Kalyuzhnyy\").replace(\"Ваня Великова\",\"Vanya Velikova\").replace(\"Κοινοί Θνητοί\",\"Koinoi Thnitoi\").replace(\"Мертвий півень\",\"Mertviy Piven\").replace(\"Артский, Марик эс\",\"Artskiy, Marik es\").replace(\"Султан Лагучев\",\"Sultan Laguchev\").replace(\"Boro Purvi, Мариус Куркински\",\"Boro Purvi, Marius Kurkinski\").replace(\"ЭЛЕКТРОСЛАБОСТЬ\",\"ELEKTROSLABOST\").replace(\"Альбина Сексова\",\"Albina Seksova\").replace(\"Кирилл Нефтерев\",\"Kirill Neftyev\").replace(\"В'ячеслав Кукоба\",\"V'yacheslav Kukoba\").replace(\"Ваня Костова, Боян Михайлов\",\"Vanya Kostova, Boyan Mihaylov\").replace(\"Баста feat. Алёна Омаргалиева\",\"Basta feat. Alena Omarhalieva\").replace(\"遠野高志, 加島優, 矢口恭介, ジミー, 百合絢斗, 田村唯, 明美圭一, 糸目幸士郎, 鹿谷樹\",\"Tono Takashi, Kashima Yuu, Yaguchi Kyousuke, Jimmy, Yuri Ayato, Tamura Yui, Akemi Keiichi, Itome Koushirou, Shikatani Itsuki\").replace(\"Миша Кацурин\",\"Misha Katsurin\").replace(\"Група Жигули\",\"Gruppa Zhiguli\").replace(\"Ваня Костова\",\"Vanya Kostova\").replace(\"Спални Места\",\"Spalni Mesta\").replace(\"Настя Гонцул\",\"Nastya Gontsul\").replace(\"Папин Олимпос\",\"Papin Olimpos\").replace(\"Глеб Калюжный\",\"Gleb Kalyuzhnyy\").replace(\"Ваня Великова\",\"Vanya Velikova\").replace(\"Κοινοί Θνητοί\",\"Koinoi Thnitoi\").replace(\"Мертвий півень\",\"Mertviy Piven\").replace(\"Артский, Марик эс\",\"Artskiy, Marik es\").replace(\"Султан Лагучев\",\"Sultan Laguchev\").replace(\"Boro Purvi, Мариус Куркински\",\"Boro Purvi, Marius Kurkinski\").replace(\"ЭЛЕКТРОСЛАБОСТЬ\",\"ELEKTROSLABOST\").replace(\"Альбина Сексова\",\"Albina Seksova\").replace(\"Кирилл Нефтерев\",\"Kirill Neftyev\").replace(\"В'ячеслав Кукоба\",\"V'yacheslav Kukoba\").replace(\"Ваня Костова, Боян Михайлов\",\"Vanya Kostova, Boyan Mihaylov\").replace(\"Баста feat. Алёна Омаргалиева\",\"Basta feat. Alena Omarhalieva\").replace(\"遠野高志, 加島優, 矢口恭介, ジミー, 百合絢斗, 田村唯, 明美圭一, 糸目幸士郎, 鹿谷樹\",\"Tono Takashi, Kashima Yuu, Yaguchi Kyousuke, Jimmy, Yuri Ayato, Tamura Yui, Akemi Keiichi, Itome Koushirou, Shikatani Itsuki\").replace(\"æ\",\"ae\").replace(\"ð\",\"d\").replace(\"ł\",\"l\").replace(\"ø\",\"o\").replace(\"Þ\",\"th\").replace(\"Ø\",\"O\").replace(\"э\",\"e\").replace(\"Æ\",\"AE\").replace(\"Daði\", \"Dadi\").replace(\"MØ\", \"MO\").replace(\"Komið Að Því\", \"Komid Ad Thvi\").replace(\"Эйя\", \"Eya\").replace(\"АУФ\", \"AUF\")"
   ]
  },
  {
   "cell_type": "code",
   "execution_count": 5,
   "id": "d8fbd56c",
   "metadata": {},
   "outputs": [
    {
     "name": "stderr",
     "output_type": "stream",
     "text": [
      "C:\\Users\\jesus\\AppData\\Local\\Temp\\ipykernel_15432\\3188458998.py:7: SettingWithCopyWarning: \n",
      "A value is trying to be set on a copy of a slice from a DataFrame.\n",
      "Try using .loc[row_indexer,col_indexer] = value instead\n",
      "\n",
      "See the caveats in the documentation: https://pandas.pydata.org/pandas-docs/stable/user_guide/indexing.html#returning-a-view-versus-a-copy\n",
      "  spotify_top50['artist_normalize'] = spotify_top50['artist'].apply(normalize_to_ascii)\n"
     ]
    }
   ],
   "source": [
    "import unicodedata\n",
    "\n",
    "def normalize_to_ascii(text):\n",
    "    nfkd_form = unicodedata.normalize('NFKD', text)\n",
    "    return nfkd_form.encode('ascii', 'ignore').decode('utf-8')\n",
    "\n",
    "spotify_top50['artist_normalize'] = spotify_top50['artist'].apply(normalize_to_ascii)"
   ]
  },
  {
   "cell_type": "markdown",
   "id": "568d80ac",
   "metadata": {},
   "source": [
    "Cleaning now the song titles"
   ]
  },
  {
   "cell_type": "code",
   "execution_count": 27,
   "id": "95b14891",
   "metadata": {},
   "outputs": [],
   "source": [
    "from unidecode import unidecode\n",
    "import pandas as pd\n",
    "\n",
    "def unidecode_text(text):\n",
    "    if pd.isna(text): \n",
    "        return text   \n",
    "    return unidecode(str(text))\n",
    "\n",
    "# spotify_top50['title2'] = spotify_top50['title'].apply(unidecode_text)\n",
    "Songs= pd.read_csv('C:/Users/jesus/Downloads/Song - Song.csv.csv')\n",
    "Songs['Song_title'] = Songs['Song_title'].apply(unidecode_text)\n",
    "\n",
    "Songs.to_csv(\"../data/clean/Song.csv\", index=False, encoding='utf-8')\n"
   ]
  },
  {
   "cell_type": "code",
   "execution_count": 7,
   "id": "2e3da184",
   "metadata": {},
   "outputs": [
    {
     "name": "stderr",
     "output_type": "stream",
     "text": [
      "C:\\Users\\jesus\\AppData\\Local\\Temp\\ipykernel_15432\\31059354.py:1: FutureWarning: Series.replace without 'value' and with non-dict-like 'to_replace' is deprecated and will raise in a future version. Explicitly specify the new values instead.\n",
      "  spotify_top50['title2']= spotify_top50['title'].replace(\"æ\",\"ae\").replace(\"ð\",\"d\").replace(\"ł\",\"l\").replace(\"ø\",\"o\").replace(\"Þ\",\"th\").replace(\"Ø\",\"O\").replace(\"э\",\"e\").replace(\"Æ\",\"AE\").replace(\"\").replace(\"Эйя\", \"Eya\").replace(\"АУФ\", \"AUF\").replace(\"Зорi\",\"Zori\").replace(\"СОК\",\"COK\").replace(\"Эми\",\"Emi\").replace(\"ДНК\", \"DNK\").replace(\"CO$¥MON€¥\", \"Cosymoney\").replace(\"Зуб\", \"Zub\").replace(\"том\",\"Tom\").replace(\"НМЗ\",\"NMZ\").replace(\"Шум\", \"Shum\").replace(\"Лёд\",\"Ice\").replace(\"Мох\",\"Mox\").replace(\"Хъс\",\"Hus\").replace(\"紅蓮華\",\"Gurenge\").replace(\"Þjóðhátíðarlag\",\"Thjodhatidarlag\").replace(\"И я\",\"I ya\").replace(\"Сон\",\"Coh\").replace(\"Рана\",\"Rana\").replace(\"HVAÐ MEÐ ÞAÐ\",\"Hvad Med Thad\").replace(\"зима\",\"zima\").replace(\"ДУЛО\",\"Dulo\").replace(\"ночь\",\"noch\").replace(\"Гуси\",\"Gusi\")\n",
      "C:\\Users\\jesus\\AppData\\Local\\Temp\\ipykernel_15432\\31059354.py:1: SettingWithCopyWarning: \n",
      "A value is trying to be set on a copy of a slice from a DataFrame.\n",
      "Try using .loc[row_indexer,col_indexer] = value instead\n",
      "\n",
      "See the caveats in the documentation: https://pandas.pydata.org/pandas-docs/stable/user_guide/indexing.html#returning-a-view-versus-a-copy\n",
      "  spotify_top50['title2']= spotify_top50['title'].replace(\"æ\",\"ae\").replace(\"ð\",\"d\").replace(\"ł\",\"l\").replace(\"ø\",\"o\").replace(\"Þ\",\"th\").replace(\"Ø\",\"O\").replace(\"э\",\"e\").replace(\"Æ\",\"AE\").replace(\"\").replace(\"Эйя\", \"Eya\").replace(\"АУФ\", \"AUF\").replace(\"Зорi\",\"Zori\").replace(\"СОК\",\"COK\").replace(\"Эми\",\"Emi\").replace(\"ДНК\", \"DNK\").replace(\"CO$¥MON€¥\", \"Cosymoney\").replace(\"Зуб\", \"Zub\").replace(\"том\",\"Tom\").replace(\"НМЗ\",\"NMZ\").replace(\"Шум\", \"Shum\").replace(\"Лёд\",\"Ice\").replace(\"Мох\",\"Mox\").replace(\"Хъс\",\"Hus\").replace(\"紅蓮華\",\"Gurenge\").replace(\"Þjóðhátíðarlag\",\"Thjodhatidarlag\").replace(\"И я\",\"I ya\").replace(\"Сон\",\"Coh\").replace(\"Рана\",\"Rana\").replace(\"HVAÐ MEÐ ÞAÐ\",\"Hvad Med Thad\").replace(\"зима\",\"zima\").replace(\"ДУЛО\",\"Dulo\").replace(\"ночь\",\"noch\").replace(\"Гуси\",\"Gusi\")\n"
     ]
    }
   ],
   "source": [
    "spotify_top50['title2']= spotify_top50['title'].replace(\"æ\",\"ae\").replace(\"ð\",\"d\").replace(\"ł\",\"l\").replace(\"ø\",\"o\").replace(\"Þ\",\"th\").replace(\"Ø\",\"O\").replace(\"э\",\"e\").replace(\"Æ\",\"AE\").replace(\"\").replace(\"Эйя\", \"Eya\").replace(\"АУФ\", \"AUF\").replace(\"Зорi\",\"Zori\").replace(\"СОК\",\"COK\").replace(\"Эми\",\"Emi\").replace(\"ДНК\", \"DNK\").replace(\"CO$¥MON€¥\", \"Cosymoney\").replace(\"Зуб\", \"Zub\").replace(\"том\",\"Tom\").replace(\"НМЗ\",\"NMZ\").replace(\"Шум\", \"Shum\").replace(\"Лёд\",\"Ice\").replace(\"Мох\",\"Mox\").replace(\"Хъс\",\"Hus\").replace(\"紅蓮華\",\"Gurenge\").replace(\"Þjóðhátíðarlag\",\"Thjodhatidarlag\").replace(\"И я\",\"I ya\").replace(\"Сон\",\"Coh\").replace(\"Рана\",\"Rana\").replace(\"HVAÐ MEÐ ÞAÐ\",\"Hvad Med Thad\").replace(\"зима\",\"zima\").replace(\"ДУЛО\",\"Dulo\").replace(\"ночь\",\"noch\").replace(\"Гуси\",\"Gusi\")\n",
    "\n",
    "\n"
   ]
  },
  {
   "cell_type": "code",
   "execution_count": 8,
   "id": "efc3665e",
   "metadata": {},
   "outputs": [
    {
     "data": {
      "text/plain": [
       "Index(['title', 'rank', 'date', 'artist', 'url', 'region', 'chart', 'trend',\n",
       "       'streams', 'artist_normalize', 'title2'],\n",
       "      dtype='object')"
      ]
     },
     "execution_count": 8,
     "metadata": {},
     "output_type": "execute_result"
    }
   ],
   "source": [
    "spotify_top50.columns"
   ]
  },
  {
   "cell_type": "code",
   "execution_count": 9,
   "id": "e1c94519",
   "metadata": {},
   "outputs": [
    {
     "data": {
      "text/plain": [
       "Index(['Country', 'Spotify_id', 'Song_title', 'Artist', 'Date',\n",
       "       'Daily_rank_2021'],\n",
       "      dtype='object')"
      ]
     },
     "execution_count": 9,
     "metadata": {},
     "output_type": "execute_result"
    }
   ],
   "source": [
    "Spotify_final2= spotify_top50[['region', 'url', 'title2', 'artist_normalize', 'date', 'rank' ]]\n",
    "Spotify_final= Spotify_final2.rename(columns={'region':'Country', 'url':'Spotify_id', 'title2': 'Song_title', 'artist_normalize':'Artist', 'date': 'Date', 'rank':'Daily_rank_2021'})\n",
    "Spotify_final.columns\n",
    "Spotify_final.columns"
   ]
  },
  {
   "cell_type": "code",
   "execution_count": 10,
   "id": "be385876",
   "metadata": {},
   "outputs": [],
   "source": [
    "Spotify_final.to_csv(\"../data/clean/spotify_European_top50_2021.csv\", index=False, encoding='utf-8')"
   ]
  },
  {
   "cell_type": "code",
   "execution_count": 11,
   "id": "645deb9a",
   "metadata": {},
   "outputs": [],
   "source": [
    "spotify_Jesus= pd.read_csv('../data/clean/spotify_European_top50_2021.csv')\n",
    "spotify_Jessica= pd.read_csv('C:/Users/jesus/Downloads/spotify_European_top50_2024.csv')"
   ]
  },
  {
   "cell_type": "code",
   "execution_count": 12,
   "id": "87f72812",
   "metadata": {},
   "outputs": [
    {
     "data": {
      "text/plain": [
       "np.int64(965512)"
      ]
     },
     "execution_count": 12,
     "metadata": {},
     "output_type": "execute_result"
    }
   ],
   "source": [
    "spotify_Jesus['Artist'].count()"
   ]
  },
  {
   "cell_type": "code",
   "execution_count": 13,
   "id": "a0f46341",
   "metadata": {},
   "outputs": [],
   "source": [
    "Full_data=pd.concat([spotify_Jesus, spotify_Jessica], axis=0).reset_index(drop=True)\n",
    "Full_data['Artist_new2'] = Full_data['Artist'].apply(unidecode_text)\n",
    "Artists= Full_data[['Artist']].drop_duplicates()\n",
    "\n"
   ]
  },
  {
   "cell_type": "code",
   "execution_count": 14,
   "id": "13135fc6",
   "metadata": {},
   "outputs": [],
   "source": [
    "Artists.to_csv(\"../data/clean/Artists.csv\", index=False, encoding='utf-8')"
   ]
  },
  {
   "cell_type": "code",
   "execution_count": 15,
   "id": "2fc59b9a",
   "metadata": {},
   "outputs": [
    {
     "data": {
      "text/plain": [
       "Index(['Country', 'Spotify_id', 'Song_title', 'Artist', 'Date',\n",
       "       'Daily_rank_2021', 'Daily_rank_2024', 'Artist_new2'],\n",
       "      dtype='object')"
      ]
     },
     "execution_count": 15,
     "metadata": {},
     "output_type": "execute_result"
    }
   ],
   "source": [
    "Full_data.columns"
   ]
  },
  {
   "cell_type": "code",
   "execution_count": 16,
   "id": "22cb2dfb",
   "metadata": {},
   "outputs": [],
   "source": [
    "Song=Full_data[['Song_title', 'Spotify_id','Artist_new2']].drop_duplicates()\n",
    "Song.to_csv(\"../data/clean/Song.csv\", index=False, encoding='utf-8')"
   ]
  },
  {
   "cell_type": "code",
   "execution_count": 17,
   "id": "1839af6c",
   "metadata": {},
   "outputs": [
    {
     "data": {
      "application/vnd.microsoft.datawrangler.viewer.v0+json": {
       "columns": [
        {
         "name": "index",
         "rawType": "int64",
         "type": "integer"
        },
        {
         "name": "Country",
         "rawType": "object",
         "type": "string"
        },
        {
         "name": "Country_id",
         "rawType": "int64",
         "type": "integer"
        }
       ],
       "ref": "80999ebf-fea8-4746-8f86-f2b58840e3c4",
       "rows": [
        [
         "0",
         "SPAIN",
         "0"
        ],
        [
         "1",
         "ICELAND",
         "1"
        ],
        [
         "5",
         "BELGIUM",
         "2"
        ],
        [
         "6",
         "DENMARK",
         "3"
        ],
        [
         "7",
         "AUSTRIA",
         "4"
        ]
       ],
       "shape": {
        "columns": 2,
        "rows": 5
       }
      },
      "text/html": [
       "<div>\n",
       "<style scoped>\n",
       "    .dataframe tbody tr th:only-of-type {\n",
       "        vertical-align: middle;\n",
       "    }\n",
       "\n",
       "    .dataframe tbody tr th {\n",
       "        vertical-align: top;\n",
       "    }\n",
       "\n",
       "    .dataframe thead th {\n",
       "        text-align: right;\n",
       "    }\n",
       "</style>\n",
       "<table border=\"1\" class=\"dataframe\">\n",
       "  <thead>\n",
       "    <tr style=\"text-align: right;\">\n",
       "      <th></th>\n",
       "      <th>Country</th>\n",
       "      <th>Country_id</th>\n",
       "    </tr>\n",
       "  </thead>\n",
       "  <tbody>\n",
       "    <tr>\n",
       "      <th>0</th>\n",
       "      <td>SPAIN</td>\n",
       "      <td>0</td>\n",
       "    </tr>\n",
       "    <tr>\n",
       "      <th>1</th>\n",
       "      <td>ICELAND</td>\n",
       "      <td>1</td>\n",
       "    </tr>\n",
       "    <tr>\n",
       "      <th>5</th>\n",
       "      <td>BELGIUM</td>\n",
       "      <td>2</td>\n",
       "    </tr>\n",
       "    <tr>\n",
       "      <th>6</th>\n",
       "      <td>DENMARK</td>\n",
       "      <td>3</td>\n",
       "    </tr>\n",
       "    <tr>\n",
       "      <th>7</th>\n",
       "      <td>AUSTRIA</td>\n",
       "      <td>4</td>\n",
       "    </tr>\n",
       "  </tbody>\n",
       "</table>\n",
       "</div>"
      ],
      "text/plain": [
       "   Country  Country_id\n",
       "0    SPAIN           0\n",
       "1  ICELAND           1\n",
       "5  BELGIUM           2\n",
       "6  DENMARK           3\n",
       "7  AUSTRIA           4"
      ]
     },
     "execution_count": 17,
     "metadata": {},
     "output_type": "execute_result"
    }
   ],
   "source": [
    "Country=Full_data[['Country']]\n",
    "Country2=Country['Country'].str.upper().drop_duplicates()\n",
    "Country=pd.DataFrame(Country2)\n",
    "Country.head()\n",
    "unique_countries, country_ids = pd.factorize(Country['Country'])\n",
    "country_to_id = {country: id_val for id_val, country in enumerate(country_ids)}\n",
    "country_to_id[\"Spain\"] = 57\n",
    "Country['Country_id'] = Country['Country'].map(country_to_id)\n",
    "Country.to_csv(\"../data/clean/Country.csv\", index=False, encoding='utf-8')\n",
    "Country.head()"
   ]
  },
  {
   "cell_type": "markdown",
   "id": "2629c83c",
   "metadata": {},
   "source": [
    "Creating song_to_country table"
   ]
  },
  {
   "cell_type": "code",
   "execution_count": 18,
   "id": "90decffb",
   "metadata": {},
   "outputs": [
    {
     "name": "stderr",
     "output_type": "stream",
     "text": [
      "C:\\Users\\jesus\\AppData\\Local\\Temp\\ipykernel_15432\\441191919.py:3: SettingWithCopyWarning: \n",
      "A value is trying to be set on a copy of a slice from a DataFrame.\n",
      "Try using .loc[row_indexer,col_indexer] = value instead\n",
      "\n",
      "See the caveats in the documentation: https://pandas.pydata.org/pandas-docs/stable/user_guide/indexing.html#returning-a-view-versus-a-copy\n",
      "  song_to_country['Country']=song_to_country['Country'].str.upper()\n"
     ]
    },
    {
     "data": {
      "application/vnd.microsoft.datawrangler.viewer.v0+json": {
       "columns": [
        {
         "name": "index",
         "rawType": "int64",
         "type": "integer"
        },
        {
         "name": "Country",
         "rawType": "object",
         "type": "string"
        },
        {
         "name": "Spotify_id",
         "rawType": "object",
         "type": "string"
        }
       ],
       "ref": "de05f1bb-4260-43d9-8d0f-95dc9667dd83",
       "rows": [
        [
         "0",
         "SPAIN",
         "https://open.spotify.com/track/4bF2y8rR7GUjrd5LNEvej3"
        ],
        [
         "1",
         "ICELAND",
         "https://open.spotify.com/track/5Z9KJZvQzH6PFmb8SNkxuk"
        ],
        [
         "2",
         "ICELAND",
         "https://open.spotify.com/track/5PjdY0CKGZdEuoNab3yDmX"
        ],
        [
         "3",
         "ICELAND",
         "https://open.spotify.com/track/0RbW8kWozrVSIGb4V13o0o"
        ],
        [
         "4",
         "ICELAND",
         "https://open.spotify.com/track/6PQ88X9TkUIAUIZJHW2upE"
        ],
        [
         "5",
         "BELGIUM",
         "https://open.spotify.com/track/3Wrjm47oTz2sjIgck11l5e"
        ],
        [
         "6",
         "DENMARK",
         "https://open.spotify.com/track/6nV2dFZXpv1JlqDWBeTXRl"
        ],
        [
         "7",
         "AUSTRIA",
         "https://open.spotify.com/track/0k4d5YPDr1r7FX77VdqWez"
        ],
        [
         "8",
         "AUSTRIA",
         "https://open.spotify.com/track/3Wrjm47oTz2sjIgck11l5e"
        ],
        [
         "9",
         "AUSTRIA",
         "https://open.spotify.com/track/4pt5fDVTg5GhEvEtlz9dKk"
        ],
        [
         "10",
         "AUSTRIA",
         "https://open.spotify.com/track/2H7jZg2HliuQhZjfBblLrZ"
        ],
        [
         "11",
         "AUSTRIA",
         "https://open.spotify.com/track/4ZtFanR9U6ndgddUvNcjcG"
        ],
        [
         "12",
         "AUSTRIA",
         "https://open.spotify.com/track/6PQ88X9TkUIAUIZJHW2upE"
        ],
        [
         "13",
         "AUSTRIA",
         "https://open.spotify.com/track/1m0UFnuTktOkksvjbF9z0m"
        ],
        [
         "14",
         "AUSTRIA",
         "https://open.spotify.com/track/4cG7HUWYHBV6R6tHn1gxrl"
        ],
        [
         "15",
         "AUSTRIA",
         "https://open.spotify.com/track/67BtfxlNbhBmCDR2L2l8qd"
        ],
        [
         "16",
         "AUSTRIA",
         "https://open.spotify.com/track/1YHjRAptXqPdsdx3g6FNJL"
        ],
        [
         "17",
         "AUSTRIA",
         "https://open.spotify.com/track/776AftMmFFAWUIEAb3lHhw"
        ],
        [
         "18",
         "AUSTRIA",
         "https://open.spotify.com/track/7MC4XR9M9amdmKQr2iDF7i"
        ],
        [
         "19",
         "AUSTRIA",
         "https://open.spotify.com/track/2JzXBqTIVHYX43t7EcLyMs"
        ],
        [
         "20",
         "AUSTRIA",
         "https://open.spotify.com/track/0it0PhmH2Tq2Xl5o49pdMo"
        ],
        [
         "21",
         "AUSTRIA",
         "https://open.spotify.com/track/5nujrmhLynf4yMoMtj8AQF"
        ],
        [
         "22",
         "AUSTRIA",
         "https://open.spotify.com/track/3iw6V4LH7yPj1ESORX9RIN"
        ],
        [
         "23",
         "AUSTRIA",
         "https://open.spotify.com/track/3ggtU1ZOKO8ZNiqPNyXGcm"
        ],
        [
         "24",
         "AUSTRIA",
         "https://open.spotify.com/track/0UKUfxIkDAMZz7hMdiVX3m"
        ],
        [
         "25",
         "AUSTRIA",
         "https://open.spotify.com/track/4txsSBdT4yVJtUj41YaQEB"
        ],
        [
         "26",
         "AUSTRIA",
         "https://open.spotify.com/track/6f3Slt0GbA2bPZlz0aIFXN"
        ],
        [
         "27",
         "AUSTRIA",
         "https://open.spotify.com/track/0b18g3G5spr4ZCkz7Y6Q0Q"
        ],
        [
         "28",
         "AUSTRIA",
         "https://open.spotify.com/track/2knDuFWczh1Wv92eBAdPTa"
        ],
        [
         "29",
         "AUSTRIA",
         "https://open.spotify.com/track/0BGwAKW4u8kWOhWFflZxfl"
        ],
        [
         "30",
         "AUSTRIA",
         "https://open.spotify.com/track/5YaskwnGDZFDRipaqzbwQx"
        ],
        [
         "31",
         "AUSTRIA",
         "https://open.spotify.com/track/4iJyoBOLtHqaGxP12qzhQI"
        ],
        [
         "32",
         "AUSTRIA",
         "https://open.spotify.com/track/3Iba59sFmGhQ4kbCY5L8AX"
        ],
        [
         "33",
         "AUSTRIA",
         "https://open.spotify.com/track/3DarAbFujv6eYNliUTyqtz"
        ],
        [
         "34",
         "AUSTRIA",
         "https://open.spotify.com/track/1kTlT3phtU2yqTJYT1x6hb"
        ],
        [
         "35",
         "AUSTRIA",
         "https://open.spotify.com/track/1bQduKjv7s88QkGmzcxHMh"
        ],
        [
         "36",
         "AUSTRIA",
         "https://open.spotify.com/track/2UbVnbE5FH6008mAm6Mmgw"
        ],
        [
         "37",
         "AUSTRIA",
         "https://open.spotify.com/track/0uQbTk0GFM9PxE0rN1UWZb"
        ],
        [
         "38",
         "AUSTRIA",
         "https://open.spotify.com/track/6uMbcYQjDxHeZNMyQqT2t3"
        ],
        [
         "39",
         "AUSTRIA",
         "https://open.spotify.com/track/28tBoBognmn3BBdfjPzSw9"
        ],
        [
         "40",
         "AUSTRIA",
         "https://open.spotify.com/track/79lc69ZXfL4WmJIzVSDmWT"
        ],
        [
         "41",
         "AUSTRIA",
         "https://open.spotify.com/track/3idbCPumlga23rxFA08fZE"
        ],
        [
         "42",
         "AUSTRIA",
         "https://open.spotify.com/track/2pPO9YecZimmuVQfIzfV6U"
        ],
        [
         "43",
         "AUSTRIA",
         "https://open.spotify.com/track/6jmIUrOD5seJEh6Z6RP2xz"
        ],
        [
         "44",
         "AUSTRIA",
         "https://open.spotify.com/track/7jtQIBanIiJOMS6RyCx6jZ"
        ],
        [
         "45",
         "AUSTRIA",
         "https://open.spotify.com/track/2iL0W5qi0ivZ9WRXbZ74cS"
        ],
        [
         "46",
         "AUSTRIA",
         "https://open.spotify.com/track/0VjIjW4GlUZAMYd2vXMi3b"
        ],
        [
         "47",
         "AUSTRIA",
         "https://open.spotify.com/track/4Lt6GXGzYsa1tgkv3nGSTm"
        ],
        [
         "48",
         "AUSTRIA",
         "https://open.spotify.com/track/6HU7h9RYOaPRFeh0R3UeAr"
        ],
        [
         "49",
         "AUSTRIA",
         "https://open.spotify.com/track/6uvMKqNlrSvcC4NaKnrwjZ"
        ]
       ],
       "shape": {
        "columns": 2,
        "rows": 56773
       }
      },
      "text/html": [
       "<div>\n",
       "<style scoped>\n",
       "    .dataframe tbody tr th:only-of-type {\n",
       "        vertical-align: middle;\n",
       "    }\n",
       "\n",
       "    .dataframe tbody tr th {\n",
       "        vertical-align: top;\n",
       "    }\n",
       "\n",
       "    .dataframe thead th {\n",
       "        text-align: right;\n",
       "    }\n",
       "</style>\n",
       "<table border=\"1\" class=\"dataframe\">\n",
       "  <thead>\n",
       "    <tr style=\"text-align: right;\">\n",
       "      <th></th>\n",
       "      <th>Country</th>\n",
       "      <th>Spotify_id</th>\n",
       "    </tr>\n",
       "  </thead>\n",
       "  <tbody>\n",
       "    <tr>\n",
       "      <th>0</th>\n",
       "      <td>SPAIN</td>\n",
       "      <td>https://open.spotify.com/track/4bF2y8rR7GUjrd5...</td>\n",
       "    </tr>\n",
       "    <tr>\n",
       "      <th>1</th>\n",
       "      <td>ICELAND</td>\n",
       "      <td>https://open.spotify.com/track/5Z9KJZvQzH6PFmb...</td>\n",
       "    </tr>\n",
       "    <tr>\n",
       "      <th>2</th>\n",
       "      <td>ICELAND</td>\n",
       "      <td>https://open.spotify.com/track/5PjdY0CKGZdEuoN...</td>\n",
       "    </tr>\n",
       "    <tr>\n",
       "      <th>3</th>\n",
       "      <td>ICELAND</td>\n",
       "      <td>https://open.spotify.com/track/0RbW8kWozrVSIGb...</td>\n",
       "    </tr>\n",
       "    <tr>\n",
       "      <th>4</th>\n",
       "      <td>ICELAND</td>\n",
       "      <td>https://open.spotify.com/track/6PQ88X9TkUIAUIZ...</td>\n",
       "    </tr>\n",
       "    <tr>\n",
       "      <th>...</th>\n",
       "      <td>...</td>\n",
       "      <td>...</td>\n",
       "    </tr>\n",
       "    <tr>\n",
       "      <th>1474234</th>\n",
       "      <td>CZECH REPUBLIC</td>\n",
       "      <td>https://open.spotify.com/track/4AT4gbJTn5qUSBn...</td>\n",
       "    </tr>\n",
       "    <tr>\n",
       "      <th>1474288</th>\n",
       "      <td>SWITZERLAND</td>\n",
       "      <td>https://open.spotify.com/track/2aDAIq3vLuLFUUT...</td>\n",
       "    </tr>\n",
       "    <tr>\n",
       "      <th>1474387</th>\n",
       "      <td>BULGARIA</td>\n",
       "      <td>https://open.spotify.com/track/6fDWIHsi9yw805O...</td>\n",
       "    </tr>\n",
       "    <tr>\n",
       "      <th>1474473</th>\n",
       "      <td>AUSTRIA</td>\n",
       "      <td>https://open.spotify.com/track/3jsgs0wmCwbxYBf...</td>\n",
       "    </tr>\n",
       "    <tr>\n",
       "      <th>1474479</th>\n",
       "      <td>AUSTRIA</td>\n",
       "      <td>https://open.spotify.com/track/5422qkk67RSNZiz...</td>\n",
       "    </tr>\n",
       "  </tbody>\n",
       "</table>\n",
       "<p>56773 rows × 2 columns</p>\n",
       "</div>"
      ],
      "text/plain": [
       "                Country                                         Spotify_id\n",
       "0                 SPAIN  https://open.spotify.com/track/4bF2y8rR7GUjrd5...\n",
       "1               ICELAND  https://open.spotify.com/track/5Z9KJZvQzH6PFmb...\n",
       "2               ICELAND  https://open.spotify.com/track/5PjdY0CKGZdEuoN...\n",
       "3               ICELAND  https://open.spotify.com/track/0RbW8kWozrVSIGb...\n",
       "4               ICELAND  https://open.spotify.com/track/6PQ88X9TkUIAUIZ...\n",
       "...                 ...                                                ...\n",
       "1474234  CZECH REPUBLIC  https://open.spotify.com/track/4AT4gbJTn5qUSBn...\n",
       "1474288     SWITZERLAND  https://open.spotify.com/track/2aDAIq3vLuLFUUT...\n",
       "1474387        BULGARIA  https://open.spotify.com/track/6fDWIHsi9yw805O...\n",
       "1474473         AUSTRIA  https://open.spotify.com/track/3jsgs0wmCwbxYBf...\n",
       "1474479         AUSTRIA  https://open.spotify.com/track/5422qkk67RSNZiz...\n",
       "\n",
       "[56773 rows x 2 columns]"
      ]
     },
     "execution_count": 18,
     "metadata": {},
     "output_type": "execute_result"
    }
   ],
   "source": [
    "song_to_country=Full_data[['Country', 'Spotify_id']]\n",
    "\n",
    "song_to_country['Country']=song_to_country['Country'].str.upper()\n",
    "song_to_country2=song_to_country.drop_duplicates()\n",
    "song_to_country=pd.DataFrame(song_to_country2)\n",
    "song_to_country.to_csv(\"../data/clean/song_to_country.csv\", index=False, encoding='utf-8')\n",
    "song_to_country"
   ]
  },
  {
   "cell_type": "code",
   "execution_count": 19,
   "id": "34f3e8a5",
   "metadata": {},
   "outputs": [
    {
     "ename": "KeyError",
     "evalue": "\"['Spotify_id'] not in index\"",
     "output_type": "error",
     "traceback": [
      "\u001b[1;31m---------------------------------------------------------------------------\u001b[0m",
      "\u001b[1;31mKeyError\u001b[0m                                  Traceback (most recent call last)",
      "Cell \u001b[1;32mIn[19], line 1\u001b[0m\n\u001b[1;32m----> 1\u001b[0m country_to_Song\u001b[38;5;241m=\u001b[39m \u001b[43mCountry\u001b[49m\u001b[43m[\u001b[49m\u001b[43m[\u001b[49m\u001b[38;5;124;43m'\u001b[39;49m\u001b[38;5;124;43mCountry_id\u001b[39;49m\u001b[38;5;124;43m'\u001b[39;49m\u001b[43m,\u001b[49m\u001b[43m \u001b[49m\u001b[38;5;124;43m'\u001b[39;49m\u001b[38;5;124;43mSpotify_id\u001b[39;49m\u001b[38;5;124;43m'\u001b[39;49m\u001b[43m]\u001b[49m\u001b[43m]\u001b[49m\n\u001b[0;32m      2\u001b[0m unique_countries, country_ids \u001b[38;5;241m=\u001b[39m pd\u001b[38;5;241m.\u001b[39mfactorize(country_to_Song[\u001b[38;5;124m'\u001b[39m\u001b[38;5;124mSpotify_id\u001b[39m\u001b[38;5;124m'\u001b[39m])\n\u001b[0;32m      3\u001b[0m new_dict \u001b[38;5;241m=\u001b[39m {country: id_val \u001b[38;5;28;01mfor\u001b[39;00m id_val, country \u001b[38;5;129;01min\u001b[39;00m \u001b[38;5;28menumerate\u001b[39m(country_ids)}\n",
      "File \u001b[1;32mc:\\Users\\jesus\\Desktop\\Ironhack bootcamp\\Week_4\\mid_project\\.venv\\Lib\\site-packages\\pandas\\core\\frame.py:4108\u001b[0m, in \u001b[0;36mDataFrame.__getitem__\u001b[1;34m(self, key)\u001b[0m\n\u001b[0;32m   4106\u001b[0m     \u001b[38;5;28;01mif\u001b[39;00m is_iterator(key):\n\u001b[0;32m   4107\u001b[0m         key \u001b[38;5;241m=\u001b[39m \u001b[38;5;28mlist\u001b[39m(key)\n\u001b[1;32m-> 4108\u001b[0m     indexer \u001b[38;5;241m=\u001b[39m \u001b[38;5;28;43mself\u001b[39;49m\u001b[38;5;241;43m.\u001b[39;49m\u001b[43mcolumns\u001b[49m\u001b[38;5;241;43m.\u001b[39;49m\u001b[43m_get_indexer_strict\u001b[49m\u001b[43m(\u001b[49m\u001b[43mkey\u001b[49m\u001b[43m,\u001b[49m\u001b[43m \u001b[49m\u001b[38;5;124;43m\"\u001b[39;49m\u001b[38;5;124;43mcolumns\u001b[39;49m\u001b[38;5;124;43m\"\u001b[39;49m\u001b[43m)\u001b[49m[\u001b[38;5;241m1\u001b[39m]\n\u001b[0;32m   4110\u001b[0m \u001b[38;5;66;03m# take() does not accept boolean indexers\u001b[39;00m\n\u001b[0;32m   4111\u001b[0m \u001b[38;5;28;01mif\u001b[39;00m \u001b[38;5;28mgetattr\u001b[39m(indexer, \u001b[38;5;124m\"\u001b[39m\u001b[38;5;124mdtype\u001b[39m\u001b[38;5;124m\"\u001b[39m, \u001b[38;5;28;01mNone\u001b[39;00m) \u001b[38;5;241m==\u001b[39m \u001b[38;5;28mbool\u001b[39m:\n",
      "File \u001b[1;32mc:\\Users\\jesus\\Desktop\\Ironhack bootcamp\\Week_4\\mid_project\\.venv\\Lib\\site-packages\\pandas\\core\\indexes\\base.py:6200\u001b[0m, in \u001b[0;36mIndex._get_indexer_strict\u001b[1;34m(self, key, axis_name)\u001b[0m\n\u001b[0;32m   6197\u001b[0m \u001b[38;5;28;01melse\u001b[39;00m:\n\u001b[0;32m   6198\u001b[0m     keyarr, indexer, new_indexer \u001b[38;5;241m=\u001b[39m \u001b[38;5;28mself\u001b[39m\u001b[38;5;241m.\u001b[39m_reindex_non_unique(keyarr)\n\u001b[1;32m-> 6200\u001b[0m \u001b[38;5;28;43mself\u001b[39;49m\u001b[38;5;241;43m.\u001b[39;49m\u001b[43m_raise_if_missing\u001b[49m\u001b[43m(\u001b[49m\u001b[43mkeyarr\u001b[49m\u001b[43m,\u001b[49m\u001b[43m \u001b[49m\u001b[43mindexer\u001b[49m\u001b[43m,\u001b[49m\u001b[43m \u001b[49m\u001b[43maxis_name\u001b[49m\u001b[43m)\u001b[49m\n\u001b[0;32m   6202\u001b[0m keyarr \u001b[38;5;241m=\u001b[39m \u001b[38;5;28mself\u001b[39m\u001b[38;5;241m.\u001b[39mtake(indexer)\n\u001b[0;32m   6203\u001b[0m \u001b[38;5;28;01mif\u001b[39;00m \u001b[38;5;28misinstance\u001b[39m(key, Index):\n\u001b[0;32m   6204\u001b[0m     \u001b[38;5;66;03m# GH 42790 - Preserve name from an Index\u001b[39;00m\n",
      "File \u001b[1;32mc:\\Users\\jesus\\Desktop\\Ironhack bootcamp\\Week_4\\mid_project\\.venv\\Lib\\site-packages\\pandas\\core\\indexes\\base.py:6252\u001b[0m, in \u001b[0;36mIndex._raise_if_missing\u001b[1;34m(self, key, indexer, axis_name)\u001b[0m\n\u001b[0;32m   6249\u001b[0m     \u001b[38;5;28;01mraise\u001b[39;00m \u001b[38;5;167;01mKeyError\u001b[39;00m(\u001b[38;5;124mf\u001b[39m\u001b[38;5;124m\"\u001b[39m\u001b[38;5;124mNone of [\u001b[39m\u001b[38;5;132;01m{\u001b[39;00mkey\u001b[38;5;132;01m}\u001b[39;00m\u001b[38;5;124m] are in the [\u001b[39m\u001b[38;5;132;01m{\u001b[39;00maxis_name\u001b[38;5;132;01m}\u001b[39;00m\u001b[38;5;124m]\u001b[39m\u001b[38;5;124m\"\u001b[39m)\n\u001b[0;32m   6251\u001b[0m not_found \u001b[38;5;241m=\u001b[39m \u001b[38;5;28mlist\u001b[39m(ensure_index(key)[missing_mask\u001b[38;5;241m.\u001b[39mnonzero()[\u001b[38;5;241m0\u001b[39m]]\u001b[38;5;241m.\u001b[39munique())\n\u001b[1;32m-> 6252\u001b[0m \u001b[38;5;28;01mraise\u001b[39;00m \u001b[38;5;167;01mKeyError\u001b[39;00m(\u001b[38;5;124mf\u001b[39m\u001b[38;5;124m\"\u001b[39m\u001b[38;5;132;01m{\u001b[39;00mnot_found\u001b[38;5;132;01m}\u001b[39;00m\u001b[38;5;124m not in index\u001b[39m\u001b[38;5;124m\"\u001b[39m)\n",
      "\u001b[1;31mKeyError\u001b[0m: \"['Spotify_id'] not in index\""
     ]
    }
   ],
   "source": [
    "country_to_Song= Country[['Country_id', 'Spotify_id']]\n",
    "unique_countries, country_ids = pd.factorize(country_to_Song['Spotify_id'])\n",
    "new_dict = {country: id_val for id_val, country in enumerate(country_ids)}\n",
    "new_dict['https://open.spotify.com/track/4bF2y8rR7GUjrd5LNEvej3']= 24117\n",
    "country_to_Song['c_to_s_id'] = country_to_Song['Spotify_id'].map(new_dict)\n",
    "country_to_Song"
   ]
  },
  {
   "cell_type": "markdown",
   "id": "dc014f20",
   "metadata": {},
   "source": [
    "Creating the Rank related tables"
   ]
  },
  {
   "cell_type": "code",
   "execution_count": null,
   "id": "5b25eec7",
   "metadata": {},
   "outputs": [
    {
     "data": {
      "application/vnd.microsoft.datawrangler.viewer.v0+json": {
       "columns": [
        {
         "name": "index",
         "rawType": "int64",
         "type": "integer"
        },
        {
         "name": "Spotify_id",
         "rawType": "object",
         "type": "string"
        },
        {
         "name": "Song_title",
         "rawType": "object",
         "type": "string"
        },
        {
         "name": "Artist",
         "rawType": "object",
         "type": "string"
        },
        {
         "name": "Daily_rank_2024",
         "rawType": "int64",
         "type": "integer"
        },
        {
         "name": "Country",
         "rawType": "object",
         "type": "string"
        },
        {
         "name": "Date",
         "rawType": "object",
         "type": "string"
        }
       ],
       "ref": "b1291928-976a-4b82-83e3-4304e3aae087",
       "rows": [
        [
         "0",
         "https://open.spotify.com/track/7CuxOoQMEaiSXIGwJJkQHW",
         "Kul'babi",
         "Тоня Матвієнко",
         "1",
         "ukraine",
         "2024-12-31"
        ],
        [
         "1",
         "https://open.spotify.com/track/05vZtu5obzMiZdreJK7HH3",
         "Vrubai",
         "Parfeniuk",
         "2",
         "ukraine",
         "2024-12-31"
        ],
        [
         "2",
         "https://open.spotify.com/track/4MQmxIxM5CXKjdq4IrCWhd",
         "Kaseta",
         "SadSvit",
         "3",
         "ukraine",
         "2024-12-31"
        ],
        [
         "3",
         "https://open.spotify.com/track/61BaxM1NIcadLu3gtWm2uT",
         "Silueti",
         "SadSvit, СТРУКТУРА ЩАСТЯ",
         "4",
         "ukraine",
         "2024-12-31"
        ],
        [
         "4",
         "https://open.spotify.com/track/1ZbtwhtxORZcaSh5VKjeXJ",
         "Ne liakai",
         "OSTY, Klavdia Petrivna",
         "5",
         "ukraine",
         "2024-12-31"
        ]
       ],
       "shape": {
        "columns": 6,
        "rows": 5
       }
      },
      "text/html": [
       "<div>\n",
       "<style scoped>\n",
       "    .dataframe tbody tr th:only-of-type {\n",
       "        vertical-align: middle;\n",
       "    }\n",
       "\n",
       "    .dataframe tbody tr th {\n",
       "        vertical-align: top;\n",
       "    }\n",
       "\n",
       "    .dataframe thead th {\n",
       "        text-align: right;\n",
       "    }\n",
       "</style>\n",
       "<table border=\"1\" class=\"dataframe\">\n",
       "  <thead>\n",
       "    <tr style=\"text-align: right;\">\n",
       "      <th></th>\n",
       "      <th>Spotify_id</th>\n",
       "      <th>Song_title</th>\n",
       "      <th>Artist</th>\n",
       "      <th>Daily_rank_2024</th>\n",
       "      <th>Country</th>\n",
       "      <th>Date</th>\n",
       "    </tr>\n",
       "  </thead>\n",
       "  <tbody>\n",
       "    <tr>\n",
       "      <th>0</th>\n",
       "      <td>https://open.spotify.com/track/7CuxOoQMEaiSXIG...</td>\n",
       "      <td>Kul'babi</td>\n",
       "      <td>Тоня Матвієнко</td>\n",
       "      <td>1</td>\n",
       "      <td>ukraine</td>\n",
       "      <td>2024-12-31</td>\n",
       "    </tr>\n",
       "    <tr>\n",
       "      <th>1</th>\n",
       "      <td>https://open.spotify.com/track/05vZtu5obzMiZdr...</td>\n",
       "      <td>Vrubai</td>\n",
       "      <td>Parfeniuk</td>\n",
       "      <td>2</td>\n",
       "      <td>ukraine</td>\n",
       "      <td>2024-12-31</td>\n",
       "    </tr>\n",
       "    <tr>\n",
       "      <th>2</th>\n",
       "      <td>https://open.spotify.com/track/4MQmxIxM5CXKjdq...</td>\n",
       "      <td>Kaseta</td>\n",
       "      <td>SadSvit</td>\n",
       "      <td>3</td>\n",
       "      <td>ukraine</td>\n",
       "      <td>2024-12-31</td>\n",
       "    </tr>\n",
       "    <tr>\n",
       "      <th>3</th>\n",
       "      <td>https://open.spotify.com/track/61BaxM1NIcadLu3...</td>\n",
       "      <td>Silueti</td>\n",
       "      <td>SadSvit, СТРУКТУРА ЩАСТЯ</td>\n",
       "      <td>4</td>\n",
       "      <td>ukraine</td>\n",
       "      <td>2024-12-31</td>\n",
       "    </tr>\n",
       "    <tr>\n",
       "      <th>4</th>\n",
       "      <td>https://open.spotify.com/track/1ZbtwhtxORZcaSh...</td>\n",
       "      <td>Ne liakai</td>\n",
       "      <td>OSTY, Klavdia Petrivna</td>\n",
       "      <td>5</td>\n",
       "      <td>ukraine</td>\n",
       "      <td>2024-12-31</td>\n",
       "    </tr>\n",
       "  </tbody>\n",
       "</table>\n",
       "</div>"
      ],
      "text/plain": [
       "                                          Spotify_id Song_title  \\\n",
       "0  https://open.spotify.com/track/7CuxOoQMEaiSXIG...   Kul'babi   \n",
       "1  https://open.spotify.com/track/05vZtu5obzMiZdr...     Vrubai   \n",
       "2  https://open.spotify.com/track/4MQmxIxM5CXKjdq...     Kaseta   \n",
       "3  https://open.spotify.com/track/61BaxM1NIcadLu3...    Silueti   \n",
       "4  https://open.spotify.com/track/1ZbtwhtxORZcaSh...  Ne liakai   \n",
       "\n",
       "                     Artist  Daily_rank_2024  Country        Date  \n",
       "0            Тоня Матвієнко                1  ukraine  2024-12-31  \n",
       "1                 Parfeniuk                2  ukraine  2024-12-31  \n",
       "2                   SadSvit                3  ukraine  2024-12-31  \n",
       "3  SadSvit, СТРУКТУРА ЩАСТЯ                4  ukraine  2024-12-31  \n",
       "4    OSTY, Klavdia Petrivna                5  ukraine  2024-12-31  "
      ]
     },
     "execution_count": 164,
     "metadata": {},
     "output_type": "execute_result"
    }
   ],
   "source": [
    "spotify_Jessica.head()"
   ]
  },
  {
   "cell_type": "code",
   "execution_count": null,
   "id": "3f1e90b7",
   "metadata": {},
   "outputs": [
    {
     "data": {
      "application/vnd.microsoft.datawrangler.viewer.v0+json": {
       "columns": [
        {
         "name": "index",
         "rawType": "int64",
         "type": "integer"
        },
        {
         "name": "Date",
         "rawType": "object",
         "type": "string"
        },
        {
         "name": "Daily_rank_2024",
         "rawType": "int64",
         "type": "integer"
        }
       ],
       "ref": "047f1a73-4dd6-46c1-a0af-481ba39ca714",
       "rows": [
        [
         "0",
         "2024-12-31",
         "1"
        ],
        [
         "1",
         "2024-12-31",
         "2"
        ],
        [
         "2",
         "2024-12-31",
         "3"
        ],
        [
         "3",
         "2024-12-31",
         "4"
        ],
        [
         "4",
         "2024-12-31",
         "5"
        ],
        [
         "5",
         "2024-12-31",
         "6"
        ],
        [
         "6",
         "2024-12-31",
         "7"
        ],
        [
         "7",
         "2024-12-31",
         "8"
        ],
        [
         "8",
         "2024-12-31",
         "9"
        ],
        [
         "9",
         "2024-12-31",
         "10"
        ],
        [
         "10",
         "2024-12-31",
         "11"
        ],
        [
         "11",
         "2024-12-31",
         "12"
        ],
        [
         "12",
         "2024-12-31",
         "13"
        ],
        [
         "13",
         "2024-12-31",
         "14"
        ],
        [
         "14",
         "2024-12-31",
         "15"
        ],
        [
         "15",
         "2024-12-31",
         "16"
        ],
        [
         "16",
         "2024-12-31",
         "17"
        ],
        [
         "17",
         "2024-12-31",
         "18"
        ],
        [
         "18",
         "2024-12-31",
         "19"
        ],
        [
         "19",
         "2024-12-31",
         "20"
        ],
        [
         "20",
         "2024-12-31",
         "21"
        ],
        [
         "21",
         "2024-12-31",
         "22"
        ],
        [
         "22",
         "2024-12-31",
         "23"
        ],
        [
         "23",
         "2024-12-31",
         "24"
        ],
        [
         "24",
         "2024-12-31",
         "25"
        ],
        [
         "25",
         "2024-12-31",
         "26"
        ],
        [
         "26",
         "2024-12-31",
         "27"
        ],
        [
         "27",
         "2024-12-31",
         "28"
        ],
        [
         "28",
         "2024-12-31",
         "29"
        ],
        [
         "29",
         "2024-12-31",
         "30"
        ],
        [
         "30",
         "2024-12-31",
         "31"
        ],
        [
         "31",
         "2024-12-31",
         "32"
        ],
        [
         "32",
         "2024-12-31",
         "33"
        ],
        [
         "33",
         "2024-12-31",
         "34"
        ],
        [
         "34",
         "2024-12-31",
         "35"
        ],
        [
         "35",
         "2024-12-31",
         "36"
        ],
        [
         "36",
         "2024-12-31",
         "37"
        ],
        [
         "37",
         "2024-12-31",
         "38"
        ],
        [
         "38",
         "2024-12-31",
         "39"
        ],
        [
         "39",
         "2024-12-31",
         "40"
        ],
        [
         "40",
         "2024-12-31",
         "41"
        ],
        [
         "41",
         "2024-12-31",
         "42"
        ],
        [
         "42",
         "2024-12-31",
         "43"
        ],
        [
         "43",
         "2024-12-31",
         "44"
        ],
        [
         "44",
         "2024-12-31",
         "45"
        ],
        [
         "45",
         "2024-12-31",
         "46"
        ],
        [
         "46",
         "2024-12-31",
         "47"
        ],
        [
         "47",
         "2024-12-31",
         "48"
        ],
        [
         "48",
         "2024-12-31",
         "49"
        ],
        [
         "49",
         "2024-12-31",
         "50"
        ]
       ],
       "shape": {
        "columns": 2,
        "rows": 508977
       }
      },
      "text/html": [
       "<div>\n",
       "<style scoped>\n",
       "    .dataframe tbody tr th:only-of-type {\n",
       "        vertical-align: middle;\n",
       "    }\n",
       "\n",
       "    .dataframe tbody tr th {\n",
       "        vertical-align: top;\n",
       "    }\n",
       "\n",
       "    .dataframe thead th {\n",
       "        text-align: right;\n",
       "    }\n",
       "</style>\n",
       "<table border=\"1\" class=\"dataframe\">\n",
       "  <thead>\n",
       "    <tr style=\"text-align: right;\">\n",
       "      <th></th>\n",
       "      <th>Date</th>\n",
       "      <th>Daily_rank_2024</th>\n",
       "    </tr>\n",
       "  </thead>\n",
       "  <tbody>\n",
       "    <tr>\n",
       "      <th>0</th>\n",
       "      <td>2024-12-31</td>\n",
       "      <td>1</td>\n",
       "    </tr>\n",
       "    <tr>\n",
       "      <th>1</th>\n",
       "      <td>2024-12-31</td>\n",
       "      <td>2</td>\n",
       "    </tr>\n",
       "    <tr>\n",
       "      <th>2</th>\n",
       "      <td>2024-12-31</td>\n",
       "      <td>3</td>\n",
       "    </tr>\n",
       "    <tr>\n",
       "      <th>3</th>\n",
       "      <td>2024-12-31</td>\n",
       "      <td>4</td>\n",
       "    </tr>\n",
       "    <tr>\n",
       "      <th>4</th>\n",
       "      <td>2024-12-31</td>\n",
       "      <td>5</td>\n",
       "    </tr>\n",
       "    <tr>\n",
       "      <th>...</th>\n",
       "      <td>...</td>\n",
       "      <td>...</td>\n",
       "    </tr>\n",
       "    <tr>\n",
       "      <th>508972</th>\n",
       "      <td>2024-01-01</td>\n",
       "      <td>46</td>\n",
       "    </tr>\n",
       "    <tr>\n",
       "      <th>508973</th>\n",
       "      <td>2024-01-01</td>\n",
       "      <td>47</td>\n",
       "    </tr>\n",
       "    <tr>\n",
       "      <th>508974</th>\n",
       "      <td>2024-01-01</td>\n",
       "      <td>48</td>\n",
       "    </tr>\n",
       "    <tr>\n",
       "      <th>508975</th>\n",
       "      <td>2024-01-01</td>\n",
       "      <td>49</td>\n",
       "    </tr>\n",
       "    <tr>\n",
       "      <th>508976</th>\n",
       "      <td>2024-01-01</td>\n",
       "      <td>50</td>\n",
       "    </tr>\n",
       "  </tbody>\n",
       "</table>\n",
       "<p>508977 rows × 2 columns</p>\n",
       "</div>"
      ],
      "text/plain": [
       "              Date  Daily_rank_2024\n",
       "0       2024-12-31                1\n",
       "1       2024-12-31                2\n",
       "2       2024-12-31                3\n",
       "3       2024-12-31                4\n",
       "4       2024-12-31                5\n",
       "...            ...              ...\n",
       "508972  2024-01-01               46\n",
       "508973  2024-01-01               47\n",
       "508974  2024-01-01               48\n",
       "508975  2024-01-01               49\n",
       "508976  2024-01-01               50\n",
       "\n",
       "[508977 rows x 2 columns]"
      ]
     },
     "execution_count": 169,
     "metadata": {},
     "output_type": "execute_result"
    }
   ],
   "source": [
    "Rank_2024= spotify_Jessica[['Date', 'Daily_rank_2024']]\n",
    "Rank_2024.drop_duplicates\n",
    "Rank_2024=pd.DataFrame(Rank_2024)\n",
    "Rank_2024.to_csv(\"../data/clean/Rank_2024.csv\", index=False, encoding='utf-8')\n",
    "Rank_2024"
   ]
  },
  {
   "cell_type": "code",
   "execution_count": 24,
   "id": "bb896ca6",
   "metadata": {},
   "outputs": [
    {
     "data": {
      "application/vnd.microsoft.datawrangler.viewer.v0+json": {
       "columns": [
        {
         "name": "index",
         "rawType": "int64",
         "type": "integer"
        },
        {
         "name": "Spotify_id",
         "rawType": "object",
         "type": "string"
        }
       ],
       "ref": "b0bf6724-6ba5-4bc7-b084-acda6f1e8dff",
       "rows": [
        [
         "0",
         "https://open.spotify.com/track/7CuxOoQMEaiSXIGwJJkQHW"
        ],
        [
         "1",
         "https://open.spotify.com/track/05vZtu5obzMiZdreJK7HH3"
        ],
        [
         "2",
         "https://open.spotify.com/track/4MQmxIxM5CXKjdq4IrCWhd"
        ],
        [
         "3",
         "https://open.spotify.com/track/61BaxM1NIcadLu3gtWm2uT"
        ],
        [
         "4",
         "https://open.spotify.com/track/1ZbtwhtxORZcaSh5VKjeXJ"
        ],
        [
         "5",
         "https://open.spotify.com/track/3nNKws5aNnTa3tgQOIS5Sk"
        ],
        [
         "6",
         "https://open.spotify.com/track/6zECxDYlNtEybq8hZ9Tp12"
        ],
        [
         "7",
         "https://open.spotify.com/track/2FRnf9qhLbvw8fu4IBXx78"
        ],
        [
         "8",
         "https://open.spotify.com/track/0wpkj8A7T1CjIul0XQtkqK"
        ],
        [
         "9",
         "https://open.spotify.com/track/7Bz3CO5CyU4GAPke4UNPhc"
        ],
        [
         "10",
         "https://open.spotify.com/track/11gTRcdz4wK32fghA2vrX7"
        ],
        [
         "11",
         "https://open.spotify.com/track/23cpg22rXsND2u3ElYxQdj"
        ],
        [
         "12",
         "https://open.spotify.com/track/2k1bI9pRGnUQZWhr3NmJBx"
        ],
        [
         "13",
         "https://open.spotify.com/track/0bYg9bo50gSsH3LtXe2SQn"
        ],
        [
         "14",
         "https://open.spotify.com/track/2ZwNgWo1U0PLbzFCYMNPTW"
        ],
        [
         "15",
         "https://open.spotify.com/track/46aZJc0z1HHHSFxaIRxYSP"
        ],
        [
         "16",
         "https://open.spotify.com/track/12LGZ1axDaBCZGDlvZ9Hnl"
        ],
        [
         "17",
         "https://open.spotify.com/track/2plbrEY59IikOBgBGLjaoe"
        ],
        [
         "18",
         "https://open.spotify.com/track/0xS08Lk8uNc84YCx1cJtHV"
        ],
        [
         "19",
         "https://open.spotify.com/track/4wJ5Qq0jBN4ajy7ouZIV1c"
        ],
        [
         "20",
         "https://open.spotify.com/track/4GNVBarJ82ABAYZyPYwinT"
        ],
        [
         "21",
         "https://open.spotify.com/track/6bCLkzoE3agC7Ws9NxVxIn"
        ],
        [
         "22",
         "https://open.spotify.com/track/0vByMmR3Y8MBorEEE5Pmie"
        ],
        [
         "23",
         "https://open.spotify.com/track/4UVOeu9J9wxIl9hFnyoUdg"
        ],
        [
         "24",
         "https://open.spotify.com/track/75LJxqoSy5MSM2xCFzQp8F"
        ],
        [
         "25",
         "https://open.spotify.com/track/6LP6fWSZmvXcd27Yv2pz9u"
        ],
        [
         "26",
         "https://open.spotify.com/track/3JG1uFc40wfyrqaWC7iv0e"
        ],
        [
         "27",
         "https://open.spotify.com/track/3IuQWB6BsGFc55IOCOGzBK"
        ],
        [
         "28",
         "https://open.spotify.com/track/12TC6zACzfx6ey8ZAP6R3y"
        ],
        [
         "29",
         "https://open.spotify.com/track/7bBZdL9ZTDKbNN7J1Alla4"
        ],
        [
         "30",
         "https://open.spotify.com/track/2CKbBBLXXWqTopO1vvS8y1"
        ],
        [
         "31",
         "https://open.spotify.com/track/5UW6yvwo3nVA609NgprdhK"
        ],
        [
         "32",
         "https://open.spotify.com/track/7vQbuQcyTflfCIOu3Uzzya"
        ],
        [
         "33",
         "https://open.spotify.com/track/7biChppM3c8q7qcVl7ceb2"
        ],
        [
         "34",
         "https://open.spotify.com/track/2EjXfH91m7f8HiJN1yQg97"
        ],
        [
         "35",
         "https://open.spotify.com/track/2LwsunYgfRoqyIsNtgOCQx"
        ],
        [
         "36",
         "https://open.spotify.com/track/1YeQGpxrQvp6Yg3K6SIgho"
        ],
        [
         "37",
         "https://open.spotify.com/track/32lug6ypOsehYy8pdAmlpu"
        ],
        [
         "38",
         "https://open.spotify.com/track/7ojBwkKhmZzXDjrqwfLH26"
        ],
        [
         "39",
         "https://open.spotify.com/track/2xEFfGz4j5UpL2FNEhVI81"
        ],
        [
         "40",
         "https://open.spotify.com/track/1GaJ8rxMQPzCfdZeMGH82G"
        ],
        [
         "41",
         "https://open.spotify.com/track/2bqS0QtnXGjOYs3z6VtSyW"
        ],
        [
         "42",
         "https://open.spotify.com/track/1wC8M93ofAwfrV9a4mDzYa"
        ],
        [
         "43",
         "https://open.spotify.com/track/0IsIY8pfu1yaGkPUD7pkDx"
        ],
        [
         "44",
         "https://open.spotify.com/track/6ocGHyVybEbqo3zeJkn1H3"
        ],
        [
         "45",
         "https://open.spotify.com/track/2qGURS7y8zM7STkxOLgnWO"
        ],
        [
         "46",
         "https://open.spotify.com/track/4GBfKfnvmcTcNrlJcV4OLV"
        ],
        [
         "47",
         "https://open.spotify.com/track/1GpsHzQa7FEHInzmtALUk9"
        ],
        [
         "48",
         "https://open.spotify.com/track/1lx65Q3Vfy8NsfaA5DXUcJ"
        ],
        [
         "49",
         "https://open.spotify.com/track/1jvbTfTwq3BCz0MPJA0eCo"
        ]
       ],
       "shape": {
        "columns": 1,
        "rows": 9423
       }
      },
      "text/html": [
       "<div>\n",
       "<style scoped>\n",
       "    .dataframe tbody tr th:only-of-type {\n",
       "        vertical-align: middle;\n",
       "    }\n",
       "\n",
       "    .dataframe tbody tr th {\n",
       "        vertical-align: top;\n",
       "    }\n",
       "\n",
       "    .dataframe thead th {\n",
       "        text-align: right;\n",
       "    }\n",
       "</style>\n",
       "<table border=\"1\" class=\"dataframe\">\n",
       "  <thead>\n",
       "    <tr style=\"text-align: right;\">\n",
       "      <th></th>\n",
       "      <th>Spotify_id</th>\n",
       "    </tr>\n",
       "  </thead>\n",
       "  <tbody>\n",
       "    <tr>\n",
       "      <th>0</th>\n",
       "      <td>https://open.spotify.com/track/7CuxOoQMEaiSXIG...</td>\n",
       "    </tr>\n",
       "    <tr>\n",
       "      <th>1</th>\n",
       "      <td>https://open.spotify.com/track/05vZtu5obzMiZdr...</td>\n",
       "    </tr>\n",
       "    <tr>\n",
       "      <th>2</th>\n",
       "      <td>https://open.spotify.com/track/4MQmxIxM5CXKjdq...</td>\n",
       "    </tr>\n",
       "    <tr>\n",
       "      <th>3</th>\n",
       "      <td>https://open.spotify.com/track/61BaxM1NIcadLu3...</td>\n",
       "    </tr>\n",
       "    <tr>\n",
       "      <th>4</th>\n",
       "      <td>https://open.spotify.com/track/1ZbtwhtxORZcaSh...</td>\n",
       "    </tr>\n",
       "    <tr>\n",
       "      <th>...</th>\n",
       "      <td>...</td>\n",
       "    </tr>\n",
       "    <tr>\n",
       "      <th>508626</th>\n",
       "      <td>https://open.spotify.com/track/2hFdRvBjl6eWf0t...</td>\n",
       "    </tr>\n",
       "    <tr>\n",
       "      <th>508669</th>\n",
       "      <td>https://open.spotify.com/track/3jsgs0wmCwbxYBf...</td>\n",
       "    </tr>\n",
       "    <tr>\n",
       "      <th>508673</th>\n",
       "      <td>https://open.spotify.com/track/02VNbURaEjAUZ8L...</td>\n",
       "    </tr>\n",
       "    <tr>\n",
       "      <th>508722</th>\n",
       "      <td>https://open.spotify.com/track/4AT4gbJTn5qUSBn...</td>\n",
       "    </tr>\n",
       "    <tr>\n",
       "      <th>508875</th>\n",
       "      <td>https://open.spotify.com/track/6fDWIHsi9yw805O...</td>\n",
       "    </tr>\n",
       "  </tbody>\n",
       "</table>\n",
       "<p>9423 rows × 1 columns</p>\n",
       "</div>"
      ],
      "text/plain": [
       "                                               Spotify_id\n",
       "0       https://open.spotify.com/track/7CuxOoQMEaiSXIG...\n",
       "1       https://open.spotify.com/track/05vZtu5obzMiZdr...\n",
       "2       https://open.spotify.com/track/4MQmxIxM5CXKjdq...\n",
       "3       https://open.spotify.com/track/61BaxM1NIcadLu3...\n",
       "4       https://open.spotify.com/track/1ZbtwhtxORZcaSh...\n",
       "...                                                   ...\n",
       "508626  https://open.spotify.com/track/2hFdRvBjl6eWf0t...\n",
       "508669  https://open.spotify.com/track/3jsgs0wmCwbxYBf...\n",
       "508673  https://open.spotify.com/track/02VNbURaEjAUZ8L...\n",
       "508722  https://open.spotify.com/track/4AT4gbJTn5qUSBn...\n",
       "508875  https://open.spotify.com/track/6fDWIHsi9yw805O...\n",
       "\n",
       "[9423 rows x 1 columns]"
      ]
     },
     "execution_count": 24,
     "metadata": {},
     "output_type": "execute_result"
    }
   ],
   "source": [
    "Rank_2024_to_song= spotify_Jessica['Spotify_id']\n",
    "Rank_2024_to_song2= Rank_2024_to_song.drop_duplicates()\n",
    "Rank_2024_to_song=pd.DataFrame(Rank_2024_to_song2)\n",
    "Rank_2024_to_song.to_csv(\"../data/clean/Rank_2024_to_song.csv\", index=False, encoding='utf-8')\n",
    "Rank_2024_to_song"
   ]
  }
 ],
 "metadata": {
  "kernelspec": {
   "display_name": "mid_project",
   "language": "python",
   "name": "python3"
  },
  "language_info": {
   "codemirror_mode": {
    "name": "ipython",
    "version": 3
   },
   "file_extension": ".py",
   "mimetype": "text/x-python",
   "name": "python",
   "nbconvert_exporter": "python",
   "pygments_lexer": "ipython3",
   "version": "3.12.7"
  }
 },
 "nbformat": 4,
 "nbformat_minor": 5
}
