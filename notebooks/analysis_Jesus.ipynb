{
 "cells": [
  {
   "cell_type": "code",
   "execution_count": 2,
   "id": "bf57ad79",
   "metadata": {},
   "outputs": [],
   "source": [
    "import pandas as pd\n",
    "_24=pd.read_csv('../data/clean/spotify_European_top50_2024.csv')\n",
    "_21=pd.read_csv('../data/clean/spotify_European_top50_2021.csv')"
   ]
  },
  {
   "cell_type": "code",
   "execution_count": 8,
   "id": "65270ac7",
   "metadata": {},
   "outputs": [
    {
     "data": {
      "application/vnd.microsoft.datawrangler.viewer.v0+json": {
       "columns": [
        {
         "name": "index",
         "rawType": "int64",
         "type": "integer"
        },
        {
         "name": "Country",
         "rawType": "object",
         "type": "string"
        },
        {
         "name": "Spotify_id",
         "rawType": "object",
         "type": "string"
        },
        {
         "name": "Song_title",
         "rawType": "object",
         "type": "string"
        },
        {
         "name": "Artist",
         "rawType": "object",
         "type": "string"
        },
        {
         "name": "Date",
         "rawType": "object",
         "type": "string"
        },
        {
         "name": "Daily_rank_2021",
         "rawType": "int64",
         "type": "integer"
        }
       ],
       "ref": "209badfe-5755-4fba-b98b-f1c43de9d1de",
       "rows": [
        [
         "0",
         "Spain",
         "https://open.spotify.com/track/4bF2y8rR7GUjrd5LNEvej3",
         "París",
         "Ingratax",
         "2021-09-10",
         "27"
        ],
        [
         "1",
         "Iceland",
         "https://open.spotify.com/track/5Z9KJZvQzH6PFmb8SNkxuk",
         "INDUSTRY BABY (feat. Jack Harlow)",
         "Lil Nas X",
         "2021-09-18",
         "1"
        ],
        [
         "2",
         "Iceland",
         "https://open.spotify.com/track/5PjdY0CKGZdEuoNab3yDmX",
         "STAY (with Justin Bieber)",
         "The Kid LAROI",
         "2021-09-18",
         "2"
        ],
        [
         "3",
         "Iceland",
         "https://open.spotify.com/track/0RbW8kWozrVSIGb4V13o0o",
         "Hurricane",
         "Kanye West",
         "2021-09-18",
         "3"
        ],
        [
         "4",
         "Iceland",
         "https://open.spotify.com/track/6PQ88X9TkUIAUIZJHW2upE",
         "Bad Habits",
         "Ed Sheeran",
         "2021-09-18",
         "4"
        ]
       ],
       "shape": {
        "columns": 6,
        "rows": 5
       }
      },
      "text/html": [
       "<div>\n",
       "<style scoped>\n",
       "    .dataframe tbody tr th:only-of-type {\n",
       "        vertical-align: middle;\n",
       "    }\n",
       "\n",
       "    .dataframe tbody tr th {\n",
       "        vertical-align: top;\n",
       "    }\n",
       "\n",
       "    .dataframe thead th {\n",
       "        text-align: right;\n",
       "    }\n",
       "</style>\n",
       "<table border=\"1\" class=\"dataframe\">\n",
       "  <thead>\n",
       "    <tr style=\"text-align: right;\">\n",
       "      <th></th>\n",
       "      <th>Country</th>\n",
       "      <th>Spotify_id</th>\n",
       "      <th>Song_title</th>\n",
       "      <th>Artist</th>\n",
       "      <th>Date</th>\n",
       "      <th>Daily_rank_2021</th>\n",
       "    </tr>\n",
       "  </thead>\n",
       "  <tbody>\n",
       "    <tr>\n",
       "      <th>0</th>\n",
       "      <td>Spain</td>\n",
       "      <td>https://open.spotify.com/track/4bF2y8rR7GUjrd5...</td>\n",
       "      <td>París</td>\n",
       "      <td>Ingratax</td>\n",
       "      <td>2021-09-10</td>\n",
       "      <td>27</td>\n",
       "    </tr>\n",
       "    <tr>\n",
       "      <th>1</th>\n",
       "      <td>Iceland</td>\n",
       "      <td>https://open.spotify.com/track/5Z9KJZvQzH6PFmb...</td>\n",
       "      <td>INDUSTRY BABY (feat. Jack Harlow)</td>\n",
       "      <td>Lil Nas X</td>\n",
       "      <td>2021-09-18</td>\n",
       "      <td>1</td>\n",
       "    </tr>\n",
       "    <tr>\n",
       "      <th>2</th>\n",
       "      <td>Iceland</td>\n",
       "      <td>https://open.spotify.com/track/5PjdY0CKGZdEuoN...</td>\n",
       "      <td>STAY (with Justin Bieber)</td>\n",
       "      <td>The Kid LAROI</td>\n",
       "      <td>2021-09-18</td>\n",
       "      <td>2</td>\n",
       "    </tr>\n",
       "    <tr>\n",
       "      <th>3</th>\n",
       "      <td>Iceland</td>\n",
       "      <td>https://open.spotify.com/track/0RbW8kWozrVSIGb...</td>\n",
       "      <td>Hurricane</td>\n",
       "      <td>Kanye West</td>\n",
       "      <td>2021-09-18</td>\n",
       "      <td>3</td>\n",
       "    </tr>\n",
       "    <tr>\n",
       "      <th>4</th>\n",
       "      <td>Iceland</td>\n",
       "      <td>https://open.spotify.com/track/6PQ88X9TkUIAUIZ...</td>\n",
       "      <td>Bad Habits</td>\n",
       "      <td>Ed Sheeran</td>\n",
       "      <td>2021-09-18</td>\n",
       "      <td>4</td>\n",
       "    </tr>\n",
       "  </tbody>\n",
       "</table>\n",
       "</div>"
      ],
      "text/plain": [
       "   Country                                         Spotify_id  \\\n",
       "0    Spain  https://open.spotify.com/track/4bF2y8rR7GUjrd5...   \n",
       "1  Iceland  https://open.spotify.com/track/5Z9KJZvQzH6PFmb...   \n",
       "2  Iceland  https://open.spotify.com/track/5PjdY0CKGZdEuoN...   \n",
       "3  Iceland  https://open.spotify.com/track/0RbW8kWozrVSIGb...   \n",
       "4  Iceland  https://open.spotify.com/track/6PQ88X9TkUIAUIZ...   \n",
       "\n",
       "                          Song_title         Artist        Date  \\\n",
       "0                              París       Ingratax  2021-09-10   \n",
       "1  INDUSTRY BABY (feat. Jack Harlow)      Lil Nas X  2021-09-18   \n",
       "2          STAY (with Justin Bieber)  The Kid LAROI  2021-09-18   \n",
       "3                          Hurricane     Kanye West  2021-09-18   \n",
       "4                         Bad Habits     Ed Sheeran  2021-09-18   \n",
       "\n",
       "   Daily_rank_2021  \n",
       "0               27  \n",
       "1                1  \n",
       "2                2  \n",
       "3                3  \n",
       "4                4  "
      ]
     },
     "execution_count": 8,
     "metadata": {},
     "output_type": "execute_result"
    }
   ],
   "source": [
    "_21.head()"
   ]
  },
  {
   "cell_type": "markdown",
   "id": "12cac95e",
   "metadata": {},
   "source": [
    "Searching for top artist in 2021 and finding Billie Eilish ranking 13#"
   ]
  },
  {
   "cell_type": "code",
   "execution_count": 3,
   "id": "5203058e",
   "metadata": {},
   "outputs": [
    {
     "data": {
      "application/vnd.microsoft.datawrangler.viewer.v0+json": {
       "columns": [
        {
         "name": "Artist",
         "rawType": "object",
         "type": "string"
        },
        {
         "name": "count",
         "rawType": "int64",
         "type": "integer"
        }
       ],
       "ref": "6facccdd-041e-4fa1-b3be-77739cdbefd0",
       "rows": [
        [
         "Maneskin",
         "27553"
        ],
        [
         "Olivia Rodrigo",
         "15806"
        ],
        [
         "Doja Cat",
         "14873"
        ],
        [
         "The Weeknd",
         "14793"
        ],
        [
         "Lil Nas X",
         "14674"
        ],
        [
         "The Kid LAROI",
         "9897"
        ],
        [
         "Ed Sheeran",
         "9790"
        ],
        [
         "Justin Bieber",
         "8950"
        ],
        [
         "Riton, Nightcrawlers",
         "8505"
        ],
        [
         "Masked Wolf",
         "8088"
        ],
        [
         "Shouse",
         "7869"
        ],
        [
         "Dua Lipa",
         "7134"
        ],
        [
         "Billie Eilish",
         "6384"
        ],
        [
         "Tiesto",
         "6276"
        ],
        [
         "Nathan Evans",
         "5922"
        ]
       ],
       "shape": {
        "columns": 1,
        "rows": 15
       }
      },
      "text/plain": [
       "Artist\n",
       "Maneskin                27553\n",
       "Olivia Rodrigo          15806\n",
       "Doja Cat                14873\n",
       "The Weeknd              14793\n",
       "Lil Nas X               14674\n",
       "The Kid LAROI            9897\n",
       "Ed Sheeran               9790\n",
       "Justin Bieber            8950\n",
       "Riton, Nightcrawlers     8505\n",
       "Masked Wolf              8088\n",
       "Shouse                   7869\n",
       "Dua Lipa                 7134\n",
       "Billie Eilish            6384\n",
       "Tiesto                   6276\n",
       "Nathan Evans             5922\n",
       "Name: count, dtype: int64"
      ]
     },
     "metadata": {},
     "output_type": "display_data"
    }
   ],
   "source": [
    "artist=_21['Artist'].value_counts().head(15) \n",
    "display(artist)"
   ]
  },
  {
   "cell_type": "markdown",
   "id": "b5f24473",
   "metadata": {},
   "source": [
    "Searching for top artist in 2021 and finding Billie Eilish ranking 1#"
   ]
  },
  {
   "cell_type": "code",
   "execution_count": null,
   "id": "7396f6d4",
   "metadata": {},
   "outputs": [
    {
     "data": {
      "application/vnd.microsoft.datawrangler.viewer.v0+json": {
       "columns": [
        {
         "name": "Artist",
         "rawType": "object",
         "type": "string"
        },
        {
         "name": "count",
         "rawType": "int64",
         "type": "integer"
        }
       ],
       "ref": "dcfbab30-a0c2-4346-9731-21f021c4c8fe",
       "rows": [
        [
         "Billie Eilish",
         "11659"
        ],
        [
         "Sabrina Carpenter",
         "10561"
        ],
        [
         "Benson Boone",
         "8259"
        ],
        [
         "Teddy Swims",
         "7895"
        ],
        [
         "Artemas",
         "6018"
        ],
        [
         "Hozier",
         "4897"
        ],
        [
         "Hafdís Huld",
         "4580"
        ],
        [
         "Linkin Park",
         "3945"
        ],
        [
         "Tate McRae",
         "3679"
        ],
        [
         "Taylor Swift",
         "3662"
        ],
        [
         "Dua Lipa",
         "3557"
        ],
        [
         "cassö, RAYE, D-Block Europe",
         "3459"
        ],
        [
         "Ariana Grande",
         "3430"
        ],
        [
         "Chappell Roan",
         "3369"
        ],
        [
         "Lady Gaga, Bruno Mars",
         "3228"
        ],
        [
         "FloyyMenor, Cris Mj",
         "3224"
        ],
        [
         "Travis Scott, Playboi Carti",
         "3203"
        ],
        [
         "Mark Ambor",
         "3053"
        ],
        [
         "Kendrick Lamar",
         "3000"
        ],
        [
         "Shaboozey",
         "2931"
        ],
        [
         "Lord Huron",
         "2766"
        ],
        [
         "Djo",
         "2733"
        ],
        [
         "Dasha",
         "2680"
        ],
        [
         "Natasha Bedingfield",
         "2617"
        ],
        [
         "Myles Smith",
         "2574"
        ],
        [
         "CYRIL",
         "2569"
        ],
        [
         "Eminem",
         "2566"
        ],
        [
         "David Guetta, OneRepublic",
         "2518"
        ],
        [
         "Adam Port, Stryv, Keinemusik, Orso, Malachiii",
         "2481"
        ],
        [
         "Tommy Richman",
         "2377"
        ],
        [
         "Jaxomy, Agatino Romero, Raffaella Carrà",
         "2318"
        ],
        [
         "Ofenbach, Norma Jean Martine",
         "2298"
        ],
        [
         "Disturbed, CYRIL",
         "2288"
        ],
        [
         "Gigi Perez",
         "2074"
        ],
        [
         "Tom Odell",
         "1981"
        ],
        [
         "Gracie Abrams",
         "1973"
        ],
        [
         "Jimin",
         "1889"
        ],
        [
         "Dimitri Vegas & Like Mike, Tiësto, Dido, W&W, Dimitri Vegas, Like Mike",
         "1887"
        ],
        [
         "Jessica Shy",
         "1876"
        ],
        [
         "Beyoncé",
         "1845"
        ],
        [
         "Noah Kahan",
         "1796"
        ],
        [
         "BENNETT",
         "1791"
        ],
        [
         "Sevdaliza, Pabllo Vittar, Yseult",
         "1775"
        ],
        [
         "Jack Harlow",
         "1743"
        ],
        [
         "Kenya Grace",
         "1729"
        ],
        [
         "Azahriah",
         "1687"
        ],
        [
         "Charli xcx, Billie Eilish",
         "1650"
        ],
        [
         "The Weeknd, Playboi Carti",
         "1647"
        ],
        [
         "Coldplay",
         "1620"
        ],
        [
         "21 Savage",
         "1583"
        ]
       ],
       "shape": {
        "columns": 1,
        "rows": 100
       }
      },
      "text/plain": [
       "Artist\n",
       "Billie Eilish                           11659\n",
       "Sabrina Carpenter                       10561\n",
       "Benson Boone                             8259\n",
       "Teddy Swims                              7895\n",
       "Artemas                                  6018\n",
       "                                        ...  \n",
       "Wham!                                     913\n",
       "Future, Metro Boomin, Kendrick Lamar      912\n",
       "Michael Bublé                             899\n",
       "KUUMAA                                    895\n",
       "SDM                                       888\n",
       "Name: count, Length: 100, dtype: int64"
      ]
     },
     "metadata": {},
     "output_type": "display_data"
    }
   ],
   "source": [
    "artist=_24['Artist'].value_counts().head(10)\n",
    "display(artist)"
   ]
  },
  {
   "cell_type": "markdown",
   "id": "cbdd3414",
   "metadata": {},
   "source": [
    "Top 5 Billie Eilish' songs in 2021"
   ]
  },
  {
   "cell_type": "code",
   "execution_count": 82,
   "id": "d04fbcc9",
   "metadata": {},
   "outputs": [
    {
     "data": {
      "application/vnd.microsoft.datawrangler.viewer.v0+json": {
       "columns": [
        {
         "name": "Song_title",
         "rawType": "object",
         "type": "string"
        },
        {
         "name": "count",
         "rawType": "int64",
         "type": "integer"
        }
       ],
       "ref": "95090032-40f9-4346-b904-440a7b2a0e3b",
       "rows": [
        [
         "Happier Than Ever",
         "2671"
        ],
        [
         "Therefore I Am",
         "1307"
        ],
        [
         "Your Power",
         "642"
        ],
        [
         "NDA",
         "519"
        ],
        [
         "Lost Cause",
         "327"
        ]
       ],
       "shape": {
        "columns": 1,
        "rows": 5
       }
      },
      "text/plain": [
       "Song_title\n",
       "Happier Than Ever    2671\n",
       "Therefore I Am       1307\n",
       "Your Power            642\n",
       "NDA                   519\n",
       "Lost Cause            327\n",
       "Name: count, dtype: int64"
      ]
     },
     "execution_count": 82,
     "metadata": {},
     "output_type": "execute_result"
    }
   ],
   "source": [
    "song=_21[_21['Artist']== \"Billie Eilish\"]\n",
    "song['Song_title'].value_counts().head(5)"
   ]
  },
  {
   "cell_type": "code",
   "execution_count": 63,
   "id": "e0ce2b4d",
   "metadata": {},
   "outputs": [
    {
     "data": {
      "application/vnd.microsoft.datawrangler.viewer.v0+json": {
       "columns": [
        {
         "name": "index",
         "rawType": "int64",
         "type": "integer"
        },
        {
         "name": "Country",
         "rawType": "object",
         "type": "string"
        },
        {
         "name": "Spotify_id",
         "rawType": "object",
         "type": "string"
        },
        {
         "name": "Song_title",
         "rawType": "object",
         "type": "string"
        },
        {
         "name": "Artist",
         "rawType": "object",
         "type": "string"
        },
        {
         "name": "Date",
         "rawType": "object",
         "type": "string"
        },
        {
         "name": "Daily_rank_2021",
         "rawType": "int64",
         "type": "integer"
        }
       ],
       "ref": "595adebb-ad61-40eb-aaa4-3c25dc5a7856",
       "rows": [
        [
         "125202",
         "Austria",
         "https://open.spotify.com/track/4RVwu0g32PAqgUiJoXsdF8",
         "Happier Than Ever",
         "Billie Eilish",
         "2021-07-30",
         "14"
        ],
        [
         "125249",
         "Belgium",
         "https://open.spotify.com/track/4RVwu0g32PAqgUiJoXsdF8",
         "Happier Than Ever",
         "Billie Eilish",
         "2021-07-30",
         "11"
        ],
        [
         "125647",
         "Bulgaria",
         "https://open.spotify.com/track/4RVwu0g32PAqgUiJoXsdF8",
         "Happier Than Ever",
         "Billie Eilish",
         "2021-07-30",
         "9"
        ],
        [
         "125962",
         "Czech Republic",
         "https://open.spotify.com/track/4RVwu0g32PAqgUiJoXsdF8",
         "Happier Than Ever",
         "Billie Eilish",
         "2021-07-30",
         "24"
        ],
        [
         "126014",
         "Denmark",
         "https://open.spotify.com/track/4RVwu0g32PAqgUiJoXsdF8",
         "Happier Than Ever",
         "Billie Eilish",
         "2021-07-30",
         "25"
        ],
        [
         "126444",
         "Estonia",
         "https://open.spotify.com/track/4RVwu0g32PAqgUiJoXsdF8",
         "Happier Than Ever",
         "Billie Eilish",
         "2021-07-30",
         "6"
        ],
        [
         "126499",
         "Finland",
         "https://open.spotify.com/track/4RVwu0g32PAqgUiJoXsdF8",
         "Happier Than Ever",
         "Billie Eilish",
         "2021-07-30",
         "11"
        ],
        [
         "127021",
         "Germany",
         "https://open.spotify.com/track/4RVwu0g32PAqgUiJoXsdF8",
         "Happier Than Ever",
         "Billie Eilish",
         "2021-07-30",
         "27"
        ],
        [
         "127202",
         "Greece",
         "https://open.spotify.com/track/4RVwu0g32PAqgUiJoXsdF8",
         "Happier Than Ever",
         "Billie Eilish",
         "2021-07-30",
         "14"
        ],
        [
         "127676",
         "Hungary",
         "https://open.spotify.com/track/4RVwu0g32PAqgUiJoXsdF8",
         "Happier Than Ever",
         "Billie Eilish",
         "2021-07-30",
         "23"
        ],
        [
         "127767",
         "Iceland",
         "https://open.spotify.com/track/4RVwu0g32PAqgUiJoXsdF8",
         "Happier Than Ever",
         "Billie Eilish",
         "2021-07-30",
         "14"
        ],
        [
         "127996",
         "Ireland",
         "https://open.spotify.com/track/4RVwu0g32PAqgUiJoXsdF8",
         "Happier Than Ever",
         "Billie Eilish",
         "2021-07-30",
         "8"
        ],
        [
         "128242",
         "Latvia",
         "https://open.spotify.com/track/4RVwu0g32PAqgUiJoXsdF8",
         "Happier Than Ever",
         "Billie Eilish",
         "2021-07-30",
         "4"
        ],
        [
         "128480",
         "Lithuania",
         "https://open.spotify.com/track/4RVwu0g32PAqgUiJoXsdF8",
         "Happier Than Ever",
         "Billie Eilish",
         "2021-07-30",
         "9"
        ],
        [
         "128910",
         "Netherlands",
         "https://open.spotify.com/track/4RVwu0g32PAqgUiJoXsdF8",
         "Happier Than Ever",
         "Billie Eilish",
         "2021-07-30",
         "22"
        ],
        [
         "129099",
         "Norway",
         "https://open.spotify.com/track/4RVwu0g32PAqgUiJoXsdF8",
         "Happier Than Ever",
         "Billie Eilish",
         "2021-07-30",
         "10"
        ],
        [
         "129365",
         "Poland",
         "https://open.spotify.com/track/4RVwu0g32PAqgUiJoXsdF8",
         "Happier Than Ever",
         "Billie Eilish",
         "2021-07-30",
         "31"
        ],
        [
         "130261",
         "Portugal",
         "https://open.spotify.com/track/4RVwu0g32PAqgUiJoXsdF8",
         "Happier Than Ever",
         "Billie Eilish",
         "2021-07-30",
         "10"
        ],
        [
         "130309",
         "Romania",
         "https://open.spotify.com/track/4RVwu0g32PAqgUiJoXsdF8",
         "Happier Than Ever",
         "Billie Eilish",
         "2021-07-30",
         "8"
        ],
        [
         "130908",
         "Slovakia",
         "https://open.spotify.com/track/4RVwu0g32PAqgUiJoXsdF8",
         "Happier Than Ever",
         "Billie Eilish",
         "2021-07-30",
         "19"
        ],
        [
         "131056",
         "Sweden",
         "https://open.spotify.com/track/4RVwu0g32PAqgUiJoXsdF8",
         "Happier Than Ever",
         "Billie Eilish",
         "2021-07-30",
         "17"
        ],
        [
         "131283",
         "Switzerland",
         "https://open.spotify.com/track/4RVwu0g32PAqgUiJoXsdF8",
         "Happier Than Ever",
         "Billie Eilish",
         "2021-07-30",
         "12"
        ],
        [
         "131444",
         "Ukraine",
         "https://open.spotify.com/track/4RVwu0g32PAqgUiJoXsdF8",
         "Happier Than Ever",
         "Billie Eilish",
         "2021-07-30",
         "23"
        ],
        [
         "131496",
         "United Kingdom",
         "https://open.spotify.com/track/4RVwu0g32PAqgUiJoXsdF8",
         "Happier Than Ever",
         "Billie Eilish",
         "2021-07-30",
         "7"
        ],
        [
         "133502",
         "Austria",
         "https://open.spotify.com/track/4RVwu0g32PAqgUiJoXsdF8",
         "Happier Than Ever",
         "Billie Eilish",
         "2021-07-31",
         "13"
        ],
        [
         "133550",
         "Belgium",
         "https://open.spotify.com/track/4RVwu0g32PAqgUiJoXsdF8",
         "Happier Than Ever",
         "Billie Eilish",
         "2021-07-31",
         "11"
        ],
        [
         "134249",
         "Bulgaria",
         "https://open.spotify.com/track/4RVwu0g32PAqgUiJoXsdF8",
         "Happier Than Ever",
         "Billie Eilish",
         "2021-07-31",
         "10"
        ],
        [
         "134712",
         "Czech Republic",
         "https://open.spotify.com/track/4RVwu0g32PAqgUiJoXsdF8",
         "Happier Than Ever",
         "Billie Eilish",
         "2021-07-31",
         "23"
        ],
        [
         "134957",
         "Denmark",
         "https://open.spotify.com/track/4RVwu0g32PAqgUiJoXsdF8",
         "Happier Than Ever",
         "Billie Eilish",
         "2021-07-31",
         "18"
        ],
        [
         "135448",
         "Estonia",
         "https://open.spotify.com/track/4RVwu0g32PAqgUiJoXsdF8",
         "Happier Than Ever",
         "Billie Eilish",
         "2021-07-31",
         "8"
        ],
        [
         "135501",
         "Finland",
         "https://open.spotify.com/track/4RVwu0g32PAqgUiJoXsdF8",
         "Happier Than Ever",
         "Billie Eilish",
         "2021-07-31",
         "11"
        ],
        [
         "135614",
         "Germany",
         "https://open.spotify.com/track/4RVwu0g32PAqgUiJoXsdF8",
         "Happier Than Ever",
         "Billie Eilish",
         "2021-07-31",
         "24"
        ],
        [
         "135656",
         "Greece",
         "https://open.spotify.com/track/4RVwu0g32PAqgUiJoXsdF8",
         "Happier Than Ever",
         "Billie Eilish",
         "2021-07-31",
         "16"
        ],
        [
         "137059",
         "Hungary",
         "https://open.spotify.com/track/4RVwu0g32PAqgUiJoXsdF8",
         "Happier Than Ever",
         "Billie Eilish",
         "2021-07-31",
         "20"
        ],
        [
         "137148",
         "Iceland",
         "https://open.spotify.com/track/4RVwu0g32PAqgUiJoXsdF8",
         "Happier Than Ever",
         "Billie Eilish",
         "2021-07-31",
         "9"
        ],
        [
         "137747",
         "Ireland",
         "https://open.spotify.com/track/4RVwu0g32PAqgUiJoXsdF8",
         "Happier Than Ever",
         "Billie Eilish",
         "2021-07-31",
         "8"
        ],
        [
         "137844",
         "Latvia",
         "https://open.spotify.com/track/4RVwu0g32PAqgUiJoXsdF8",
         "Happier Than Ever",
         "Billie Eilish",
         "2021-07-31",
         "5"
        ],
        [
         "137898",
         "Lithuania",
         "https://open.spotify.com/track/4RVwu0g32PAqgUiJoXsdF8",
         "Happier Than Ever",
         "Billie Eilish",
         "2021-07-31",
         "9"
        ],
        [
         "138347",
         "Netherlands",
         "https://open.spotify.com/track/4RVwu0g32PAqgUiJoXsdF8",
         "Happier Than Ever",
         "Billie Eilish",
         "2021-07-31",
         "24"
        ],
        [
         "138647",
         "Norway",
         "https://open.spotify.com/track/4RVwu0g32PAqgUiJoXsdF8",
         "Happier Than Ever",
         "Billie Eilish",
         "2021-07-31",
         "8"
        ],
        [
         "139221",
         "Poland",
         "https://open.spotify.com/track/4RVwu0g32PAqgUiJoXsdF8",
         "Happier Than Ever",
         "Billie Eilish",
         "2021-07-31",
         "32"
        ],
        [
         "139251",
         "Portugal",
         "https://open.spotify.com/track/4RVwu0g32PAqgUiJoXsdF8",
         "Happier Than Ever",
         "Billie Eilish",
         "2021-07-31",
         "12"
        ],
        [
         "139556",
         "Romania",
         "https://open.spotify.com/track/4RVwu0g32PAqgUiJoXsdF8",
         "Happier Than Ever",
         "Billie Eilish",
         "2021-07-31",
         "9"
        ],
        [
         "140809",
         "Slovakia",
         "https://open.spotify.com/track/4RVwu0g32PAqgUiJoXsdF8",
         "Happier Than Ever",
         "Billie Eilish",
         "2021-07-31",
         "19"
        ],
        [
         "141407",
         "Sweden",
         "https://open.spotify.com/track/4RVwu0g32PAqgUiJoXsdF8",
         "Happier Than Ever",
         "Billie Eilish",
         "2021-07-31",
         "18"
        ],
        [
         "141451",
         "Switzerland",
         "https://open.spotify.com/track/4RVwu0g32PAqgUiJoXsdF8",
         "Happier Than Ever",
         "Billie Eilish",
         "2021-07-31",
         "12"
        ],
        [
         "141771",
         "Ukraine",
         "https://open.spotify.com/track/4RVwu0g32PAqgUiJoXsdF8",
         "Happier Than Ever",
         "Billie Eilish",
         "2021-07-31",
         "30"
        ],
        [
         "142349",
         "United Kingdom",
         "https://open.spotify.com/track/4RVwu0g32PAqgUiJoXsdF8",
         "Happier Than Ever",
         "Billie Eilish",
         "2021-07-31",
         "8"
        ],
        [
         "287150",
         "Austria",
         "https://open.spotify.com/track/4RVwu0g32PAqgUiJoXsdF8",
         "Happier Than Ever",
         "Billie Eilish",
         "2021-08-01",
         "10"
        ],
        [
         "287200",
         "Belgium",
         "https://open.spotify.com/track/4RVwu0g32PAqgUiJoXsdF8",
         "Happier Than Ever",
         "Billie Eilish",
         "2021-08-01",
         "10"
        ]
       ],
       "shape": {
        "columns": 6,
        "rows": 2882
       }
      },
      "text/html": [
       "<div>\n",
       "<style scoped>\n",
       "    .dataframe tbody tr th:only-of-type {\n",
       "        vertical-align: middle;\n",
       "    }\n",
       "\n",
       "    .dataframe tbody tr th {\n",
       "        vertical-align: top;\n",
       "    }\n",
       "\n",
       "    .dataframe thead th {\n",
       "        text-align: right;\n",
       "    }\n",
       "</style>\n",
       "<table border=\"1\" class=\"dataframe\">\n",
       "  <thead>\n",
       "    <tr style=\"text-align: right;\">\n",
       "      <th></th>\n",
       "      <th>Country</th>\n",
       "      <th>Spotify_id</th>\n",
       "      <th>Song_title</th>\n",
       "      <th>Artist</th>\n",
       "      <th>Date</th>\n",
       "      <th>Daily_rank_2021</th>\n",
       "    </tr>\n",
       "  </thead>\n",
       "  <tbody>\n",
       "    <tr>\n",
       "      <th>125202</th>\n",
       "      <td>Austria</td>\n",
       "      <td>https://open.spotify.com/track/4RVwu0g32PAqgUi...</td>\n",
       "      <td>Happier Than Ever</td>\n",
       "      <td>Billie Eilish</td>\n",
       "      <td>2021-07-30</td>\n",
       "      <td>14</td>\n",
       "    </tr>\n",
       "    <tr>\n",
       "      <th>125249</th>\n",
       "      <td>Belgium</td>\n",
       "      <td>https://open.spotify.com/track/4RVwu0g32PAqgUi...</td>\n",
       "      <td>Happier Than Ever</td>\n",
       "      <td>Billie Eilish</td>\n",
       "      <td>2021-07-30</td>\n",
       "      <td>11</td>\n",
       "    </tr>\n",
       "    <tr>\n",
       "      <th>125647</th>\n",
       "      <td>Bulgaria</td>\n",
       "      <td>https://open.spotify.com/track/4RVwu0g32PAqgUi...</td>\n",
       "      <td>Happier Than Ever</td>\n",
       "      <td>Billie Eilish</td>\n",
       "      <td>2021-07-30</td>\n",
       "      <td>9</td>\n",
       "    </tr>\n",
       "    <tr>\n",
       "      <th>125962</th>\n",
       "      <td>Czech Republic</td>\n",
       "      <td>https://open.spotify.com/track/4RVwu0g32PAqgUi...</td>\n",
       "      <td>Happier Than Ever</td>\n",
       "      <td>Billie Eilish</td>\n",
       "      <td>2021-07-30</td>\n",
       "      <td>24</td>\n",
       "    </tr>\n",
       "    <tr>\n",
       "      <th>126014</th>\n",
       "      <td>Denmark</td>\n",
       "      <td>https://open.spotify.com/track/4RVwu0g32PAqgUi...</td>\n",
       "      <td>Happier Than Ever</td>\n",
       "      <td>Billie Eilish</td>\n",
       "      <td>2021-07-30</td>\n",
       "      <td>25</td>\n",
       "    </tr>\n",
       "    <tr>\n",
       "      <th>...</th>\n",
       "      <td>...</td>\n",
       "      <td>...</td>\n",
       "      <td>...</td>\n",
       "      <td>...</td>\n",
       "      <td>...</td>\n",
       "      <td>...</td>\n",
       "    </tr>\n",
       "    <tr>\n",
       "      <th>843318</th>\n",
       "      <td>Romania</td>\n",
       "      <td>https://open.spotify.com/track/4RVwu0g32PAqgUi...</td>\n",
       "      <td>Happier Than Ever</td>\n",
       "      <td>Billie Eilish</td>\n",
       "      <td>2021-08-31</td>\n",
       "      <td>20</td>\n",
       "    </tr>\n",
       "    <tr>\n",
       "      <th>843364</th>\n",
       "      <td>Slovakia</td>\n",
       "      <td>https://open.spotify.com/track/4RVwu0g32PAqgUi...</td>\n",
       "      <td>Happier Than Ever</td>\n",
       "      <td>Billie Eilish</td>\n",
       "      <td>2021-08-31</td>\n",
       "      <td>16</td>\n",
       "    </tr>\n",
       "    <tr>\n",
       "      <th>843429</th>\n",
       "      <td>Spain</td>\n",
       "      <td>https://open.spotify.com/track/4RVwu0g32PAqgUi...</td>\n",
       "      <td>Happier Than Ever</td>\n",
       "      <td>Billie Eilish</td>\n",
       "      <td>2021-08-31</td>\n",
       "      <td>31</td>\n",
       "    </tr>\n",
       "    <tr>\n",
       "      <th>843502</th>\n",
       "      <td>Sweden</td>\n",
       "      <td>https://open.spotify.com/track/4RVwu0g32PAqgUi...</td>\n",
       "      <td>Happier Than Ever</td>\n",
       "      <td>Billie Eilish</td>\n",
       "      <td>2021-08-31</td>\n",
       "      <td>46</td>\n",
       "    </tr>\n",
       "    <tr>\n",
       "      <th>847852</th>\n",
       "      <td>United Kingdom</td>\n",
       "      <td>https://open.spotify.com/track/4RVwu0g32PAqgUi...</td>\n",
       "      <td>Happier Than Ever</td>\n",
       "      <td>Billie Eilish</td>\n",
       "      <td>2021-08-31</td>\n",
       "      <td>26</td>\n",
       "    </tr>\n",
       "  </tbody>\n",
       "</table>\n",
       "<p>2882 rows × 6 columns</p>\n",
       "</div>"
      ],
      "text/plain": [
       "               Country                                         Spotify_id  \\\n",
       "125202         Austria  https://open.spotify.com/track/4RVwu0g32PAqgUi...   \n",
       "125249         Belgium  https://open.spotify.com/track/4RVwu0g32PAqgUi...   \n",
       "125647        Bulgaria  https://open.spotify.com/track/4RVwu0g32PAqgUi...   \n",
       "125962  Czech Republic  https://open.spotify.com/track/4RVwu0g32PAqgUi...   \n",
       "126014         Denmark  https://open.spotify.com/track/4RVwu0g32PAqgUi...   \n",
       "...                ...                                                ...   \n",
       "843318         Romania  https://open.spotify.com/track/4RVwu0g32PAqgUi...   \n",
       "843364        Slovakia  https://open.spotify.com/track/4RVwu0g32PAqgUi...   \n",
       "843429           Spain  https://open.spotify.com/track/4RVwu0g32PAqgUi...   \n",
       "843502          Sweden  https://open.spotify.com/track/4RVwu0g32PAqgUi...   \n",
       "847852  United Kingdom  https://open.spotify.com/track/4RVwu0g32PAqgUi...   \n",
       "\n",
       "               Song_title         Artist        Date  Daily_rank_2021  \n",
       "125202  Happier Than Ever  Billie Eilish  2021-07-30               14  \n",
       "125249  Happier Than Ever  Billie Eilish  2021-07-30               11  \n",
       "125647  Happier Than Ever  Billie Eilish  2021-07-30                9  \n",
       "125962  Happier Than Ever  Billie Eilish  2021-07-30               24  \n",
       "126014  Happier Than Ever  Billie Eilish  2021-07-30               25  \n",
       "...                   ...            ...         ...              ...  \n",
       "843318  Happier Than Ever  Billie Eilish  2021-08-31               20  \n",
       "843364  Happier Than Ever  Billie Eilish  2021-08-31               16  \n",
       "843429  Happier Than Ever  Billie Eilish  2021-08-31               31  \n",
       "843502  Happier Than Ever  Billie Eilish  2021-08-31               46  \n",
       "847852  Happier Than Ever  Billie Eilish  2021-08-31               26  \n",
       "\n",
       "[2882 rows x 6 columns]"
      ]
     },
     "execution_count": 63,
     "metadata": {},
     "output_type": "execute_result"
    }
   ],
   "source": [
    "_21[_21['Song_title']== 'Happier Than Ever']"
   ]
  },
  {
   "cell_type": "code",
   "execution_count": 83,
   "id": "712ae708",
   "metadata": {},
   "outputs": [
    {
     "data": {
      "application/vnd.microsoft.datawrangler.viewer.v0+json": {
       "columns": [
        {
         "name": "Country",
         "rawType": "object",
         "type": "string"
        },
        {
         "name": "count",
         "rawType": "int64",
         "type": "integer"
        }
       ],
       "ref": "2a84e43e-3a63-4b4b-a513-9a96b2302d5c",
       "rows": [
        [
         "Belgium",
         "46"
        ],
        [
         "Latvia",
         "46"
        ],
        [
         "Ireland",
         "37"
        ],
        [
         "Netherlands",
         "37"
        ],
        [
         "Norway",
         "36"
        ]
       ],
       "shape": {
        "columns": 1,
        "rows": 5
       }
      },
      "text/plain": [
       "Country\n",
       "Belgium        46\n",
       "Latvia         46\n",
       "Ireland        37\n",
       "Netherlands    37\n",
       "Norway         36\n",
       "Name: count, dtype: int64"
      ]
     },
     "execution_count": 83,
     "metadata": {},
     "output_type": "execute_result"
    }
   ],
   "source": [
    "BEsong=_21[_21['Song_title']== 'Your Power']\n",
    "BEsong[\"Country\"].value_counts().head(5)"
   ]
  },
  {
   "cell_type": "code",
   "execution_count": 80,
   "id": "b4104c86",
   "metadata": {},
   "outputs": [
    {
     "data": {
      "application/vnd.microsoft.datawrangler.viewer.v0+json": {
       "columns": [
        {
         "name": "Country",
         "rawType": "object",
         "type": "string"
        },
        {
         "name": "count",
         "rawType": "int64",
         "type": "integer"
        }
       ],
       "ref": "e17f3363-0c4a-4f24-ad0e-cce865a07ca8",
       "rows": [
        [
         "Iceland",
         "177"
        ],
        [
         "Portugal",
         "165"
        ],
        [
         "United Kingdom",
         "155"
        ],
        [
         "Ireland",
         "148"
        ],
        [
         "Belgium",
         "144"
        ]
       ],
       "shape": {
        "columns": 1,
        "rows": 5
       }
      },
      "text/plain": [
       "Country\n",
       "Iceland           177\n",
       "Portugal          165\n",
       "United Kingdom    155\n",
       "Ireland           148\n",
       "Belgium           144\n",
       "Name: count, dtype: int64"
      ]
     },
     "execution_count": 80,
     "metadata": {},
     "output_type": "execute_result"
    }
   ],
   "source": [
    "BEsong=_21[_21['Song_title']== 'Happier Than Ever']\n",
    "BEsong[\"Country\"].value_counts().head(5)"
   ]
  },
  {
   "cell_type": "code",
   "execution_count": null,
   "id": "8a17ef1e",
   "metadata": {},
   "outputs": [
    {
     "data": {
      "application/vnd.microsoft.datawrangler.viewer.v0+json": {
       "columns": [
        {
         "name": "Country",
         "rawType": "object",
         "type": "string"
        },
        {
         "name": "count",
         "rawType": "int64",
         "type": "integer"
        }
       ],
       "ref": "f00c0c5a-0514-4773-916a-b2e61b031688",
       "rows": [
        [
         "Lithuania",
         "49"
        ],
        [
         "Estonia",
         "42"
        ],
        [
         "Latvia",
         "42"
        ],
        [
         "Iceland",
         "40"
        ],
        [
         "Norway",
         "34"
        ]
       ],
       "shape": {
        "columns": 1,
        "rows": 5
       }
      },
      "text/plain": [
       "Country\n",
       "Lithuania    49\n",
       "Estonia      42\n",
       "Latvia       42\n",
       "Iceland      40\n",
       "Norway       34\n",
       "Name: count, dtype: int64"
      ]
     },
     "execution_count": 79,
     "metadata": {},
     "output_type": "execute_result"
    }
   ],
   "source": [
    "BEsong=_21[_21['Song_title']== 'Therefore I Am']\n",
    "BEsong[\"Country\"].value_counts().head(5)"
   ]
  },
  {
   "cell_type": "markdown",
   "id": "cfbf436e",
   "metadata": {},
   "source": [
    "Top 5 Billie Eilish' songs in 2024"
   ]
  },
  {
   "cell_type": "code",
   "execution_count": 78,
   "id": "5bfdba75",
   "metadata": {},
   "outputs": [
    {
     "data": {
      "application/vnd.microsoft.datawrangler.viewer.v0+json": {
       "columns": [
        {
         "name": "Song_title",
         "rawType": "object",
         "type": "string"
        },
        {
         "name": "count",
         "rawType": "int64",
         "type": "integer"
        }
       ],
       "ref": "cabc285e-cfc9-4387-81a5-fa8804c2cea8",
       "rows": [
        [
         "BIRDS OF A FEATHER",
         "5214"
        ],
        [
         "WILDFLOWER",
         "1696"
        ],
        [
         "LUNCH",
         "1684"
        ],
        [
         "CHIHIRO",
         "1325"
        ],
        [
         "What Was I Made For? [From The Motion Picture \"Barbie\"]",
         "455"
        ]
       ],
       "shape": {
        "columns": 1,
        "rows": 5
       }
      },
      "text/plain": [
       "Song_title\n",
       "BIRDS OF A FEATHER                                         5214\n",
       "WILDFLOWER                                                 1696\n",
       "LUNCH                                                      1684\n",
       "CHIHIRO                                                    1325\n",
       "What Was I Made For? [From The Motion Picture \"Barbie\"]     455\n",
       "Name: count, dtype: int64"
      ]
     },
     "execution_count": 78,
     "metadata": {},
     "output_type": "execute_result"
    }
   ],
   "source": [
    "song=_24[_24['Artist']== \"Billie Eilish\"]\n",
    "song['Song_title'].value_counts().head(5)"
   ]
  },
  {
   "cell_type": "code",
   "execution_count": 76,
   "id": "a39fd161",
   "metadata": {},
   "outputs": [
    {
     "data": {
      "application/vnd.microsoft.datawrangler.viewer.v0+json": {
       "columns": [
        {
         "name": "Country",
         "rawType": "object",
         "type": "string"
        },
        {
         "name": "count",
         "rawType": "int64",
         "type": "integer"
        }
       ],
       "ref": "e8fa2304-38fe-42e1-b362-c93f2fe9ea3f",
       "rows": [
        [
         "latvia",
         "115"
        ],
        [
         "ukraine",
         "113"
        ],
        [
         "lithuania",
         "111"
        ],
        [
         "united kingdom",
         "100"
        ],
        [
         "ireland",
         "98"
        ]
       ],
       "shape": {
        "columns": 1,
        "rows": 5
       }
      },
      "text/plain": [
       "Country\n",
       "latvia            115\n",
       "ukraine           113\n",
       "lithuania         111\n",
       "united kingdom    100\n",
       "ireland            98\n",
       "Name: count, dtype: int64"
      ]
     },
     "execution_count": 76,
     "metadata": {},
     "output_type": "execute_result"
    }
   ],
   "source": [
    "BEsong=_24[_24['Song_title']== 'LUNCH']\n",
    "BEsong[\"Country\"].value_counts().head(5)"
   ]
  },
  {
   "cell_type": "code",
   "execution_count": 75,
   "id": "32a17454",
   "metadata": {},
   "outputs": [
    {
     "data": {
      "application/vnd.microsoft.datawrangler.viewer.v0+json": {
       "columns": [
        {
         "name": "Country",
         "rawType": "object",
         "type": "string"
        },
        {
         "name": "count",
         "rawType": "int64",
         "type": "integer"
        }
       ],
       "ref": "60cf55f8-9f15-4556-8c0e-9e8fe7674a81",
       "rows": [
        [
         "belgium",
         "135"
        ],
        [
         "switzerland",
         "134"
        ],
        [
         "united kingdom",
         "132"
        ],
        [
         "norway",
         "132"
        ],
        [
         "lithuania",
         "118"
        ]
       ],
       "shape": {
        "columns": 1,
        "rows": 5
       }
      },
      "text/plain": [
       "Country\n",
       "belgium           135\n",
       "switzerland       134\n",
       "united kingdom    132\n",
       "norway            132\n",
       "lithuania         118\n",
       "Name: count, dtype: int64"
      ]
     },
     "execution_count": 75,
     "metadata": {},
     "output_type": "execute_result"
    }
   ],
   "source": [
    "BEsong=_24[_24['Song_title']== 'WILDFLOWER']\n",
    "BEsong[\"Country\"].value_counts().head(5)"
   ]
  },
  {
   "cell_type": "code",
   "execution_count": 74,
   "id": "96b7247c",
   "metadata": {},
   "outputs": [
    {
     "data": {
      "application/vnd.microsoft.datawrangler.viewer.v0+json": {
       "columns": [
        {
         "name": "Country",
         "rawType": "object",
         "type": "string"
        },
        {
         "name": "count",
         "rawType": "int64",
         "type": "integer"
        }
       ],
       "ref": "6a2ec97e-f496-4f46-8455-e609183b40cf",
       "rows": [
        [
         "portugal",
         "217"
        ],
        [
         "estonia",
         "217"
        ],
        [
         "ireland",
         "216"
        ],
        [
         "lithuania",
         "216"
        ],
        [
         "switzerland",
         "216"
        ]
       ],
       "shape": {
        "columns": 1,
        "rows": 5
       }
      },
      "text/plain": [
       "Country\n",
       "portugal       217\n",
       "estonia        217\n",
       "ireland        216\n",
       "lithuania      216\n",
       "switzerland    216\n",
       "Name: count, dtype: int64"
      ]
     },
     "execution_count": 74,
     "metadata": {},
     "output_type": "execute_result"
    }
   ],
   "source": [
    "BEsong=_24[_24['Song_title']== 'BIRDS OF A FEATHER']\n",
    "BEsong[\"Country\"].value_counts().head(5)"
   ]
  }
 ],
 "metadata": {
  "kernelspec": {
   "display_name": "mid_project",
   "language": "python",
   "name": "python3"
  },
  "language_info": {
   "codemirror_mode": {
    "name": "ipython",
    "version": 3
   },
   "file_extension": ".py",
   "mimetype": "text/x-python",
   "name": "python",
   "nbconvert_exporter": "python",
   "pygments_lexer": "ipython3",
   "version": "3.12.7"
  }
 },
 "nbformat": 4,
 "nbformat_minor": 5
}
